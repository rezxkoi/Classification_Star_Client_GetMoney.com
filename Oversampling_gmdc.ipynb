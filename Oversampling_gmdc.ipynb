{
 "cells": [
  {
   "cell_type": "code",
   "execution_count": 1,
   "id": "161af283",
   "metadata": {},
   "outputs": [],
   "source": [
    "# munging imports\n",
    "import pandas as pd\n",
    "import numpy as np\n",
    "\n",
    "# visualization imports\n",
    "import matplotlib.pyplot as plt\n",
    "import seaborn as sns\n",
    "plt.style.use('fivethirtyeight')\n",
    "\n",
    "%matplotlib inline\n",
    "\n",
    "# modeling imports\n",
    "from sklearn.linear_model import LogisticRegression\n",
    "from sklearn.model_selection import train_test_split\n",
    "from sklearn.metrics import precision_score, recall_score, accuracy_score, roc_auc_score\n",
    "from sklearn.metrics import confusion_matrix\n",
    "from sklearn.preprocessing import StandardScaler"
   ]
  },
  {
   "cell_type": "code",
   "execution_count": 2,
   "id": "51dd84f4",
   "metadata": {},
   "outputs": [],
   "source": [
    "df= pd.read_csv('gmdc_df_dum.csv')"
   ]
  },
  {
   "cell_type": "code",
   "execution_count": 3,
   "id": "62abc5ab",
   "metadata": {},
   "outputs": [
    {
     "data": {
      "text/html": [
       "<div>\n",
       "<style scoped>\n",
       "    .dataframe tbody tr th:only-of-type {\n",
       "        vertical-align: middle;\n",
       "    }\n",
       "\n",
       "    .dataframe tbody tr th {\n",
       "        vertical-align: top;\n",
       "    }\n",
       "\n",
       "    .dataframe thead th {\n",
       "        text-align: right;\n",
       "    }\n",
       "</style>\n",
       "<table border=\"1\" class=\"dataframe\">\n",
       "  <thead>\n",
       "    <tr style=\"text-align: right;\">\n",
       "      <th></th>\n",
       "      <th>Star Client</th>\n",
       "      <th>Requested Loan Amount</th>\n",
       "      <th>Age</th>\n",
       "      <th>Monthly  Income</th>\n",
       "      <th>Duration_Mod_Cre</th>\n",
       "      <th>Income Source_Benefits</th>\n",
       "      <th>Income Source_Job Employment</th>\n",
       "      <th>Income Source_Self Employed</th>\n",
       "      <th>Income Source_Unemployed</th>\n",
       "      <th>Loan Type_Installment</th>\n",
       "      <th>...</th>\n",
       "      <th>Created Time Braket_Afternoon</th>\n",
       "      <th>Created Time Braket_Evening</th>\n",
       "      <th>Created Time Braket_Morning</th>\n",
       "      <th>Created Time Braket_Night</th>\n",
       "      <th>State_Arm Force</th>\n",
       "      <th>State_Midwest</th>\n",
       "      <th>State_Northeast</th>\n",
       "      <th>State_Southeast</th>\n",
       "      <th>State_Southwest</th>\n",
       "      <th>State_West</th>\n",
       "    </tr>\n",
       "  </thead>\n",
       "  <tbody>\n",
       "    <tr>\n",
       "      <th>0</th>\n",
       "      <td>0</td>\n",
       "      <td>500.0</td>\n",
       "      <td>56.000000</td>\n",
       "      <td>1000.0</td>\n",
       "      <td>1586:32:00</td>\n",
       "      <td>0</td>\n",
       "      <td>1</td>\n",
       "      <td>0</td>\n",
       "      <td>0</td>\n",
       "      <td>0</td>\n",
       "      <td>...</td>\n",
       "      <td>0</td>\n",
       "      <td>0</td>\n",
       "      <td>1</td>\n",
       "      <td>0</td>\n",
       "      <td>0</td>\n",
       "      <td>0</td>\n",
       "      <td>0</td>\n",
       "      <td>1</td>\n",
       "      <td>0</td>\n",
       "      <td>0</td>\n",
       "    </tr>\n",
       "    <tr>\n",
       "      <th>1</th>\n",
       "      <td>0</td>\n",
       "      <td>100.0</td>\n",
       "      <td>38.814992</td>\n",
       "      <td>1000.0</td>\n",
       "      <td>17351:23:00</td>\n",
       "      <td>0</td>\n",
       "      <td>1</td>\n",
       "      <td>0</td>\n",
       "      <td>0</td>\n",
       "      <td>0</td>\n",
       "      <td>...</td>\n",
       "      <td>0</td>\n",
       "      <td>0</td>\n",
       "      <td>1</td>\n",
       "      <td>0</td>\n",
       "      <td>0</td>\n",
       "      <td>0</td>\n",
       "      <td>0</td>\n",
       "      <td>0</td>\n",
       "      <td>1</td>\n",
       "      <td>0</td>\n",
       "    </tr>\n",
       "    <tr>\n",
       "      <th>2</th>\n",
       "      <td>0</td>\n",
       "      <td>500.0</td>\n",
       "      <td>58.000000</td>\n",
       "      <td>5000.0</td>\n",
       "      <td>563:34:00</td>\n",
       "      <td>0</td>\n",
       "      <td>1</td>\n",
       "      <td>0</td>\n",
       "      <td>0</td>\n",
       "      <td>0</td>\n",
       "      <td>...</td>\n",
       "      <td>1</td>\n",
       "      <td>0</td>\n",
       "      <td>0</td>\n",
       "      <td>0</td>\n",
       "      <td>0</td>\n",
       "      <td>0</td>\n",
       "      <td>1</td>\n",
       "      <td>0</td>\n",
       "      <td>0</td>\n",
       "      <td>0</td>\n",
       "    </tr>\n",
       "    <tr>\n",
       "      <th>3</th>\n",
       "      <td>0</td>\n",
       "      <td>400.0</td>\n",
       "      <td>28.000000</td>\n",
       "      <td>2500.0</td>\n",
       "      <td>764:22:00</td>\n",
       "      <td>0</td>\n",
       "      <td>1</td>\n",
       "      <td>0</td>\n",
       "      <td>0</td>\n",
       "      <td>0</td>\n",
       "      <td>...</td>\n",
       "      <td>0</td>\n",
       "      <td>1</td>\n",
       "      <td>0</td>\n",
       "      <td>0</td>\n",
       "      <td>0</td>\n",
       "      <td>1</td>\n",
       "      <td>0</td>\n",
       "      <td>0</td>\n",
       "      <td>0</td>\n",
       "      <td>0</td>\n",
       "    </tr>\n",
       "    <tr>\n",
       "      <th>4</th>\n",
       "      <td>0</td>\n",
       "      <td>400.0</td>\n",
       "      <td>44.000000</td>\n",
       "      <td>2000.0</td>\n",
       "      <td>1605:35:00</td>\n",
       "      <td>0</td>\n",
       "      <td>1</td>\n",
       "      <td>0</td>\n",
       "      <td>0</td>\n",
       "      <td>0</td>\n",
       "      <td>...</td>\n",
       "      <td>1</td>\n",
       "      <td>0</td>\n",
       "      <td>0</td>\n",
       "      <td>0</td>\n",
       "      <td>0</td>\n",
       "      <td>0</td>\n",
       "      <td>0</td>\n",
       "      <td>0</td>\n",
       "      <td>1</td>\n",
       "      <td>0</td>\n",
       "    </tr>\n",
       "  </tbody>\n",
       "</table>\n",
       "<p>5 rows × 42 columns</p>\n",
       "</div>"
      ],
      "text/plain": [
       "   Star Client  Requested Loan Amount        Age  Monthly  Income  \\\n",
       "0            0                  500.0  56.000000           1000.0   \n",
       "1            0                  100.0  38.814992           1000.0   \n",
       "2            0                  500.0  58.000000           5000.0   \n",
       "3            0                  400.0  28.000000           2500.0   \n",
       "4            0                  400.0  44.000000           2000.0   \n",
       "\n",
       "  Duration_Mod_Cre  Income Source_Benefits  Income Source_Job Employment  \\\n",
       "0       1586:32:00                       0                             1   \n",
       "1      17351:23:00                       0                             1   \n",
       "2        563:34:00                       0                             1   \n",
       "3        764:22:00                       0                             1   \n",
       "4       1605:35:00                       0                             1   \n",
       "\n",
       "   Income Source_Self Employed  Income Source_Unemployed  \\\n",
       "0                            0                         0   \n",
       "1                            0                         0   \n",
       "2                            0                         0   \n",
       "3                            0                         0   \n",
       "4                            0                         0   \n",
       "\n",
       "   Loan Type_Installment  ...  Created Time Braket_Afternoon  \\\n",
       "0                      0  ...                              0   \n",
       "1                      0  ...                              0   \n",
       "2                      0  ...                              1   \n",
       "3                      0  ...                              0   \n",
       "4                      0  ...                              1   \n",
       "\n",
       "   Created Time Braket_Evening  Created Time Braket_Morning  \\\n",
       "0                            0                            1   \n",
       "1                            0                            1   \n",
       "2                            0                            0   \n",
       "3                            1                            0   \n",
       "4                            0                            0   \n",
       "\n",
       "   Created Time Braket_Night  State_Arm Force  State_Midwest  State_Northeast  \\\n",
       "0                          0                0              0                0   \n",
       "1                          0                0              0                0   \n",
       "2                          0                0              0                1   \n",
       "3                          0                0              1                0   \n",
       "4                          0                0              0                0   \n",
       "\n",
       "   State_Southeast  State_Southwest  State_West  \n",
       "0                1                0           0  \n",
       "1                0                1           0  \n",
       "2                0                0           0  \n",
       "3                0                0           0  \n",
       "4                0                1           0  \n",
       "\n",
       "[5 rows x 42 columns]"
      ]
     },
     "execution_count": 3,
     "metadata": {},
     "output_type": "execute_result"
    }
   ],
   "source": [
    "df.head()"
   ]
  },
  {
   "cell_type": "code",
   "execution_count": 4,
   "id": "26270ee6",
   "metadata": {},
   "outputs": [],
   "source": [
    "df.drop('Duration_Mod_Cre', axis=1, inplace=True)"
   ]
  },
  {
   "cell_type": "code",
   "execution_count": 5,
   "id": "6e548c45",
   "metadata": {},
   "outputs": [],
   "source": [
    "df_normalized = df.loc[:,['Star Client', 'Requested Loan Amount', 'Age', 'Monthly  Income', 'Income Source_Benefits',\n",
    "       'Income Source_Job Employment', 'Income Source_Self Employed',\n",
    "       'Income Source_Unemployed', 'Loan Type_Installment', 'Loan Type_Payday',\n",
    "       'Loan Type_Personal Loan', 'Credit Type_No sure',\n",
    "       'Credit Type_excellent', 'Credit Type_fair', 'Credit Type_good',\n",
    "       'Credit Type_poor', 'Car Owner_No', 'Car Owner_Yes',\n",
    "       'Returning Client_No', 'Returning Client_Yes', 'Home Owner_No',\n",
    "       'Home Owner_Yes', 'Armed forces_No', 'Armed forces_Yes',\n",
    "       'Created DOW_Friday', 'Created DOW_Monday', 'Created DOW_Saturday',\n",
    "       'Created DOW_Sunday', 'Created DOW_Thursday', 'Created DOW_Tuesday',\n",
    "       'Created DOW_Wednesday', 'Created Time Braket_Afternoon',\n",
    "       'Created Time Braket_Evening', 'Created Time Braket_Morning',\n",
    "       'Created Time Braket_Night', 'State_Arm Force', 'State_Midwest',\n",
    "       'State_Northeast', 'State_Southeast', 'State_Southwest', 'State_West']]"
   ]
  },
  {
   "cell_type": "code",
   "execution_count": 6,
   "id": "06e33f77",
   "metadata": {},
   "outputs": [],
   "source": [
    "#Separate our features from our target\n",
    "\n",
    "X = df_normalized.loc[:,['Requested Loan Amount', 'Age',\n",
    "       'Monthly  Income', 'Income Source_Benefits',\n",
    "       'Income Source_Job Employment', 'Income Source_Self Employed',\n",
    "       'Income Source_Unemployed', 'Loan Type_Installment', 'Loan Type_Payday',\n",
    "       'Loan Type_Personal Loan', 'Credit Type_No sure',\n",
    "       'Credit Type_excellent', 'Credit Type_fair', 'Credit Type_good',\n",
    "       'Credit Type_poor', 'Car Owner_No', 'Car Owner_Yes',\n",
    "       'Returning Client_No', 'Returning Client_Yes', 'Home Owner_No',\n",
    "       'Home Owner_Yes', 'Armed forces_No', 'Armed forces_Yes',\n",
    "       'Created DOW_Friday', 'Created DOW_Monday', 'Created DOW_Saturday',\n",
    "       'Created DOW_Sunday', 'Created DOW_Thursday', 'Created DOW_Tuesday',\n",
    "       'Created DOW_Wednesday', 'Created Time Braket_Afternoon',\n",
    "       'Created Time Braket_Evening', 'Created Time Braket_Morning',\n",
    "       'Created Time Braket_Night', 'State_Arm Force', 'State_Midwest',\n",
    "       'State_Northeast', 'State_Southeast', 'State_Southwest', 'State_West']]\n",
    "\n",
    "y = df_normalized['Star Client']"
   ]
  },
  {
   "cell_type": "code",
   "execution_count": 7,
   "id": "229e037d",
   "metadata": {},
   "outputs": [],
   "source": [
    "#Split the data 60 - 20 - 20 train/val/test\n",
    "\n",
    "X_train_val, X_test, y_train_val, y_test = train_test_split(X, y, test_size=0.2,random_state=42)\n",
    "X_train, X_val, y_train, y_val = train_test_split(X_train_val, y_train_val, test_size=.25, random_state=42)"
   ]
  },
  {
   "cell_type": "markdown",
   "id": "ebda6e9f",
   "metadata": {},
   "source": [
    "### Standard Scaling "
   ]
  },
  {
   "cell_type": "code",
   "execution_count": 8,
   "id": "d83fe82a",
   "metadata": {},
   "outputs": [],
   "source": [
    "from sklearn.pipeline import Pipeline\n",
    "from sklearn.preprocessing import StandardScaler"
   ]
  },
  {
   "cell_type": "code",
   "execution_count": 9,
   "id": "b75a7f34",
   "metadata": {},
   "outputs": [
    {
     "data": {
      "text/plain": [
       "StandardScaler()"
      ]
     },
     "execution_count": 9,
     "metadata": {},
     "output_type": "execute_result"
    }
   ],
   "source": [
    "#Training Data\n",
    "## This step fits the Standard Scaler to the training data\n",
    "## Essentially it finds the mean and standard deviation of each variable in the training set\n",
    "\n",
    "std = StandardScaler()\n",
    "std.fit(X_train.values)"
   ]
  },
  {
   "cell_type": "code",
   "execution_count": 10,
   "id": "cae7e17f",
   "metadata": {},
   "outputs": [],
   "source": [
    "## This step applies the scaler to the train set.\n",
    "## It subtracts the mean it learned in the previous step and then divides by the standard deviation\n",
    "\n",
    "X_tr = std.transform(X_train.values)"
   ]
  },
  {
   "cell_type": "code",
   "execution_count": 11,
   "id": "419589d2",
   "metadata": {},
   "outputs": [],
   "source": [
    "#Validation\n",
    "X_tr_val = std.transform(X_val.values)"
   ]
  },
  {
   "cell_type": "code",
   "execution_count": 12,
   "id": "ec587cee",
   "metadata": {},
   "outputs": [],
   "source": [
    "#Test\n",
    "X_te = std.transform(X_test.values)"
   ]
  },
  {
   "cell_type": "markdown",
   "id": "61216e0b",
   "metadata": {},
   "source": [
    "## Oversampling"
   ]
  },
  {
   "cell_type": "code",
   "execution_count": 13,
   "id": "f0a5a039",
   "metadata": {},
   "outputs": [
    {
     "name": "stdout",
     "output_type": "stream",
     "text": [
      "Simple Logistic Regression; Test F1: 0.000, Test AUC: 0.742\n",
      "Logistic Regression on Oversampled Train Data; Test F1: 0.247, Test AUC: 0.746\n"
     ]
    }
   ],
   "source": [
    "import imblearn.over_sampling\n",
    "from sklearn.metrics import f1_score, roc_auc_score\n",
    "\n",
    "# setup for the ratio argument of RandomOverSampler initialization\n",
    "n_pos = np.sum(y_train == 1)\n",
    "n_neg = np.sum(y_train == 0)\n",
    "ratio = {1 : n_pos * 4, 0 : n_neg} \n",
    "\n",
    "# randomly oversample positive samples: create 4x as many \n",
    "ROS = imblearn.over_sampling.RandomOverSampler(sampling_strategy = ratio, random_state=42) \n",
    "    \n",
    "X_tr_rs, y_tr_rs = ROS.fit_resample(X_tr, y_train)\n",
    "\n",
    "lr = LogisticRegression(solver='liblinear') \n",
    "lr.fit(X_tr, y_train)\n",
    "\n",
    "print('Simple Logistic Regression; Test F1: %.3f, Test AUC: %.3f' % \\\n",
    "      (f1_score(y_val, lr.predict(X_tr_val)), roc_auc_score(y_val, lr.predict_proba(X_tr_val)[:,1]))) \n",
    "\n",
    "lr_os = LogisticRegression(solver='liblinear') \n",
    "lr_os.fit(X_tr_rs, y_tr_rs)\n",
    "\n",
    "print('Logistic Regression on Oversampled Train Data; Test F1: %.3f, Test AUC: %.3f' % \\\n",
    "      (f1_score(y_val, lr_os.predict(X_tr_val)), roc_auc_score(y_val, lr_os.predict_proba(X_tr_val)[:,1])))"
   ]
  },
  {
   "cell_type": "code",
   "execution_count": 14,
   "id": "7ec4cb36",
   "metadata": {},
   "outputs": [
    {
     "name": "stdout",
     "output_type": "stream",
     "text": [
      "0    0.78739\n",
      "1    0.21261\n",
      "Name: Star Client, dtype: float64\n"
     ]
    },
    {
     "data": {
      "image/png": "[encoded data removed]",
      "text/plain": [
       "<Figure size 432x288 with 1 Axes>"
      ]
     },
     "metadata": {
      "needs_background": "light"
     },
     "output_type": "display_data"
    }
   ],
   "source": [
    "clients = y_tr_rs.value_counts(normalize=True) \n",
    "print(clients)\n",
    "\n",
    "clients.plot(kind='bar', color=['limegreen', 'darkorange'], ylabel='Percentage');\n",
    "plt.legend(['Not Star', 'Star'], loc=\"upper right\");\n",
    "plt.title('Ratio of Star Clients to Regular', fontdict = {'fontsize' : 14});"
   ]
  },
  {
   "cell_type": "code",
   "execution_count": 36,
   "id": "565ac5ff",
   "metadata": {},
   "outputs": [
    {
     "data": {
      "text/plain": [
       "0    6105\n",
       "1     405\n",
       "Name: Star Client, dtype: int64"
      ]
     },
     "execution_count": 36,
     "metadata": {},
     "output_type": "execute_result"
    }
   ],
   "source": [
    "df_normalized['Star Client'].value_counts()"
   ]
  },
  {
   "cell_type": "code",
   "execution_count": 77,
   "id": "de5fa927",
   "metadata": {},
   "outputs": [
    {
     "data": {
      "text/plain": [
       "(4647, 40)"
      ]
     },
     "execution_count": 77,
     "metadata": {},
     "output_type": "execute_result"
    }
   ],
   "source": [
    "X_tr_rs.shape"
   ]
  },
  {
   "cell_type": "code",
   "execution_count": 78,
   "id": "b4147e44",
   "metadata": {},
   "outputs": [
    {
     "data": {
      "text/plain": [
       "(4647,)"
      ]
     },
     "execution_count": 78,
     "metadata": {},
     "output_type": "execute_result"
    }
   ],
   "source": [
    "y_tr_rs.shape"
   ]
  },
  {
   "cell_type": "markdown",
   "id": "641ecfb6",
   "metadata": {},
   "source": [
    "## SMOTE\n"
   ]
  },
  {
   "cell_type": "code",
   "execution_count": 15,
   "id": "0afa2dae",
   "metadata": {},
   "outputs": [
    {
     "name": "stdout",
     "output_type": "stream",
     "text": [
      "Logistic Regression on SMOTE Train Data; Test F1: 0.226, Test AUC: 0.743\n"
     ]
    }
   ],
   "source": [
    "smote = imblearn.over_sampling.SMOTE(sampling_strategy=ratio, random_state = 42)\n",
    "    \n",
    "X_tr_smote, y_tr_smote = smote.fit_resample(X_tr, y_train)\n",
    "\n",
    "lr_smote = LogisticRegression(solver='liblinear') \n",
    "lr_smote.fit(X_tr_smote, y_tr_smote)\n",
    "\n",
    "print('Logistic Regression on SMOTE Train Data; Test F1: %.3f, Test AUC: %.3f' % \\\n",
    "      (f1_score(y_val, lr_smote.predict(X_tr_val)), roc_auc_score(y_val, lr_smote.predict_proba(X_tr_val)[:,1])))"
   ]
  },
  {
   "cell_type": "code",
   "execution_count": 79,
   "id": "d1daa5b5",
   "metadata": {},
   "outputs": [
    {
     "data": {
      "text/plain": [
       "'clients =  y_tr_smote.value_counts(normalize=True) \\nprint(clients)\\n\\nclients.plot(kind=\\'bar\\', color=[\\'limegreen\\', \\'darkorange\\'], ylabel=\\'Percentage\\');\\nplt.legend([\\'Not Star\\', \\'Star\\'], loc=\"upper right\");\\nplt.title(\\'Ratio of Star Clients to Regular\\', fontdict = {\\'fontsize\\' : 14});'"
      ]
     },
     "execution_count": 79,
     "metadata": {},
     "output_type": "execute_result"
    }
   ],
   "source": [
    "'''clients =  y_tr_smote.value_counts(normalize=True) \n",
    "print(clients)\n",
    "\n",
    "clients.plot(kind='bar', color=['limegreen', 'darkorange'], ylabel='Percentage');\n",
    "plt.legend(['Not Star', 'Star'], loc=\"upper right\");\n",
    "plt.title('Ratio of Star Clients to Regular', fontdict = {'fontsize' : 14});'''"
   ]
  },
  {
   "cell_type": "markdown",
   "id": "4cbba30e",
   "metadata": {},
   "source": [
    "## Between Oversampling and SMOTE ---> Oversample"
   ]
  },
  {
   "cell_type": "markdown",
   "id": "8290f81c",
   "metadata": {},
   "source": [
    "### KNN \n",
    "with oversampling parameteres "
   ]
  },
  {
   "cell_type": "code",
   "execution_count": 20,
   "id": "7644fa7e",
   "metadata": {},
   "outputs": [],
   "source": [
    "from sklearn.metrics import classification_report\n",
    "from sklearn.metrics import precision_score, recall_score, precision_recall_curve,f1_score, fbeta_score\n",
    "from sklearn.metrics import confusion_matrix\n",
    "from sklearn.metrics import roc_auc_score, roc_curve\n",
    "from sklearn.metrics import roc_curve, auc\n",
    "from sklearn.neighbors import KNeighborsClassifier"
   ]
  },
  {
   "cell_type": "code",
   "execution_count": 21,
   "id": "6f508bee",
   "metadata": {},
   "outputs": [
    {
     "name": "stdout",
     "output_type": "stream",
     "text": [
      "              precision    recall  f1-score   support\n",
      "\n",
      "           0       0.95      0.88      0.91      1228\n",
      "           1       0.11      0.26      0.16        74\n",
      "\n",
      "    accuracy                           0.84      1302\n",
      "   macro avg       0.53      0.57      0.53      1302\n",
      "weighted avg       0.90      0.84      0.87      1302\n",
      "\n"
     ]
    }
   ],
   "source": [
    "# initiate model and calculate error metrics\n",
    "knn = KNeighborsClassifier()\n",
    "knn.fit(X_tr_rs, y_tr_rs)\n",
    "knn_pred = knn.predict(X_tr_val)\n",
    "knn_confusion = confusion_matrix(y_val,knn_pred)\n",
    "\n",
    "knn_ac = knn.score(X_tr_val, y_val)\n",
    "knn_precision = precision_score(y_val, knn_pred)\n",
    "knn_recall = recall_score(y_val, knn_pred)\n",
    "knn_f1 = f1_score(y_val, knn_pred)\n",
    "\n",
    "print(classification_report(y_val, knn_pred))"
   ]
  },
  {
   "cell_type": "code",
   "execution_count": 22,
   "id": "0e6e48e7",
   "metadata": {},
   "outputs": [
    {
     "name": "stdout",
     "output_type": "stream",
     "text": [
      "KNN validation metrics: \n",
      " Accuracy: 0.8418 \n",
      " Precision: 0.1118 \n",
      " Recall: 0.2568 \n",
      " F1: 0.1557\n"
     ]
    }
   ],
   "source": [
    "print('KNN validation metrics: \\n Accuracy: %.4f \\n Precision: %.4f \\n Recall: %.4f \\n F1: %.4f' %\n",
    "        (knn_ac, \n",
    "         knn_precision, \n",
    "         knn_recall,\n",
    "         knn_f1)\n",
    "     )"
   ]
  },
  {
   "cell_type": "code",
   "execution_count": 23,
   "id": "6ecf45c7",
   "metadata": {},
   "outputs": [
    {
     "name": "stdout",
     "output_type": "stream",
     "text": [
      "0.605153402588256\n"
     ]
    }
   ],
   "source": [
    "knn_y_score = knn.predict_proba(X_tr_val)[:,1]\n",
    "knn_fpr, knn_tpr, knn_auc_thresholds = roc_curve(y_val, knn_y_score)\n",
    "roc_auc_knn = auc(knn_fpr, knn_tpr)\n",
    "print(roc_auc_knn)"
   ]
  },
  {
   "cell_type": "code",
   "execution_count": 80,
   "id": "a5a91667",
   "metadata": {},
   "outputs": [],
   "source": [
    "def make_confusion_matrix(model, threshold=0.50):\n",
    "    # Predict class 1 if probability of being in class 1 is greater than threshold\n",
    "    # (model.predict(X_test) does this automatically with a threshold of 0.5)\n",
    "    y_predict = (model.predict_proba(X_tr_rs)[:, 1] >= threshold)\n",
    "    fraud_confusion = confusion_matrix(y_tr_rs, y_predict)\n",
    "    plt.figure(dpi=80)\n",
    "    sns.heatmap(fraud_confusion, cmap=plt.cm.Blues, annot=True, square=True, fmt='d',\n",
    "           xticklabels=['Regular', 'Star'],\n",
    "           yticklabels=['Regular', 'Star']);\n",
    "    plt.xlabel('prediction')\n",
    "    plt.ylabel('actual')"
   ]
  },
  {
   "cell_type": "code",
   "execution_count": 81,
   "id": "a2a19ba1",
   "metadata": {},
   "outputs": [
    {
     "data": {
      "image/png": "[encoded data removed]",
      "text/plain": [
       "<Figure size 480x320 with 2 Axes>"
      ]
     },
     "metadata": {
      "needs_background": "light"
     },
     "output_type": "display_data"
    }
   ],
   "source": [
    "make_confusion_matrix(knn)"
   ]
  },
  {
   "cell_type": "markdown",
   "id": "3b16a4f0",
   "metadata": {},
   "source": [
    "### Logistic Regression\n",
    "with oversampling parameters"
   ]
  },
  {
   "cell_type": "code",
   "execution_count": 82,
   "id": "b5703c80",
   "metadata": {},
   "outputs": [
    {
     "name": "stdout",
     "output_type": "stream",
     "text": [
      "              precision    recall  f1-score   support\n",
      "\n",
      "           0       0.95      0.96      0.96      1228\n",
      "           1       0.25      0.24      0.25        74\n",
      "\n",
      "    accuracy                           0.92      1302\n",
      "   macro avg       0.60      0.60      0.60      1302\n",
      "weighted avg       0.91      0.92      0.91      1302\n",
      "\n"
     ]
    }
   ],
   "source": [
    "lr = LogisticRegression()\n",
    "lr.fit(X_tr_rs, y_tr_rs)\n",
    "lr_pred = lr.predict(X_tr_val)\n",
    "\n",
    "lr_ac = lr.score(X_tr_val, y_val)\n",
    "lr_precision = precision_score(y_val, lr_pred)\n",
    "lr_recall = recall_score(y_val, lr_pred)\n",
    "lr_f1 = f1_score(y_val, lr_pred)\n",
    "\n",
    "print(classification_report(y_val, lr_pred))"
   ]
  },
  {
   "cell_type": "code",
   "execution_count": 83,
   "id": "65e7d53f",
   "metadata": {},
   "outputs": [
    {
     "name": "stdout",
     "output_type": "stream",
     "text": [
      "Logistic Regression validation metrics: \n",
      " Accuracy: 0.9155 \n",
      " Precision: 0.2500 \n",
      " Recall: 0.2432 \n",
      " F1: 0.2466\n"
     ]
    }
   ],
   "source": [
    "print('Logistic Regression validation metrics: \\n Accuracy: %.4f \\n Precision: %.4f \\n Recall: %.4f \\n F1: %.4f' %\n",
    "        (lr_ac, \n",
    "         lr_precision, \n",
    "         lr_recall,\n",
    "         lr_f1)\n",
    "     )"
   ]
  },
  {
   "cell_type": "code",
   "execution_count": 84,
   "id": "13f33501",
   "metadata": {},
   "outputs": [
    {
     "name": "stdout",
     "output_type": "stream",
     "text": [
      "0.7455266748833523\n"
     ]
    }
   ],
   "source": [
    "lr_y_score = lr.predict_proba(X_tr_val)[:,1]\n",
    "lr_fpr, lr_tpr, lr_auc_thresholds = roc_curve(y_val, lr_y_score)\n",
    "roc_auc_lr = auc(lr_fpr, lr_tpr)\n",
    "print(roc_auc_lr)"
   ]
  },
  {
   "cell_type": "code",
   "execution_count": 85,
   "id": "c8d30096",
   "metadata": {},
   "outputs": [
    {
     "data": {
      "text/plain": [
       "\"#F2\\n# calculate the f2-measure\\nfrom sklearn.metrics import fbeta_score\\nfrom sklearn.metrics import f1_score\\nfrom sklearn.metrics import precision_score\\nfrom sklearn.metrics import recall_score\\n# perfect precision, 50% recall\\n#y_true = [0, 0, 0, 0, 0, 1, 1, 1, 1, 1]\\n#y_pred = [1, 1, 1, 1, 1, 1, 1, 1, 1, 1]\\np = precision_score(y_val, lr_pred)\\nr = recall_score(y_val, lr_pred)\\nf = fbeta_score(y_val, lr_pred, beta=.1)\\nprint('Result: p=%.3f, r=%.3f, f2=%.3f' % (p, r, f))\""
      ]
     },
     "execution_count": 85,
     "metadata": {},
     "output_type": "execute_result"
    }
   ],
   "source": [
    "'''#F2\n",
    "# calculate the f2-measure\n",
    "from sklearn.metrics import fbeta_score\n",
    "from sklearn.metrics import f1_score\n",
    "from sklearn.metrics import precision_score\n",
    "from sklearn.metrics import recall_score\n",
    "# perfect precision, 50% recall\n",
    "#y_true = [0, 0, 0, 0, 0, 1, 1, 1, 1, 1]\n",
    "#y_pred = [1, 1, 1, 1, 1, 1, 1, 1, 1, 1]\n",
    "p = precision_score(y_val, lr_pred)\n",
    "r = recall_score(y_val, lr_pred)\n",
    "f = fbeta_score(y_val, lr_pred, beta=.1)\n",
    "print('Result: p=%.3f, r=%.3f, f2=%.3f' % (p, r, f))'''"
   ]
  },
  {
   "cell_type": "code",
   "execution_count": 86,
   "id": "26acfb71",
   "metadata": {},
   "outputs": [
    {
     "data": {
      "text/plain": [
       "\"#from sklearn.metrics import precision_score, recall_score, precision_recall_curve,f1_score, fbeta_score\\n#precision_curve, recall_curve, threshold_curve = precision_recall_curve(y_test, lm.predict_proba(X_te)[:,1] )\\n\\nplt.figure(dpi=80)\\nplt.plot(lr_auc_thresholds, lr_tpr,label='precision')\\nplt.plot(lr_auc_thresholds, lr_fpr, label='recall')\\nplt.legend(loc='lower left')\\nplt.xlabel('Threshold (above this probability, label as fraud)');\\nplt.title('Precision and Recall Curves');\""
      ]
     },
     "execution_count": 86,
     "metadata": {},
     "output_type": "execute_result"
    }
   ],
   "source": [
    "'''#from sklearn.metrics import precision_score, recall_score, precision_recall_curve,f1_score, fbeta_score\n",
    "#precision_curve, recall_curve, threshold_curve = precision_recall_curve(y_test, lm.predict_proba(X_te)[:,1] )\n",
    "\n",
    "plt.figure(dpi=80)\n",
    "plt.plot(lr_auc_thresholds, lr_tpr,label='precision')\n",
    "plt.plot(lr_auc_thresholds, lr_fpr, label='recall')\n",
    "plt.legend(loc='lower left')\n",
    "plt.xlabel('Threshold (above this probability, label as fraud)');\n",
    "plt.title('Precision and Recall Curves');'''"
   ]
  },
  {
   "cell_type": "code",
   "execution_count": 87,
   "id": "b4544ef8",
   "metadata": {},
   "outputs": [
    {
     "data": {
      "image/png": "[encoded data removed]",
      "text/plain": [
       "<Figure size 480x320 with 2 Axes>"
      ]
     },
     "metadata": {
      "needs_background": "light"
     },
     "output_type": "display_data"
    }
   ],
   "source": [
    "make_confusion_matrix(lr)"
   ]
  },
  {
   "cell_type": "code",
   "execution_count": 88,
   "id": "e099b820",
   "metadata": {},
   "outputs": [
    {
     "name": "stdout",
     "output_type": "stream",
     "text": [
      "Feature: 0, Score: 0.07360\n",
      "Feature: 1, Score: 0.21249\n",
      "Feature: 2, Score: 0.00644\n",
      "Feature: 3, Score: -0.37357\n",
      "Feature: 4, Score: 0.34044\n",
      "Feature: 5, Score: 0.20561\n",
      "Feature: 6, Score: -0.45665\n",
      "Feature: 7, Score: -0.24856\n",
      "Feature: 8, Score: -0.26183\n",
      "Feature: 9, Score: 0.48219\n",
      "Feature: 10, Score: -0.03518\n",
      "Feature: 11, Score: -0.18113\n",
      "Feature: 12, Score: 0.12809\n",
      "Feature: 13, Score: 0.01047\n",
      "Feature: 14, Score: -0.06899\n",
      "Feature: 15, Score: -0.07208\n",
      "Feature: 16, Score: 0.07208\n",
      "Feature: 17, Score: 0.27151\n",
      "Feature: 18, Score: -0.27151\n",
      "Feature: 19, Score: -0.03954\n",
      "Feature: 20, Score: 0.03954\n",
      "Feature: 21, Score: 0.03710\n",
      "Feature: 22, Score: -0.03710\n",
      "Feature: 23, Score: 0.05462\n",
      "Feature: 24, Score: 0.06056\n",
      "Feature: 25, Score: -0.07276\n",
      "Feature: 26, Score: 0.04253\n",
      "Feature: 27, Score: 0.08384\n",
      "Feature: 28, Score: -0.12923\n",
      "Feature: 29, Score: -0.04109\n",
      "Feature: 30, Score: 0.06155\n",
      "Feature: 31, Score: -0.00105\n",
      "Feature: 32, Score: 0.08771\n",
      "Feature: 33, Score: -0.22175\n",
      "Feature: 34, Score: -0.15437\n",
      "Feature: 35, Score: -0.14787\n",
      "Feature: 36, Score: 0.03173\n",
      "Feature: 37, Score: -0.00459\n",
      "Feature: 38, Score: 0.24883\n",
      "Feature: 39, Score: -0.11021\n"
     ]
    },
    {
     "data": {
      "image/png": "[encoded data removed]",
      "text/plain": [
       "<Figure size 432x288 with 1 Axes>"
      ]
     },
     "metadata": {
      "needs_background": "light"
     },
     "output_type": "display_data"
    }
   ],
   "source": [
    "#logistic regression for feature importance\n",
    "from sklearn.datasets import make_classification\n",
    "from sklearn.linear_model import LogisticRegression\n",
    "from matplotlib import pyplot\n",
    "# define dataset\n",
    "#X, y = make_classification(n_samples=1000, n_features=10, n_informative=5, n_redundant=5, random_state=1)\n",
    "# define the model\n",
    "model1 = LogisticRegression()\n",
    "# fit the model\n",
    "model1.fit(X_tr_rs, y_tr_rs)\n",
    "# get importance\n",
    "importance = model1.coef_[0]\n",
    "# summarize feature importance\n",
    "for i,v in enumerate(importance):\n",
    "\tprint('Feature: %0d, Score: %.5f' % (i,v))\n",
    "# plot feature importance\n",
    "pyplot.barh([x for x in range(len(importance))], importance)\n",
    "pyplot.show()"
   ]
  },
  {
   "cell_type": "code",
   "execution_count": 89,
   "id": "9d2fb71d",
   "metadata": {},
   "outputs": [],
   "source": [
    "importance_lst = list(importance)"
   ]
  },
  {
   "cell_type": "code",
   "execution_count": 90,
   "id": "49dc1bf5",
   "metadata": {},
   "outputs": [],
   "source": [
    "feature_lst = list(X.columns)"
   ]
  },
  {
   "cell_type": "code",
   "execution_count": 91,
   "id": "c61038bb",
   "metadata": {},
   "outputs": [],
   "source": [
    "df_fea_impor = pd.DataFrame(list(zip(feature_lst, importance_lst)))"
   ]
  },
  {
   "cell_type": "code",
   "execution_count": 92,
   "id": "d3ee7182",
   "metadata": {},
   "outputs": [],
   "source": [
    "df_fea_impor.columns = ['Features','Importance Coef']"
   ]
  },
  {
   "cell_type": "code",
   "execution_count": 93,
   "id": "6feab745",
   "metadata": {},
   "outputs": [
    {
     "data": {
      "image/png": "[encoded data removed]",
      "text/plain": [
       "<Figure size 1080x1080 with 1 Axes>"
      ]
     },
     "metadata": {
      "needs_background": "light"
     },
     "output_type": "display_data"
    }
   ],
   "source": [
    "df1 = df_fea_impor.groupby('Features').mean().sort_values(['Importance Coef'],ascending=False).plot(kind='barh', figsize=(15,15))"
   ]
  },
  {
   "cell_type": "code",
   "execution_count": 94,
   "id": "e8fcc7c2",
   "metadata": {},
   "outputs": [],
   "source": [
    "#df_fea_impor.plot.barh(x='Features', y='Importance Coef',figsize=(10,10))"
   ]
  },
  {
   "cell_type": "markdown",
   "id": "5296662c",
   "metadata": {},
   "source": [
    "Recall this is a classification problem with classes 0 and 1. Notice that the coefficients are both positive and negative. The positive scores indicate a feature that predicts class 1, whereas the negative scores indicate a feature that predicts class 0.\n",
    "\n",
    "No clear pattern of important and unimportant features can be identified from these results, at least from what I can tell."
   ]
  },
  {
   "cell_type": "markdown",
   "id": "7d7bb5a2",
   "metadata": {},
   "source": [
    "## Decision Tree"
   ]
  },
  {
   "cell_type": "code",
   "execution_count": 95,
   "id": "292040d4",
   "metadata": {},
   "outputs": [
    {
     "name": "stdout",
     "output_type": "stream",
     "text": [
      "              precision    recall  f1-score   support\n",
      "\n",
      "           0       0.95      0.94      0.94      1228\n",
      "           1       0.12      0.15      0.13        74\n",
      "\n",
      "    accuracy                           0.89      1302\n",
      "   macro avg       0.54      0.54      0.54      1302\n",
      "weighted avg       0.90      0.89      0.90      1302\n",
      "\n"
     ]
    }
   ],
   "source": [
    "#from sklearn.tree import DecisionTreeClassifier\n",
    "#from sklearn.ensemble import RandomForestClassifier\n",
    "dt = DecisionTreeClassifier()\n",
    "dt.fit(X_tr_rs, y_tr_rs)\n",
    "dt_pred = dt.predict(X_tr_val)\n",
    "\n",
    "dt_ac = dt.score(X_tr_val, y_val)\n",
    "dt_precision = precision_score(y_val, dt_pred)\n",
    "dt_recall = recall_score(y_val, dt_pred)\n",
    "dt_f1 = f1_score(y_val, dt_pred)\n",
    "\n",
    "print(classification_report(y_val, dt_pred))"
   ]
  },
  {
   "cell_type": "code",
   "execution_count": 96,
   "id": "51a0bc3e",
   "metadata": {},
   "outputs": [
    {
     "name": "stdout",
     "output_type": "stream",
     "text": [
      "Decision Tree validation metrics: \n",
      " Accuracy: 0.8909 \n",
      " Precision: 0.1222 \n",
      " Recall: 0.1486 \n",
      " F1: 0.1341\n"
     ]
    }
   ],
   "source": [
    "print('Decision Tree validation metrics: \\n Accuracy: %.4f \\n Precision: %.4f \\n Recall: %.4f \\n F1: %.4f' %\n",
    "        (dt_ac, \n",
    "         dt_precision, \n",
    "         dt_recall,\n",
    "         dt_f1)\n",
    "     )"
   ]
  },
  {
   "cell_type": "code",
   "execution_count": 97,
   "id": "03f92df0",
   "metadata": {},
   "outputs": [
    {
     "name": "stdout",
     "output_type": "stream",
     "text": [
      "0.5421582005458228\n"
     ]
    }
   ],
   "source": [
    "dt_y_score = dt.predict_proba(X_tr_val)[:, 1]\n",
    "dt_fpr, dt_tpr, auc_thresholds = roc_curve(y_val, dt_y_score)\n",
    "roc_auc_dt = auc(dt_fpr, dt_tpr)\n",
    "print(roc_auc_dt)"
   ]
  },
  {
   "cell_type": "code",
   "execution_count": 98,
   "id": "40e11df8",
   "metadata": {},
   "outputs": [
    {
     "data": {
      "image/png": "[encoded data removed]",
      "text/plain": [
       "<Figure size 480x320 with 2 Axes>"
      ]
     },
     "metadata": {
      "needs_background": "light"
     },
     "output_type": "display_data"
    }
   ],
   "source": [
    "make_confusion_matrix(dt)"
   ]
  },
  {
   "cell_type": "code",
   "execution_count": 99,
   "id": "a479f913",
   "metadata": {},
   "outputs": [
    {
     "name": "stdout",
     "output_type": "stream",
     "text": [
      "Feature: 0, Score: 0.11729\n",
      "Feature: 1, Score: 0.15198\n",
      "Feature: 2, Score: 0.17477\n",
      "Feature: 3, Score: 0.02156\n",
      "Feature: 4, Score: 0.00275\n",
      "Feature: 5, Score: 0.01449\n",
      "Feature: 6, Score: 0.00000\n",
      "Feature: 7, Score: 0.00103\n",
      "Feature: 8, Score: 0.01084\n",
      "Feature: 9, Score: 0.09932\n",
      "Feature: 10, Score: 0.01289\n",
      "Feature: 11, Score: 0.00218\n",
      "Feature: 12, Score: 0.02237\n",
      "Feature: 13, Score: 0.01021\n",
      "Feature: 14, Score: 0.01001\n",
      "Feature: 15, Score: 0.00542\n",
      "Feature: 16, Score: 0.00931\n",
      "Feature: 17, Score: 0.02764\n",
      "Feature: 18, Score: 0.00190\n",
      "Feature: 19, Score: 0.01521\n",
      "Feature: 20, Score: 0.00439\n",
      "Feature: 21, Score: 0.00378\n",
      "Feature: 22, Score: 0.00000\n",
      "Feature: 23, Score: 0.01943\n",
      "Feature: 24, Score: 0.01890\n",
      "Feature: 25, Score: 0.01504\n",
      "Feature: 26, Score: 0.02309\n",
      "Feature: 27, Score: 0.02550\n",
      "Feature: 28, Score: 0.00340\n",
      "Feature: 29, Score: 0.01426\n",
      "Feature: 30, Score: 0.02602\n",
      "Feature: 31, Score: 0.02885\n",
      "Feature: 32, Score: 0.01678\n",
      "Feature: 33, Score: 0.01484\n",
      "Feature: 34, Score: 0.00000\n",
      "Feature: 35, Score: 0.01463\n",
      "Feature: 36, Score: 0.00231\n",
      "Feature: 37, Score: 0.02228\n",
      "Feature: 38, Score: 0.01876\n",
      "Feature: 39, Score: 0.01656\n"
     ]
    },
    {
     "data": {
      "image/png": "[encoded data removed]",
      "text/plain": [
       "<Figure size 432x288 with 1 Axes>"
      ]
     },
     "metadata": {
      "needs_background": "light"
     },
     "output_type": "display_data"
    }
   ],
   "source": [
    "# decision tree for feature importance on a regression problem\n",
    "#from sklearn.datasets import make_regression\n",
    "from sklearn.tree import DecisionTreeRegressor\n",
    "from matplotlib import pyplot\n",
    "# define dataset\n",
    "#X, y = make_regression(n_samples=1000, n_features=10, n_informative=5, random_state=1)\n",
    "# define the model\n",
    "model2 = DecisionTreeRegressor()\n",
    "# fit the model\n",
    "model2.fit(X_tr_rs, y_tr_rs)\n",
    "# get importance\n",
    "importance = model2.feature_importances_\n",
    "# summarize feature importance\n",
    "for i,v in enumerate(importance):\n",
    "\tprint('Feature: %0d, Score: %.5f' % (i,v))\n",
    "# plot feature importance\n",
    "pyplot.bar([x for x in range(len(importance))], importance)\n",
    "pyplot.show()"
   ]
  },
  {
   "cell_type": "markdown",
   "id": "c97f3d26",
   "metadata": {},
   "source": [
    "## Random Forest"
   ]
  },
  {
   "cell_type": "code",
   "execution_count": 100,
   "id": "98b20618",
   "metadata": {},
   "outputs": [
    {
     "name": "stdout",
     "output_type": "stream",
     "text": [
      "              precision    recall  f1-score   support\n",
      "\n",
      "           0       0.94      0.99      0.97      1228\n",
      "           1       0.18      0.03      0.05        74\n",
      "\n",
      "    accuracy                           0.94      1302\n",
      "   macro avg       0.56      0.51      0.51      1302\n",
      "weighted avg       0.90      0.94      0.92      1302\n",
      "\n"
     ]
    }
   ],
   "source": [
    "rf = RandomForestClassifier()\n",
    "rf.fit(X_tr_rs, y_tr_rs)\n",
    "rf_pred = rf.predict(X_tr_val)\n",
    "rf_confusion = confusion_matrix(y_val, rf_pred)\n",
    "\n",
    "rf_ac = rf.score(X_tr_val, y_val)\n",
    "rf_precision = precision_score(y_val, rf_pred)\n",
    "rf_recall = recall_score(y_val, rf_pred)\n",
    "rf_f1 = f1_score(y_val, rf_pred)\n",
    "\n",
    "print(classification_report(y_val, rf_pred))"
   ]
  },
  {
   "cell_type": "code",
   "execution_count": 101,
   "id": "a2c84b15",
   "metadata": {},
   "outputs": [
    {
     "name": "stdout",
     "output_type": "stream",
     "text": [
      "Random Forest validation metrics: \n",
      " Accuracy: 0.9378 \n",
      " Precision: 0.1818 \n",
      " Recall: 0.0270 \n",
      " F1: 0.0471\n"
     ]
    }
   ],
   "source": [
    "print('Random Forest validation metrics: \\n Accuracy: %.4f \\n Precision: %.4f \\n Recall: %.4f \\n F1: %.4f' %\n",
    "        (rf_ac, \n",
    "         rf_precision, \n",
    "         rf_recall,\n",
    "         rf_f1)\n",
    "     )"
   ]
  },
  {
   "cell_type": "code",
   "execution_count": 102,
   "id": "133d6bdc",
   "metadata": {},
   "outputs": [
    {
     "name": "stdout",
     "output_type": "stream",
     "text": [
      "0.7107689937494498\n"
     ]
    }
   ],
   "source": [
    "rf_y_score = rf.predict_proba(X_tr_val)[:, 1]\n",
    "rf_fpr, rf_tpr, auc_thresholds = roc_curve(y_val, rf_y_score)\n",
    "roc_auc_rf = auc(rf_fpr, rf_tpr)\n",
    "print(roc_auc_rf)"
   ]
  },
  {
   "cell_type": "code",
   "execution_count": 103,
   "id": "4b703370",
   "metadata": {},
   "outputs": [
    {
     "data": {
      "image/png": "[encoded data removed]",
      "text/plain": [
       "<Figure size 480x320 with 2 Axes>"
      ]
     },
     "metadata": {
      "needs_background": "light"
     },
     "output_type": "display_data"
    }
   ],
   "source": [
    "make_confusion_matrix(rf)"
   ]
  },
  {
   "cell_type": "code",
   "execution_count": 104,
   "id": "dbfd90ab",
   "metadata": {},
   "outputs": [
    {
     "name": "stdout",
     "output_type": "stream",
     "text": [
      "Feature: 0, Score: 0.12326\n",
      "Feature: 1, Score: 0.16170\n",
      "Feature: 2, Score: 0.17726\n",
      "Feature: 3, Score: 0.01445\n",
      "Feature: 4, Score: 0.01211\n",
      "Feature: 5, Score: 0.00667\n",
      "Feature: 6, Score: 0.00016\n",
      "Feature: 7, Score: 0.00359\n",
      "Feature: 8, Score: 0.00409\n",
      "Feature: 9, Score: 0.09989\n",
      "Feature: 10, Score: 0.01251\n",
      "Feature: 11, Score: 0.00124\n",
      "Feature: 12, Score: 0.02273\n",
      "Feature: 13, Score: 0.00989\n",
      "Feature: 14, Score: 0.01286\n",
      "Feature: 15, Score: 0.01453\n",
      "Feature: 16, Score: 0.01432\n",
      "Feature: 17, Score: 0.01662\n",
      "Feature: 18, Score: 0.01547\n",
      "Feature: 19, Score: 0.00966\n",
      "Feature: 20, Score: 0.00978\n",
      "Feature: 21, Score: 0.00106\n",
      "Feature: 22, Score: 0.00131\n",
      "Feature: 23, Score: 0.01641\n",
      "Feature: 24, Score: 0.01828\n",
      "Feature: 25, Score: 0.01105\n",
      "Feature: 26, Score: 0.01621\n",
      "Feature: 27, Score: 0.02293\n",
      "Feature: 28, Score: 0.01538\n",
      "Feature: 29, Score: 0.01598\n",
      "Feature: 30, Score: 0.01611\n",
      "Feature: 31, Score: 0.01960\n",
      "Feature: 32, Score: 0.01885\n",
      "Feature: 33, Score: 0.00879\n",
      "Feature: 34, Score: 0.00009\n",
      "Feature: 35, Score: 0.01649\n",
      "Feature: 36, Score: 0.00870\n",
      "Feature: 37, Score: 0.01802\n",
      "Feature: 38, Score: 0.02246\n",
      "Feature: 39, Score: 0.00949\n"
     ]
    },
    {
     "data": {
      "image/png": "[encoded data removed]",
      "text/plain": [
       "<Figure size 432x288 with 1 Axes>"
      ]
     },
     "metadata": {
      "needs_background": "light"
     },
     "output_type": "display_data"
    }
   ],
   "source": [
    "# random forest for feature importance on a regression problem\n",
    "#from sklearn.datasets import make_regression\n",
    "from sklearn.ensemble import RandomForestRegressor\n",
    "from matplotlib import pyplot\n",
    "# define dataset\n",
    "#X, y = make_regression(n_samples=1000, n_features=10, n_informative=5, random_state=1)\n",
    "# define the model\n",
    "model = RandomForestRegressor()\n",
    "# fit the model\n",
    "model.fit(X_tr_rs, y_tr_rs)\n",
    "# get importance\n",
    "importance = model.feature_importances_\n",
    "# summarize feature importance\n",
    "for i,v in enumerate(importance):\n",
    "\tprint('Feature: %0d, Score: %.5f' % (i,v))\n",
    "# plot feature importance\n",
    "pyplot.bar([x for x in range(len(importance))], importance)\n",
    "pyplot.show()"
   ]
  },
  {
   "cell_type": "code",
   "execution_count": 105,
   "id": "76e728c0",
   "metadata": {},
   "outputs": [],
   "source": [
    "importance_lst = list(importance)\n",
    "feature_lst = list(X.columns)"
   ]
  },
  {
   "cell_type": "code",
   "execution_count": 106,
   "id": "f3c09437",
   "metadata": {},
   "outputs": [],
   "source": [
    "df_fea_impor_rf = pd.DataFrame(list(zip(feature_lst, importance_lst)))\n",
    "df_fea_impor_rf.columns = ['Features','Importance Score']"
   ]
  },
  {
   "cell_type": "code",
   "execution_count": 107,
   "id": "a93ced26",
   "metadata": {},
   "outputs": [
    {
     "data": {
      "image/png": "[encoded data removed]",
      "text/plain": [
       "<Figure size 1080x1080 with 1 Axes>"
      ]
     },
     "metadata": {
      "needs_background": "light"
     },
     "output_type": "display_data"
    }
   ],
   "source": [
    "df2 = df_fea_impor_rf.groupby('Features').mean().sort_values(['Importance Score'],ascending=False).plot(kind='barh', figsize=(15,15))"
   ]
  },
  {
   "cell_type": "markdown",
   "id": "83b87935",
   "metadata": {},
   "source": [
    "## ROC Curve for all models"
   ]
  },
  {
   "cell_type": "code",
   "execution_count": 108,
   "id": "c59a405c",
   "metadata": {},
   "outputs": [
    {
     "data": {
      "image/png": "[encoded data removed]",
      "text/plain": [
       "<Figure size 720x720 with 1 Axes>"
      ]
     },
     "metadata": {
      "needs_background": "light"
     },
     "output_type": "display_data"
    }
   ],
   "source": [
    "# all models ROC Curve comparison\n",
    "plt.figure(figsize=(10,10))\n",
    "lw = 2\n",
    "plt.plot(knn_fpr, knn_tpr, color='black', lw=lw, \n",
    "         label='kNN curve (area= %0.2f)' %roc_auc_knn)\n",
    "plt.plot(lr_fpr, lr_tpr, color='blue', lw=lw, \n",
    "         label='Logistic curve (area= %0.2f)' %roc_auc_lr)\n",
    "plt.plot(dt_fpr, dt_tpr, color='green', lw=lw, \n",
    "         label='Decision Tree curve (area= %0.2f)' %roc_auc_dt)\n",
    "plt.plot(rf_fpr, rf_tpr, color='red', lw=lw, \n",
    "         label='Random Forest curve (area= %0.2f)' %roc_auc_rf)\n",
    "\n",
    "plt.plot([0,1], [0,1], color='navy', lw=lw, linestyle='--')\n",
    "plt.xlim([0.0, 1.0])\n",
    "plt.ylim([0.0, 1.0])\n",
    "plt.xlabel('False Positive Rate')\n",
    "plt.ylabel('True Positive Rate')\n",
    "plt.title('ROC Curves')\n",
    "plt.legend(loc='lower right');"
   ]
  },
  {
   "cell_type": "markdown",
   "id": "2c20c51b",
   "metadata": {},
   "source": [
    "# TEST SCORE for Logistic Regression"
   ]
  },
  {
   "cell_type": "code",
   "execution_count": 134,
   "id": "aab434cd",
   "metadata": {},
   "outputs": [],
   "source": [
    "##Split the data 60 - 20 - 20 train/val/test\n",
    "\n",
    "#X_train_val, X_test, y_train_val, y_test = train_test_split(X, y, test_size=0.2,random_state=42)\n",
    "#X_train, X_val, y_train, y_val = train_test_split(X_train_val, y_train_val, test_size=.25, random_state=42)\n",
    "\n",
    "scaler = StandardScaler()\n",
    "X_s = scaler.fit_transform(X_train_val)\n",
    "X_test_s = scaler.transform(X_test)"
   ]
  },
  {
   "cell_type": "code",
   "execution_count": 135,
   "id": "9565e150",
   "metadata": {},
   "outputs": [
    {
     "name": "stderr",
     "output_type": "stream",
     "text": [
      "/Users/amirreza/opt/anaconda3/envs/metis/lib/python3.8/site-packages/sklearn/metrics/_classification.py:1248: UndefinedMetricWarning: Precision is ill-defined and being set to 0.0 due to no predicted samples. Use `zero_division` parameter to control this behavior.\n",
      "  _warn_prf(average, modifier, msg_start, len(result))\n"
     ]
    }
   ],
   "source": [
    "lr.fit(X_s, y_train_val)\n",
    "lr_pred = lr.predict(X_test_s)\n",
    "\n",
    "lr_ac = lr.score(X_test_s, y_test)\n",
    "lr_precision = precision_score(y_test, lr_pred)\n",
    "lr_recall = recall_score(y_test, lr_pred)\n",
    "lr_f1 = f1_score(y_test, lr_pred)\n",
    "\n",
    "lr_y_score = lr.predict_proba(X_test_s)[:,1]\n",
    "lr_fpr, lr_tpr, lr_auc_thresholds = roc_curve(y_test, lr_y_score)\n",
    "roc_auc_lr = auc(lr_fpr, lr_tpr)"
   ]
  },
  {
   "cell_type": "code",
   "execution_count": 136,
   "id": "f7ac3762",
   "metadata": {},
   "outputs": [
    {
     "name": "stdout",
     "output_type": "stream",
     "text": [
      "Logistic Regression TEST metrics: \n",
      " Accuracy: 0.9355 \n",
      " Precision: 0.0000 \n",
      " Recall: 0.0000 \n",
      " F1: 0.0000 \n",
      " ROC_AUC: 0.7527\n"
     ]
    }
   ],
   "source": [
    "print('Logistic Regression TEST metrics: \\n Accuracy: %.4f \\n Precision: %.4f \\n Recall: %.4f \\n F1: %.4f \\n ROC_AUC: %.4f' %\n",
    "        (lr_ac, \n",
    "         lr_precision, \n",
    "         lr_recall,\n",
    "         lr_f1,\n",
    "        roc_auc_lr)\n",
    "     )"
   ]
  },
  {
   "cell_type": "code",
   "execution_count": 137,
   "id": "397d70b7",
   "metadata": {},
   "outputs": [
    {
     "data": {
      "image/png": "[encoded data removed]",
      "text/plain": [
       "<Figure size 480x320 with 2 Axes>"
      ]
     },
     "metadata": {
      "needs_background": "light"
     },
     "output_type": "display_data"
    }
   ],
   "source": [
    "make_confusion_matrix(lr)"
   ]
  },
  {
   "cell_type": "markdown",
   "id": "73baba85",
   "metadata": {},
   "source": [
    "## Precision & Recall & Fidnig the reasonable Threshold "
   ]
  },
  {
   "cell_type": "code",
   "execution_count": null,
   "id": "4c3ecf5d",
   "metadata": {},
   "outputs": [],
   "source": [
    "#lr_f1 = f1_score(y_test, lr_pred)"
   ]
  },
  {
   "cell_type": "code",
   "execution_count": 125,
   "id": "70137e4f",
   "metadata": {},
   "outputs": [
    {
     "name": "stdout",
     "output_type": "stream",
     "text": [
      "Default threshold:\n",
      "Precision: 0.0000,   Recall: 0.0000,  F1: 0.0000\n"
     ]
    },
    {
     "name": "stderr",
     "output_type": "stream",
     "text": [
      "/Users/amirreza/opt/anaconda3/envs/metis/lib/python3.8/site-packages/sklearn/metrics/_classification.py:1248: UndefinedMetricWarning: Precision is ill-defined and being set to 0.0 due to no predicted samples. Use `zero_division` parameter to control this behavior.\n",
      "  _warn_prf(average, modifier, msg_start, len(result))\n"
     ]
    }
   ],
   "source": [
    "# using the default threshold of 0.5, which is what vanilla predict does\n",
    "y_predict = lr.predict(X_test_s)\n",
    "print(\"Default threshold:\")\n",
    "print(\"Precision: {:6.4f},   Recall: {:6.4f},  F1: {:6.4f}\".format(precision_score(y_test, y_predict), \n",
    "                                                     recall_score(y_test, y_predict),f1_score(y_test, y_predict)))"
   ]
  },
  {
   "cell_type": "code",
   "execution_count": 126,
   "id": "a96e6f8a",
   "metadata": {},
   "outputs": [
    {
     "name": "stdout",
     "output_type": "stream",
     "text": [
      "Threshold of 0.06:\n",
      "Precision: 0.1326,   Recall: 0.6786,  F1: 0.2218\n"
     ]
    }
   ],
   "source": [
    "# using the new threshold of 0.06\n",
    "y_predict = (lr.predict_proba(X_test_s)[:,1] > 0.06)\n",
    "print(\"Threshold of 0.06:\")\n",
    "print(\"Precision: {:6.4f},   Recall: {:6.4f},  F1: {:6.4f}\".format(precision_score(y_test, y_predict), \n",
    "                                                     recall_score(y_test, y_predict),f1_score(y_test, y_predict)))"
   ]
  },
  {
   "cell_type": "code",
   "execution_count": 127,
   "id": "d543510d",
   "metadata": {},
   "outputs": [
    {
     "name": "stdout",
     "output_type": "stream",
     "text": [
      "Threshold of 0.1:\n",
      "Precision: 0.1667,   Recall: 0.5476,  F1: 0.2556\n"
     ]
    }
   ],
   "source": [
    "# using the new threshold of 0.1\n",
    "y_predict = (lr.predict_proba(X_test_s)[:,1] > 0.1)\n",
    "print(\"Threshold of 0.1:\")\n",
    "print(\"Precision: {:6.4f},   Recall: {:6.4f},  F1: {:6.4f}\".format(precision_score(y_test, y_predict), \n",
    "                                                     recall_score(y_test, y_predict),f1_score(y_test, y_predict)))"
   ]
  },
  {
   "cell_type": "code",
   "execution_count": 133,
   "id": "209c066e",
   "metadata": {},
   "outputs": [
    {
     "name": "stdout",
     "output_type": "stream",
     "text": [
      "Threshold of 0.14:\n",
      "Precision: 0.1977,   Recall: 0.4167,  F1: 0.2682\n"
     ]
    }
   ],
   "source": [
    "# using the new threshold of 0.14\n",
    "y_predict = (lr.predict_proba(X_test_s)[:,1] > 0.14)\n",
    "print(\"Threshold of 0.14:\")\n",
    "print(\"Precision: {:6.4f},   Recall: {:6.4f},  F1: {:6.4f}\".format(precision_score(y_test, y_predict), \n",
    "                                                     recall_score(y_test, y_predict),f1_score(y_test, y_predict)))"
   ]
  },
  {
   "cell_type": "code",
   "execution_count": 129,
   "id": "16749112",
   "metadata": {},
   "outputs": [
    {
     "name": "stdout",
     "output_type": "stream",
     "text": [
      "Threshold of 0.17:\n",
      "Precision: 0.2137,   Recall: 0.2976,  F1: 0.2488\n"
     ]
    }
   ],
   "source": [
    "# using the new threshold of 0.17\n",
    "y_predict = (lr.predict_proba(X_test_s)[:,1] > 0.17)\n",
    "print(\"Threshold of 0.17:\")\n",
    "print(\"Precision: {:6.4f},   Recall: {:6.4f},  F1: {:6.4f}\".format(precision_score(y_test, y_predict), \n",
    "                                                     recall_score(y_test, y_predict),f1_score(y_test, y_predict)))"
   ]
  },
  {
   "cell_type": "code",
   "execution_count": 128,
   "id": "ba9906e5",
   "metadata": {},
   "outputs": [
    {
     "name": "stdout",
     "output_type": "stream",
     "text": [
      "Threshold of 0.2:\n",
      "Precision: 0.2051,   Recall: 0.1905,  F1: 0.1975\n"
     ]
    }
   ],
   "source": [
    "# using the new threshold of 0.2\n",
    "y_predict = (lr.predict_proba(X_test_s)[:,1] > 0.2)\n",
    "print(\"Threshold of 0.2:\")\n",
    "print(\"Precision: {:6.4f},   Recall: {:6.4f},  F1: {:6.4f}\".format(precision_score(y_test, y_predict), \n",
    "                                                     recall_score(y_test, y_predict),f1_score(y_test, y_predict)))"
   ]
  },
  {
   "cell_type": "code",
   "execution_count": 132,
   "id": "e2d087f1",
   "metadata": {},
   "outputs": [
    {
     "data": {
      "image/png": "[encoded data removed]",
      "text/plain": [
       "<Figure size 480x320 with 1 Axes>"
      ]
     },
     "metadata": {
      "needs_background": "light"
     },
     "output_type": "display_data"
    }
   ],
   "source": [
    "# We can also use the probabilities to make a curve showing us how recall \n",
    "# and thresholds trade off \n",
    "from sklearn.metrics import precision_score, recall_score, precision_recall_curve,f1_score, fbeta_score\n",
    "precision_curve, recall_curve, threshold_curve = precision_recall_curve(y_test, lr.predict_proba(X_test_s)[:,1] )\n",
    "\n",
    "plt.figure(dpi=80)\n",
    "plt.plot(threshold_curve, precision_curve[1:],label='precision')\n",
    "plt.plot(threshold_curve, recall_curve[1:], label='recall')\n",
    "plt.legend(loc='lower left')\n",
    "plt.xlabel('Threshold');\n",
    "plt.title('Precision and Recall Curves');"
   ]
  },
  {
   "cell_type": "code",
   "execution_count": 120,
   "id": "e95fc741",
   "metadata": {},
   "outputs": [
    {
     "data": {
      "image/png": "[encoded data removed]",
      "text/plain": [
       "<Figure size 480x320 with 1 Axes>"
      ]
     },
     "metadata": {
      "needs_background": "light"
     },
     "output_type": "display_data"
    }
   ],
   "source": [
    "plt.figure(dpi=80)\n",
    "plt.plot(recall_curve[1:], precision_curve[1:],label='precision')\n",
    "plt.xlabel(\"Recall\")\n",
    "plt.ylabel(\"Precision\")\n",
    "plt.title(\"Precision-Recall Curve\");"
   ]
  },
  {
   "cell_type": "code",
   "execution_count": null,
   "id": "0346e137",
   "metadata": {},
   "outputs": [],
   "source": [
    "threshold = []\n",
    "for x in "
   ]
  },
  {
   "cell_type": "code",
   "execution_count": null,
   "id": "7ad585d3",
   "metadata": {},
   "outputs": [],
   "source": []
  },
  {
   "cell_type": "code",
   "execution_count": null,
   "id": "c6f4ba59",
   "metadata": {},
   "outputs": [],
   "source": []
  },
  {
   "cell_type": "code",
   "execution_count": null,
   "id": "314d4cff",
   "metadata": {},
   "outputs": [],
   "source": []
  },
  {
   "cell_type": "code",
   "execution_count": null,
   "id": "04da57f4",
   "metadata": {},
   "outputs": [],
   "source": []
  },
  {
   "cell_type": "code",
   "execution_count": null,
   "id": "f0e1149b",
   "metadata": {},
   "outputs": [],
   "source": []
  },
  {
   "cell_type": "code",
   "execution_count": null,
   "id": "f3ff2998",
   "metadata": {},
   "outputs": [],
   "source": []
  },
  {
   "cell_type": "code",
   "execution_count": null,
   "id": "37891ccd",
   "metadata": {},
   "outputs": [],
   "source": []
  },
  {
   "cell_type": "code",
   "execution_count": null,
   "id": "322eb3cc",
   "metadata": {},
   "outputs": [],
   "source": []
  },
  {
   "cell_type": "code",
   "execution_count": null,
   "id": "854eba69",
   "metadata": {},
   "outputs": [],
   "source": []
  },
  {
   "cell_type": "code",
   "execution_count": null,
   "id": "4e5b4d75",
   "metadata": {},
   "outputs": [],
   "source": []
  },
  {
   "cell_type": "code",
   "execution_count": null,
   "id": "dc6dd087",
   "metadata": {},
   "outputs": [],
   "source": []
  },
  {
   "cell_type": "code",
   "execution_count": null,
   "id": "a52d707b",
   "metadata": {},
   "outputs": [],
   "source": []
  },
  {
   "cell_type": "code",
   "execution_count": null,
   "id": "6840d927",
   "metadata": {},
   "outputs": [],
   "source": []
  },
  {
   "cell_type": "code",
   "execution_count": null,
   "id": "a99aadd8",
   "metadata": {},
   "outputs": [],
   "source": []
  },
  {
   "cell_type": "code",
   "execution_count": null,
   "id": "040b4037",
   "metadata": {},
   "outputs": [],
   "source": []
  },
  {
   "cell_type": "code",
   "execution_count": null,
   "id": "56b541bb",
   "metadata": {},
   "outputs": [],
   "source": []
  },
  {
   "cell_type": "code",
   "execution_count": null,
   "id": "e3275ac8",
   "metadata": {},
   "outputs": [],
   "source": []
  },
  {
   "cell_type": "code",
   "execution_count": null,
   "id": "a680866c",
   "metadata": {},
   "outputs": [],
   "source": []
  },
  {
   "cell_type": "code",
   "execution_count": null,
   "id": "beacae89",
   "metadata": {},
   "outputs": [],
   "source": []
  },
  {
   "cell_type": "markdown",
   "id": "08a96532",
   "metadata": {},
   "source": [
    "## XGBoost"
   ]
  },
  {
   "cell_type": "code",
   "execution_count": null,
   "id": "7ff95c20",
   "metadata": {},
   "outputs": [],
   "source": [
    "from sklearn.model_selection import GridSearchCV\n",
    "import xgboost as xgb\n",
    "from xgboost import XGBClassifier"
   ]
  },
  {
   "cell_type": "code",
   "execution_count": null,
   "id": "718116f3",
   "metadata": {},
   "outputs": [],
   "source": [
    "xg = XGBClassifier()\n",
    "xg.fit(X_tr_rs, y_tr_rs)\n",
    "xg_pred = xg.predict(X_tr_val)\n",
    "\n",
    "xg_ac = xg.score(X_tr_val, y_val)\n",
    "xg_precision = precision_score(y_val, xg_pred)\n",
    "xg_recall = recall_score(y_val, xg_pred)\n",
    "xg_f1 = f1_score(y_val, xg_pred)\n",
    "\n",
    "xg_y_score = xg.predict_proba(X_tr_val)[:, 1]\n",
    "xg_fpr, xg_tpr, auc_thresholds = roc_curve(y_val, xg_y_score)\n",
    "roc_auc_xg = auc(xg_fpr, xg_tpr)\n",
    "\n",
    "print(classification_report(y_val, xg_pred))"
   ]
  },
  {
   "cell_type": "code",
   "execution_count": null,
   "id": "b71fd12f",
   "metadata": {},
   "outputs": [],
   "source": [
    "\n",
    "print('XGBoost validation metrics: \\n Accuracy: %.4f \\n Precision: %.4f \\n Recall: %.4f \\n F1: %.4f \\n ROC: %.4f' %\n",
    "        (xg_ac, \n",
    "         xg_precision, \n",
    "         xg_recall,\n",
    "         xg_f1,\n",
    "         roc_auc_xg)\n",
    "     )"
   ]
  },
  {
   "cell_type": "code",
   "execution_count": null,
   "id": "5ace720e",
   "metadata": {},
   "outputs": [],
   "source": [
    "confusion_matrix(y_val, xg_pred)"
   ]
  },
  {
   "cell_type": "code",
   "execution_count": null,
   "id": "13127c91",
   "metadata": {},
   "outputs": [],
   "source": [
    "plt.plot(xg_fpr, xg_tpr, color='pink', lw=lw,\n",
    "        label='XGBoost curve (area= %0.2f)' %roc_auc_xg)"
   ]
  },
  {
   "cell_type": "code",
   "execution_count": null,
   "id": "30fa140d",
   "metadata": {},
   "outputs": [],
   "source": []
  },
  {
   "cell_type": "code",
   "execution_count": null,
   "id": "b2c28f81",
   "metadata": {},
   "outputs": [],
   "source": []
  },
  {
   "cell_type": "code",
   "execution_count": null,
   "id": "fb42cff0",
   "metadata": {},
   "outputs": [],
   "source": []
  },
  {
   "cell_type": "code",
   "execution_count": null,
   "id": "7902eb72",
   "metadata": {},
   "outputs": [],
   "source": []
  },
  {
   "cell_type": "code",
   "execution_count": null,
   "id": "4f92ef9d",
   "metadata": {},
   "outputs": [],
   "source": []
  },
  {
   "cell_type": "code",
   "execution_count": null,
   "id": "c6a1b56f",
   "metadata": {},
   "outputs": [],
   "source": []
  },
  {
   "cell_type": "code",
   "execution_count": null,
   "id": "cb9a5585",
   "metadata": {},
   "outputs": [],
   "source": []
  },
  {
   "cell_type": "code",
   "execution_count": null,
   "id": "722ffc45",
   "metadata": {},
   "outputs": [],
   "source": []
  },
  {
   "cell_type": "code",
   "execution_count": null,
   "id": "33047b03",
   "metadata": {},
   "outputs": [],
   "source": []
  },
  {
   "cell_type": "markdown",
   "id": "5b82834b",
   "metadata": {},
   "source": [
    "## ROC Curve"
   ]
  },
  {
   "cell_type": "code",
   "execution_count": null,
   "id": "585f2c9a",
   "metadata": {},
   "outputs": [],
   "source": [
    "# Precision = TP / (TP + FP)\n",
    "# Recall = TP/P = True positive rate\n",
    "# false positive rate = FP / true negatives = FP / (FP + TN) \n",
    "from sklearn.metrics import roc_auc_score, roc_curve\n",
    "\n",
    "fpr, tpr, thresholds = roc_curve(y_test, lm.predict_proba(X_te)[:,1])"
   ]
  },
  {
   "cell_type": "code",
   "execution_count": null,
   "id": "0af07cef",
   "metadata": {},
   "outputs": [],
   "source": [
    "plt.plot(fpr, tpr,lw=2)\n",
    "plt.plot([0,1],[0,1],c='violet',ls='--')\n",
    "plt.xlim([-0.05,1.05])\n",
    "plt.ylim([-0.05,1.05])\n",
    "\n",
    "\n",
    "plt.xlabel('False positive rate')\n",
    "plt.ylabel('True positive rate')\n",
    "plt.title('ROC curve for fraud problem');\n",
    "print(\"ROC AUC score = \", roc_auc_score(y_test, lm.predict_proba(X_te)[:,1]))"
   ]
  },
  {
   "cell_type": "code",
   "execution_count": null,
   "id": "76d9c439",
   "metadata": {},
   "outputs": [],
   "source": [
    "#Random Forest"
   ]
  },
  {
   "cell_type": "code",
   "execution_count": null,
   "id": "a6b0063d",
   "metadata": {},
   "outputs": [],
   "source": [
    "from sklearn.model_selection import train_test_split\n",
    "\n",
    "def quick_test(model, X, y):\n",
    "    xtrain, xtest, ytrain, ytest = train_test_split(X, y, test_size=0.3)\n",
    "    model.fit(xtrain, ytrain)\n",
    "    return model.score(xtest, ytest)\n",
    "\n",
    "\n",
    "def quick_test_afew_times(model, X, y, n=10):\n",
    "    return np.mean([quick_test(model, X, y) for j in range(n)])\n"
   ]
  },
  {
   "cell_type": "code",
   "execution_count": null,
   "id": "8fd42186",
   "metadata": {},
   "outputs": [],
   "source": [
    "from sklearn.tree import DecisionTreeClassifier\n",
    "from sklearn.ensemble import RandomForestClassifier"
   ]
  },
  {
   "cell_type": "code",
   "execution_count": null,
   "id": "2a5048c3",
   "metadata": {},
   "outputs": [],
   "source": [
    "decisiontree = DecisionTreeClassifier(max_depth=4)\n",
    "quick_test_afew_times(decisiontree, X_tr_rs, y_tr_rs)"
   ]
  },
  {
   "cell_type": "code",
   "execution_count": null,
   "id": "6aa67aba",
   "metadata": {},
   "outputs": [],
   "source": [
    "randomforest = RandomForestClassifier(n_estimators=100)\n",
    "quick_test_afew_times(randomforest, X_tr_rs, y_tr_rs)"
   ]
  },
  {
   "cell_type": "code",
   "execution_count": null,
   "id": "3bcd7530",
   "metadata": {},
   "outputs": [],
   "source": []
  }
 ],
 "metadata": {
  "kernelspec": {
   "display_name": "Python [conda env:metis] *",
   "language": "python",
   "name": "conda-env-metis-py"
  },
  "language_info": {
   "codemirror_mode": {
    "name": "ipython",
    "version": 3
   },
   "file_extension": ".py",
   "mimetype": "text/x-python",
   "name": "python",
   "nbconvert_exporter": "python",
   "pygments_lexer": "ipython3",
   "version": "3.8.10"
  }
 },
 "nbformat": 4,
 "nbformat_minor": 5
}
