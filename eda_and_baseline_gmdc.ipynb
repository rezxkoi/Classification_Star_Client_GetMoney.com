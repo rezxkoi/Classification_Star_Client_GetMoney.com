{
 "cells": [
  {
   "cell_type": "markdown",
   "id": "3e2c03c2",
   "metadata": {},
   "source": [
    "# EDA"
   ]
  },
  {
   "cell_type": "code",
   "execution_count": 1,
   "id": "c16e49db",
   "metadata": {},
   "outputs": [],
   "source": [
    "# munging imports\n",
    "import pandas as pd\n",
    "import numpy as np\n",
    "\n",
    "# visualization imports\n",
    "import matplotlib.pyplot as plt\n",
    "import seaborn as sns\n",
    "plt.style.use('fivethirtyeight')\n",
    "\n",
    "%matplotlib inline\n",
    "\n",
    "# modeling imports\n",
    "from sklearn.linear_model import LogisticRegression\n",
    "from sklearn.model_selection import train_test_split\n",
    "from sklearn.metrics import precision_score, recall_score, accuracy_score, roc_auc_score\n",
    "from sklearn.metrics import confusion_matrix\n",
    "from sklearn.preprocessing import StandardScaler"
   ]
  },
  {
   "cell_type": "code",
   "execution_count": 2,
   "id": "8f1c9783",
   "metadata": {},
   "outputs": [],
   "source": [
    "df= pd.read_csv('gmdc_df_clean.csv')"
   ]
  },
  {
   "cell_type": "code",
   "execution_count": 3,
   "id": "3b2ddd4a",
   "metadata": {},
   "outputs": [],
   "source": [
    "df_eda = df.copy()"
   ]
  },
  {
   "cell_type": "code",
   "execution_count": 4,
   "id": "5bdf4184",
   "metadata": {},
   "outputs": [
    {
     "data": {
      "text/html": [
       "<div>\n",
       "<style scoped>\n",
       "    .dataframe tbody tr th:only-of-type {\n",
       "        vertical-align: middle;\n",
       "    }\n",
       "\n",
       "    .dataframe tbody tr th {\n",
       "        vertical-align: top;\n",
       "    }\n",
       "\n",
       "    .dataframe thead th {\n",
       "        text-align: right;\n",
       "    }\n",
       "</style>\n",
       "<table border=\"1\" class=\"dataframe\">\n",
       "  <thead>\n",
       "    <tr style=\"text-align: right;\">\n",
       "      <th></th>\n",
       "      <th>Star Client</th>\n",
       "      <th>Loan Type</th>\n",
       "      <th>Requested Loan Amount</th>\n",
       "      <th>Revenue</th>\n",
       "      <th>Age</th>\n",
       "      <th>Income Source</th>\n",
       "      <th>Credit Type</th>\n",
       "      <th>Monthly  Income</th>\n",
       "      <th>Car Owner</th>\n",
       "      <th>Returning Client</th>\n",
       "      <th>State</th>\n",
       "      <th>Home Owner</th>\n",
       "      <th>Armed forces</th>\n",
       "      <th>Created DOW</th>\n",
       "      <th>Created Time Braket</th>\n",
       "      <th>Duration_Mod_Cre</th>\n",
       "    </tr>\n",
       "  </thead>\n",
       "  <tbody>\n",
       "    <tr>\n",
       "      <th>0</th>\n",
       "      <td>0</td>\n",
       "      <td>Payday</td>\n",
       "      <td>500.0</td>\n",
       "      <td>0.18</td>\n",
       "      <td>56.000000</td>\n",
       "      <td>Job Employment</td>\n",
       "      <td>poor</td>\n",
       "      <td>1000.0</td>\n",
       "      <td>No</td>\n",
       "      <td>No</td>\n",
       "      <td>North Carolina</td>\n",
       "      <td>No</td>\n",
       "      <td>No</td>\n",
       "      <td>Tuesday</td>\n",
       "      <td>Morning</td>\n",
       "      <td>1586:32:00</td>\n",
       "    </tr>\n",
       "    <tr>\n",
       "      <th>1</th>\n",
       "      <td>0</td>\n",
       "      <td>Payday</td>\n",
       "      <td>100.0</td>\n",
       "      <td>0.25</td>\n",
       "      <td>38.814992</td>\n",
       "      <td>Job Employment</td>\n",
       "      <td>poor</td>\n",
       "      <td>1000.0</td>\n",
       "      <td>No</td>\n",
       "      <td>No</td>\n",
       "      <td>Oklahoma</td>\n",
       "      <td>No</td>\n",
       "      <td>No</td>\n",
       "      <td>Friday</td>\n",
       "      <td>Morning</td>\n",
       "      <td>17351:23:00</td>\n",
       "    </tr>\n",
       "    <tr>\n",
       "      <th>2</th>\n",
       "      <td>0</td>\n",
       "      <td>Personal Loan</td>\n",
       "      <td>500.0</td>\n",
       "      <td>0.00</td>\n",
       "      <td>58.000000</td>\n",
       "      <td>Job Employment</td>\n",
       "      <td>fair</td>\n",
       "      <td>5000.0</td>\n",
       "      <td>Yes</td>\n",
       "      <td>No</td>\n",
       "      <td>Pennsylvania</td>\n",
       "      <td>No</td>\n",
       "      <td>No</td>\n",
       "      <td>Saturday</td>\n",
       "      <td>Afternoon</td>\n",
       "      <td>563:34:00</td>\n",
       "    </tr>\n",
       "    <tr>\n",
       "      <th>3</th>\n",
       "      <td>0</td>\n",
       "      <td>Payday</td>\n",
       "      <td>400.0</td>\n",
       "      <td>0.18</td>\n",
       "      <td>28.000000</td>\n",
       "      <td>Job Employment</td>\n",
       "      <td>fair</td>\n",
       "      <td>2500.0</td>\n",
       "      <td>No</td>\n",
       "      <td>No</td>\n",
       "      <td>Ohio</td>\n",
       "      <td>Yes</td>\n",
       "      <td>No</td>\n",
       "      <td>Saturday</td>\n",
       "      <td>Evening</td>\n",
       "      <td>764:22:00</td>\n",
       "    </tr>\n",
       "    <tr>\n",
       "      <th>4</th>\n",
       "      <td>0</td>\n",
       "      <td>Payday</td>\n",
       "      <td>400.0</td>\n",
       "      <td>0.09</td>\n",
       "      <td>44.000000</td>\n",
       "      <td>Job Employment</td>\n",
       "      <td>poor</td>\n",
       "      <td>2000.0</td>\n",
       "      <td>Yes</td>\n",
       "      <td>No</td>\n",
       "      <td>Texas</td>\n",
       "      <td>No</td>\n",
       "      <td>No</td>\n",
       "      <td>Sunday</td>\n",
       "      <td>Afternoon</td>\n",
       "      <td>1605:35:00</td>\n",
       "    </tr>\n",
       "  </tbody>\n",
       "</table>\n",
       "</div>"
      ],
      "text/plain": [
       "   Star Client      Loan Type  Requested Loan Amount  Revenue        Age  \\\n",
       "0            0         Payday                  500.0     0.18  56.000000   \n",
       "1            0         Payday                  100.0     0.25  38.814992   \n",
       "2            0  Personal Loan                  500.0     0.00  58.000000   \n",
       "3            0         Payday                  400.0     0.18  28.000000   \n",
       "4            0         Payday                  400.0     0.09  44.000000   \n",
       "\n",
       "    Income Source Credit Type  Monthly  Income Car Owner Returning Client  \\\n",
       "0  Job Employment        poor           1000.0        No               No   \n",
       "1  Job Employment        poor           1000.0        No               No   \n",
       "2  Job Employment        fair           5000.0       Yes               No   \n",
       "3  Job Employment        fair           2500.0        No               No   \n",
       "4  Job Employment        poor           2000.0       Yes               No   \n",
       "\n",
       "            State Home Owner Armed forces Created DOW Created Time Braket  \\\n",
       "0  North Carolina         No           No     Tuesday             Morning   \n",
       "1        Oklahoma         No           No      Friday             Morning   \n",
       "2    Pennsylvania         No           No    Saturday           Afternoon   \n",
       "3            Ohio        Yes           No    Saturday             Evening   \n",
       "4           Texas         No           No      Sunday           Afternoon   \n",
       "\n",
       "  Duration_Mod_Cre  \n",
       "0       1586:32:00  \n",
       "1      17351:23:00  \n",
       "2        563:34:00  \n",
       "3        764:22:00  \n",
       "4       1605:35:00  "
      ]
     },
     "execution_count": 4,
     "metadata": {},
     "output_type": "execute_result"
    }
   ],
   "source": [
    "df_eda.head()"
   ]
  },
  {
   "cell_type": "code",
   "execution_count": 5,
   "id": "e78a0a7c",
   "metadata": {},
   "outputs": [
    {
     "name": "stdout",
     "output_type": "stream",
     "text": [
      "0    93.778802\n",
      "1     6.221198\n",
      "Name: Star Client, dtype: float64\n"
     ]
    },
    {
     "data": {
      "image/png": "[encoded data removed]",
      "text/plain": [
       "<Figure size 432x288 with 1 Axes>"
      ]
     },
     "metadata": {
      "needs_background": "light"
     },
     "output_type": "display_data"
    }
   ],
   "source": [
    "clients = df_eda['Star Client'].value_counts(normalize=True) \n",
    "print(clients*100)\n",
    "\n",
    "clients.plot(kind='bar', color=['limegreen','darkorange'], ylabel='Percentage');\n",
    "plt.legend(['Regular','Star'], loc=\"upper right\")\n",
    "plt.title('Ratio of Star Clients to Regular', fontdict = {'fontsize' : 14});"
   ]
  },
  {
   "cell_type": "code",
   "execution_count": 6,
   "id": "35e46741",
   "metadata": {},
   "outputs": [
    {
     "name": "stderr",
     "output_type": "stream",
     "text": [
      "/Users/amirreza/opt/anaconda3/envs/metis/lib/python3.8/site-packages/seaborn/_decorators.py:36: FutureWarning: Pass the following variables as keyword args: x, y. From version 0.12, the only valid positional argument will be `data`, and passing other arguments without an explicit keyword will result in an error or misinterpretation.\n",
      "  warnings.warn(\n"
     ]
    },
    {
     "data": {
      "image/png": "[encoded data removed]",
      "text/plain": [
       "<Figure size 1152x360 with 1 Axes>"
      ]
     },
     "metadata": {
      "needs_background": "light"
     },
     "output_type": "display_data"
    }
   ],
   "source": [
    "credit_type_count = df_eda['Credit Type'].value_counts()\n",
    "plt.figure(figsize=(16,5))\n",
    "sns.barplot(credit_type_count.index, credit_type_count.values, alpha=0.8)\n",
    "plt.title('Credit Type')\n",
    "plt.ylabel('Count of Leads', fontsize=12);"
   ]
  },
  {
   "cell_type": "code",
   "execution_count": 7,
   "id": "d1657bf9",
   "metadata": {},
   "outputs": [
    {
     "name": "stderr",
     "output_type": "stream",
     "text": [
      "/Users/amirreza/opt/anaconda3/envs/metis/lib/python3.8/site-packages/seaborn/_decorators.py:36: FutureWarning: Pass the following variables as keyword args: x, y. From version 0.12, the only valid positional argument will be `data`, and passing other arguments without an explicit keyword will result in an error or misinterpretation.\n",
      "  warnings.warn(\n"
     ]
    },
    {
     "data": {
      "image/png": "[encoded data removed]",
      "text/plain": [
       "<Figure size 1152x360 with 1 Axes>"
      ]
     },
     "metadata": {
      "needs_background": "light"
     },
     "output_type": "display_data"
    }
   ],
   "source": [
    "dow_count = df_eda['Created DOW'].value_counts()\n",
    "plt.figure(figsize=(16,5))\n",
    "sns.barplot(dow_count.index, dow_count.values, alpha=0.8)\n",
    "plt.title('Day of the Week')\n",
    "plt.ylabel('Count of Leads', fontsize=12);"
   ]
  },
  {
   "cell_type": "code",
   "execution_count": 8,
   "id": "e4798dfd",
   "metadata": {},
   "outputs": [
    {
     "name": "stderr",
     "output_type": "stream",
     "text": [
      "/Users/amirreza/opt/anaconda3/envs/metis/lib/python3.8/site-packages/seaborn/_decorators.py:36: FutureWarning: Pass the following variables as keyword args: x, y. From version 0.12, the only valid positional argument will be `data`, and passing other arguments without an explicit keyword will result in an error or misinterpretation.\n",
      "  warnings.warn(\n"
     ]
    },
    {
     "data": {
      "image/png": "[encoded data removed]",
      "text/plain": [
       "<Figure size 1152x360 with 1 Axes>"
      ]
     },
     "metadata": {
      "needs_background": "light"
     },
     "output_type": "display_data"
    }
   ],
   "source": [
    "time_braket_count = df_eda['Created Time Braket'].value_counts()\n",
    "plt.figure(figsize=(16,5))\n",
    "sns.barplot(time_braket_count.index, time_braket_count.values, alpha=0.8)\n",
    "plt.title('Time Braket of the Day')\n",
    "plt.ylabel('Count of Leads', fontsize=12);"
   ]
  },
  {
   "cell_type": "code",
   "execution_count": 9,
   "id": "6a0c3b62",
   "metadata": {},
   "outputs": [
    {
     "name": "stdout",
     "output_type": "stream",
     "text": [
      "No     54.823349\n",
      "Yes    45.176651\n",
      "Name: Car Owner, dtype: float64\n"
     ]
    },
    {
     "data": {
      "image/png": "[encoded data removed]",
      "text/plain": [
       "<Figure size 432x288 with 1 Axes>"
      ]
     },
     "metadata": {
      "needs_background": "light"
     },
     "output_type": "display_data"
    }
   ],
   "source": [
    "car_owner = df_eda['Car Owner'].value_counts(normalize=True) \n",
    "print(car_owner*100)\n",
    "\n",
    "car_owner.plot(kind='bar', color=['limegreen', 'darkorange'], ylabel='Percentage');\n",
    "#plt.legend(['Not A Car Owner', 'Car Owner'], loc=\"upper right\");\n",
    "plt.title('Ratio of Car Owners', fontdict = {'fontsize' : 14});"
   ]
  },
  {
   "cell_type": "code",
   "execution_count": 10,
   "id": "c51a81b2",
   "metadata": {},
   "outputs": [
    {
     "name": "stdout",
     "output_type": "stream",
     "text": [
      "No     98.986175\n",
      "Yes     1.013825\n",
      "Name: Armed forces, dtype: float64\n"
     ]
    },
    {
     "data": {
      "image/png": "[encoded data removed]",
      "text/plain": [
       "<Figure size 432x288 with 1 Axes>"
      ]
     },
     "metadata": {
      "needs_background": "light"
     },
     "output_type": "display_data"
    }
   ],
   "source": [
    "arm_for = df_eda['Armed forces'].value_counts(normalize=True) \n",
    "print(arm_for*100)\n",
    "\n",
    "arm_for.plot(kind='bar', color=['limegreen', 'darkorange'], ylabel='Percentage');\n",
    "#plt.legend(['Not A Car Owner', 'Car Owner'], loc=\"upper right\");\n",
    "plt.title('Ratio of Arm Forces', fontdict = {'fontsize' : 14});"
   ]
  },
  {
   "cell_type": "code",
   "execution_count": 11,
   "id": "23cf7a51",
   "metadata": {},
   "outputs": [
    {
     "name": "stdout",
     "output_type": "stream",
     "text": [
      "Personal Loan    2470\n",
      "Installment      2271\n",
      "Payday           1769\n",
      "Name: Loan Type, dtype: int64\n"
     ]
    },
    {
     "name": "stderr",
     "output_type": "stream",
     "text": [
      "/Users/amirreza/opt/anaconda3/envs/metis/lib/python3.8/site-packages/seaborn/_decorators.py:36: FutureWarning: Pass the following variables as keyword args: x, y. From version 0.12, the only valid positional argument will be `data`, and passing other arguments without an explicit keyword will result in an error or misinterpretation.\n",
      "  warnings.warn(\n"
     ]
    },
    {
     "data": {
      "image/png": "[encoded data removed]",
      "text/plain": [
       "<Figure size 1152x360 with 1 Axes>"
      ]
     },
     "metadata": {
      "needs_background": "light"
     },
     "output_type": "display_data"
    }
   ],
   "source": [
    "loan_type_count = df_eda['Loan Type'].value_counts()\n",
    "print(loan_type_count)\n",
    "plt.figure(figsize=(16,5))\n",
    "sns.barplot(loan_type_count.index, loan_type_count.values, alpha=0.8)\n",
    "plt.title('Loan Type')\n",
    "plt.ylabel('Count of Leads', fontsize=12);"
   ]
  },
  {
   "cell_type": "code",
   "execution_count": 12,
   "id": "df1ab600",
   "metadata": {},
   "outputs": [],
   "source": [
    "#Changing States into 4 regions for dummies\n",
    "West = ['California', 'Alaska','Nevada','Hawaii','Utah','Colorado','Oregon','Washington','Idaho','Montana','Wyoming']\n",
    "Southwest = ['Arizona','New Mexico','Oklahoma','Texas']\n",
    "Midwest = ['North Dakota','South Dakota','Nebraska','Kansas','Minnesota','Iowa','Missouri','Illinois','Indiana','Wisconsin','Michigan','Ohio']\n",
    "Southeast = ['Arkansas','Louisiana','Mississippi','Alabama','Tennessee','Kentucky','Florida','Georgia','South Carolina','North Carolina','Virginia','West Virginia','Maryland','Delaware','District of Columbia']\n",
    "Northeast = ['New Jersey','Pennsylvania','New York','Connecticut','Rhode Island','Massachusetts','Vermont','New Hampshire','Maine']\n",
    "Arm_force = ['Armed Forces Europe','Armed Forces Pacific','Armed Forces Americas']"
   ]
  },
  {
   "cell_type": "code",
   "execution_count": 13,
   "id": "795677d3",
   "metadata": {},
   "outputs": [],
   "source": [
    "def state_change(row):\n",
    "    if row['State'] in West:\n",
    "        row['State'] = 'West'\n",
    "    elif row['State'] in Southwest:\n",
    "        row['State'] = 'Southwest'\n",
    "    elif row['State'] in Midwest:\n",
    "        row['State'] = 'Midwest'\n",
    "    elif row['State'] in Southeast:\n",
    "        row['State'] = 'Southeast'\n",
    "    elif row['State'] in Northeast:\n",
    "        row['State'] = 'Northeast'\n",
    "    elif row['State'] in Arm_force:\n",
    "        row['State'] = 'Arm Force'\n",
    "    return row\n"
   ]
  },
  {
   "cell_type": "code",
   "execution_count": 14,
   "id": "136abe84",
   "metadata": {},
   "outputs": [],
   "source": [
    "df_eda = df_eda.apply(state_change,axis = 1)"
   ]
  },
  {
   "cell_type": "code",
   "execution_count": 15,
   "id": "fdb77f7a",
   "metadata": {},
   "outputs": [
    {
     "data": {
      "text/html": [
       "<div>\n",
       "<style scoped>\n",
       "    .dataframe tbody tr th:only-of-type {\n",
       "        vertical-align: middle;\n",
       "    }\n",
       "\n",
       "    .dataframe tbody tr th {\n",
       "        vertical-align: top;\n",
       "    }\n",
       "\n",
       "    .dataframe thead th {\n",
       "        text-align: right;\n",
       "    }\n",
       "</style>\n",
       "<table border=\"1\" class=\"dataframe\">\n",
       "  <thead>\n",
       "    <tr style=\"text-align: right;\">\n",
       "      <th></th>\n",
       "      <th>Star Client</th>\n",
       "      <th>Loan Type</th>\n",
       "      <th>Requested Loan Amount</th>\n",
       "      <th>Revenue</th>\n",
       "      <th>Age</th>\n",
       "      <th>Income Source</th>\n",
       "      <th>Credit Type</th>\n",
       "      <th>Monthly  Income</th>\n",
       "      <th>Car Owner</th>\n",
       "      <th>Returning Client</th>\n",
       "      <th>State</th>\n",
       "      <th>Home Owner</th>\n",
       "      <th>Armed forces</th>\n",
       "      <th>Created DOW</th>\n",
       "      <th>Created Time Braket</th>\n",
       "      <th>Duration_Mod_Cre</th>\n",
       "    </tr>\n",
       "  </thead>\n",
       "  <tbody>\n",
       "    <tr>\n",
       "      <th>0</th>\n",
       "      <td>0</td>\n",
       "      <td>Payday</td>\n",
       "      <td>500.0</td>\n",
       "      <td>0.18</td>\n",
       "      <td>56.000000</td>\n",
       "      <td>Job Employment</td>\n",
       "      <td>poor</td>\n",
       "      <td>1000.0</td>\n",
       "      <td>No</td>\n",
       "      <td>No</td>\n",
       "      <td>Southeast</td>\n",
       "      <td>No</td>\n",
       "      <td>No</td>\n",
       "      <td>Tuesday</td>\n",
       "      <td>Morning</td>\n",
       "      <td>1586:32:00</td>\n",
       "    </tr>\n",
       "    <tr>\n",
       "      <th>1</th>\n",
       "      <td>0</td>\n",
       "      <td>Payday</td>\n",
       "      <td>100.0</td>\n",
       "      <td>0.25</td>\n",
       "      <td>38.814992</td>\n",
       "      <td>Job Employment</td>\n",
       "      <td>poor</td>\n",
       "      <td>1000.0</td>\n",
       "      <td>No</td>\n",
       "      <td>No</td>\n",
       "      <td>Southwest</td>\n",
       "      <td>No</td>\n",
       "      <td>No</td>\n",
       "      <td>Friday</td>\n",
       "      <td>Morning</td>\n",
       "      <td>17351:23:00</td>\n",
       "    </tr>\n",
       "    <tr>\n",
       "      <th>2</th>\n",
       "      <td>0</td>\n",
       "      <td>Personal Loan</td>\n",
       "      <td>500.0</td>\n",
       "      <td>0.00</td>\n",
       "      <td>58.000000</td>\n",
       "      <td>Job Employment</td>\n",
       "      <td>fair</td>\n",
       "      <td>5000.0</td>\n",
       "      <td>Yes</td>\n",
       "      <td>No</td>\n",
       "      <td>Northeast</td>\n",
       "      <td>No</td>\n",
       "      <td>No</td>\n",
       "      <td>Saturday</td>\n",
       "      <td>Afternoon</td>\n",
       "      <td>563:34:00</td>\n",
       "    </tr>\n",
       "    <tr>\n",
       "      <th>3</th>\n",
       "      <td>0</td>\n",
       "      <td>Payday</td>\n",
       "      <td>400.0</td>\n",
       "      <td>0.18</td>\n",
       "      <td>28.000000</td>\n",
       "      <td>Job Employment</td>\n",
       "      <td>fair</td>\n",
       "      <td>2500.0</td>\n",
       "      <td>No</td>\n",
       "      <td>No</td>\n",
       "      <td>Midwest</td>\n",
       "      <td>Yes</td>\n",
       "      <td>No</td>\n",
       "      <td>Saturday</td>\n",
       "      <td>Evening</td>\n",
       "      <td>764:22:00</td>\n",
       "    </tr>\n",
       "    <tr>\n",
       "      <th>4</th>\n",
       "      <td>0</td>\n",
       "      <td>Payday</td>\n",
       "      <td>400.0</td>\n",
       "      <td>0.09</td>\n",
       "      <td>44.000000</td>\n",
       "      <td>Job Employment</td>\n",
       "      <td>poor</td>\n",
       "      <td>2000.0</td>\n",
       "      <td>Yes</td>\n",
       "      <td>No</td>\n",
       "      <td>Southwest</td>\n",
       "      <td>No</td>\n",
       "      <td>No</td>\n",
       "      <td>Sunday</td>\n",
       "      <td>Afternoon</td>\n",
       "      <td>1605:35:00</td>\n",
       "    </tr>\n",
       "  </tbody>\n",
       "</table>\n",
       "</div>"
      ],
      "text/plain": [
       "   Star Client      Loan Type  Requested Loan Amount  Revenue        Age  \\\n",
       "0            0         Payday                  500.0     0.18  56.000000   \n",
       "1            0         Payday                  100.0     0.25  38.814992   \n",
       "2            0  Personal Loan                  500.0     0.00  58.000000   \n",
       "3            0         Payday                  400.0     0.18  28.000000   \n",
       "4            0         Payday                  400.0     0.09  44.000000   \n",
       "\n",
       "    Income Source Credit Type  Monthly  Income Car Owner Returning Client  \\\n",
       "0  Job Employment        poor           1000.0        No               No   \n",
       "1  Job Employment        poor           1000.0        No               No   \n",
       "2  Job Employment        fair           5000.0       Yes               No   \n",
       "3  Job Employment        fair           2500.0        No               No   \n",
       "4  Job Employment        poor           2000.0       Yes               No   \n",
       "\n",
       "       State Home Owner Armed forces Created DOW Created Time Braket  \\\n",
       "0  Southeast         No           No     Tuesday             Morning   \n",
       "1  Southwest         No           No      Friday             Morning   \n",
       "2  Northeast         No           No    Saturday           Afternoon   \n",
       "3    Midwest        Yes           No    Saturday             Evening   \n",
       "4  Southwest         No           No      Sunday           Afternoon   \n",
       "\n",
       "  Duration_Mod_Cre  \n",
       "0       1586:32:00  \n",
       "1      17351:23:00  \n",
       "2        563:34:00  \n",
       "3        764:22:00  \n",
       "4       1605:35:00  "
      ]
     },
     "execution_count": 15,
     "metadata": {},
     "output_type": "execute_result"
    }
   ],
   "source": [
    "df_eda.head()"
   ]
  },
  {
   "cell_type": "code",
   "execution_count": 16,
   "id": "37f8ce8d",
   "metadata": {},
   "outputs": [
    {
     "name": "stdout",
     "output_type": "stream",
     "text": [
      "Southeast    2493\n",
      "Midwest      1478\n",
      "Southwest    1353\n",
      "West          911\n",
      "Northeast     267\n",
      "Arm Force       8\n",
      "Name: State, dtype: int64\n"
     ]
    },
    {
     "name": "stderr",
     "output_type": "stream",
     "text": [
      "/Users/amirreza/opt/anaconda3/envs/metis/lib/python3.8/site-packages/seaborn/_decorators.py:36: FutureWarning: Pass the following variables as keyword args: x, y. From version 0.12, the only valid positional argument will be `data`, and passing other arguments without an explicit keyword will result in an error or misinterpretation.\n",
      "  warnings.warn(\n"
     ]
    },
    {
     "data": {
      "text/plain": [
       "Text(0, 0.5, 'Leads from Regions')"
      ]
     },
     "execution_count": 16,
     "metadata": {},
     "output_type": "execute_result"
    },
    {
     "data": {
      "image/png": "[encoded data removed]",
      "text/plain": [
       "<Figure size 1152x360 with 1 Axes>"
      ]
     },
     "metadata": {
      "needs_background": "light"
     },
     "output_type": "display_data"
    }
   ],
   "source": [
    "region_count = df_eda['State'].value_counts()\n",
    "print(region_count)\n",
    "plt.figure(figsize=(16,5))\n",
    "sns.barplot(region_count.index, region_count.values, alpha=0.8)\n",
    "plt.title('Region')\n",
    "plt.ylabel('Leads from Regions', fontsize=12)"
   ]
  },
  {
   "cell_type": "code",
   "execution_count": 18,
   "id": "3fa4b45f",
   "metadata": {},
   "outputs": [
    {
     "data": {
      "text/plain": [
       "\"bin_count = df_eda['bin'].value_counts()\\nprint(bin_count)\\nplt.figure(figsize=(16,5))\\nsns.barplot(bin_count.index, bin_count.values, alpha=0.8)\\nplt.title('Age Braket')\\nplt.ylabel('Lead Count', fontsize=12)\""
      ]
     },
     "execution_count": 18,
     "metadata": {},
     "output_type": "execute_result"
    }
   ],
   "source": [
    "'''bin_count = df_eda['bin'].value_counts()\n",
    "print(bin_count)\n",
    "plt.figure(figsize=(16,5))\n",
    "sns.barplot(bin_count.index, bin_count.values, alpha=0.8)\n",
    "plt.title('Age Braket')\n",
    "plt.ylabel('Lead Count', fontsize=12)'''"
   ]
  },
  {
   "cell_type": "markdown",
   "id": "2a8d5cdf",
   "metadata": {},
   "source": [
    "# Baselining"
   ]
  },
  {
   "cell_type": "code",
   "execution_count": 19,
   "id": "6b02a093",
   "metadata": {},
   "outputs": [],
   "source": [
    "df_class = df_eda.copy()"
   ]
  },
  {
   "cell_type": "code",
   "execution_count": 20,
   "id": "e93029f2",
   "metadata": {},
   "outputs": [
    {
     "data": {
      "text/html": [
       "<div>\n",
       "<style scoped>\n",
       "    .dataframe tbody tr th:only-of-type {\n",
       "        vertical-align: middle;\n",
       "    }\n",
       "\n",
       "    .dataframe tbody tr th {\n",
       "        vertical-align: top;\n",
       "    }\n",
       "\n",
       "    .dataframe thead th {\n",
       "        text-align: right;\n",
       "    }\n",
       "</style>\n",
       "<table border=\"1\" class=\"dataframe\">\n",
       "  <thead>\n",
       "    <tr style=\"text-align: right;\">\n",
       "      <th></th>\n",
       "      <th>Star Client</th>\n",
       "      <th>Loan Type</th>\n",
       "      <th>Requested Loan Amount</th>\n",
       "      <th>Revenue</th>\n",
       "      <th>Age</th>\n",
       "      <th>Income Source</th>\n",
       "      <th>Credit Type</th>\n",
       "      <th>Monthly  Income</th>\n",
       "      <th>Car Owner</th>\n",
       "      <th>Returning Client</th>\n",
       "      <th>State</th>\n",
       "      <th>Home Owner</th>\n",
       "      <th>Armed forces</th>\n",
       "      <th>Created DOW</th>\n",
       "      <th>Created Time Braket</th>\n",
       "      <th>Duration_Mod_Cre</th>\n",
       "    </tr>\n",
       "  </thead>\n",
       "  <tbody>\n",
       "    <tr>\n",
       "      <th>0</th>\n",
       "      <td>0</td>\n",
       "      <td>Payday</td>\n",
       "      <td>500.0</td>\n",
       "      <td>0.18</td>\n",
       "      <td>56.000000</td>\n",
       "      <td>Job Employment</td>\n",
       "      <td>poor</td>\n",
       "      <td>1000.0</td>\n",
       "      <td>No</td>\n",
       "      <td>No</td>\n",
       "      <td>Southeast</td>\n",
       "      <td>No</td>\n",
       "      <td>No</td>\n",
       "      <td>Tuesday</td>\n",
       "      <td>Morning</td>\n",
       "      <td>1586:32:00</td>\n",
       "    </tr>\n",
       "    <tr>\n",
       "      <th>1</th>\n",
       "      <td>0</td>\n",
       "      <td>Payday</td>\n",
       "      <td>100.0</td>\n",
       "      <td>0.25</td>\n",
       "      <td>38.814992</td>\n",
       "      <td>Job Employment</td>\n",
       "      <td>poor</td>\n",
       "      <td>1000.0</td>\n",
       "      <td>No</td>\n",
       "      <td>No</td>\n",
       "      <td>Southwest</td>\n",
       "      <td>No</td>\n",
       "      <td>No</td>\n",
       "      <td>Friday</td>\n",
       "      <td>Morning</td>\n",
       "      <td>17351:23:00</td>\n",
       "    </tr>\n",
       "    <tr>\n",
       "      <th>2</th>\n",
       "      <td>0</td>\n",
       "      <td>Personal Loan</td>\n",
       "      <td>500.0</td>\n",
       "      <td>0.00</td>\n",
       "      <td>58.000000</td>\n",
       "      <td>Job Employment</td>\n",
       "      <td>fair</td>\n",
       "      <td>5000.0</td>\n",
       "      <td>Yes</td>\n",
       "      <td>No</td>\n",
       "      <td>Northeast</td>\n",
       "      <td>No</td>\n",
       "      <td>No</td>\n",
       "      <td>Saturday</td>\n",
       "      <td>Afternoon</td>\n",
       "      <td>563:34:00</td>\n",
       "    </tr>\n",
       "    <tr>\n",
       "      <th>3</th>\n",
       "      <td>0</td>\n",
       "      <td>Payday</td>\n",
       "      <td>400.0</td>\n",
       "      <td>0.18</td>\n",
       "      <td>28.000000</td>\n",
       "      <td>Job Employment</td>\n",
       "      <td>fair</td>\n",
       "      <td>2500.0</td>\n",
       "      <td>No</td>\n",
       "      <td>No</td>\n",
       "      <td>Midwest</td>\n",
       "      <td>Yes</td>\n",
       "      <td>No</td>\n",
       "      <td>Saturday</td>\n",
       "      <td>Evening</td>\n",
       "      <td>764:22:00</td>\n",
       "    </tr>\n",
       "    <tr>\n",
       "      <th>4</th>\n",
       "      <td>0</td>\n",
       "      <td>Payday</td>\n",
       "      <td>400.0</td>\n",
       "      <td>0.09</td>\n",
       "      <td>44.000000</td>\n",
       "      <td>Job Employment</td>\n",
       "      <td>poor</td>\n",
       "      <td>2000.0</td>\n",
       "      <td>Yes</td>\n",
       "      <td>No</td>\n",
       "      <td>Southwest</td>\n",
       "      <td>No</td>\n",
       "      <td>No</td>\n",
       "      <td>Sunday</td>\n",
       "      <td>Afternoon</td>\n",
       "      <td>1605:35:00</td>\n",
       "    </tr>\n",
       "  </tbody>\n",
       "</table>\n",
       "</div>"
      ],
      "text/plain": [
       "   Star Client      Loan Type  Requested Loan Amount  Revenue        Age  \\\n",
       "0            0         Payday                  500.0     0.18  56.000000   \n",
       "1            0         Payday                  100.0     0.25  38.814992   \n",
       "2            0  Personal Loan                  500.0     0.00  58.000000   \n",
       "3            0         Payday                  400.0     0.18  28.000000   \n",
       "4            0         Payday                  400.0     0.09  44.000000   \n",
       "\n",
       "    Income Source Credit Type  Monthly  Income Car Owner Returning Client  \\\n",
       "0  Job Employment        poor           1000.0        No               No   \n",
       "1  Job Employment        poor           1000.0        No               No   \n",
       "2  Job Employment        fair           5000.0       Yes               No   \n",
       "3  Job Employment        fair           2500.0        No               No   \n",
       "4  Job Employment        poor           2000.0       Yes               No   \n",
       "\n",
       "       State Home Owner Armed forces Created DOW Created Time Braket  \\\n",
       "0  Southeast         No           No     Tuesday             Morning   \n",
       "1  Southwest         No           No      Friday             Morning   \n",
       "2  Northeast         No           No    Saturday           Afternoon   \n",
       "3    Midwest        Yes           No    Saturday             Evening   \n",
       "4  Southwest         No           No      Sunday           Afternoon   \n",
       "\n",
       "  Duration_Mod_Cre  \n",
       "0       1586:32:00  \n",
       "1      17351:23:00  \n",
       "2        563:34:00  \n",
       "3        764:22:00  \n",
       "4       1605:35:00  "
      ]
     },
     "execution_count": 20,
     "metadata": {},
     "output_type": "execute_result"
    }
   ],
   "source": [
    "df_class.head()"
   ]
  },
  {
   "cell_type": "code",
   "execution_count": 21,
   "id": "9800313b",
   "metadata": {},
   "outputs": [],
   "source": [
    "df_class.drop('Revenue', axis=1, inplace=True)"
   ]
  },
  {
   "cell_type": "code",
   "execution_count": 22,
   "id": "2f02899b",
   "metadata": {},
   "outputs": [],
   "source": [
    "df_class.drop('Duration_Mod_Cre', axis=1, inplace=True)"
   ]
  },
  {
   "cell_type": "code",
   "execution_count": 24,
   "id": "e9c0c574",
   "metadata": {},
   "outputs": [],
   "source": [
    "#df_class.drop('bin', axis=1, inplace=True)"
   ]
  },
  {
   "cell_type": "code",
   "execution_count": 25,
   "id": "377eaabc",
   "metadata": {},
   "outputs": [
    {
     "data": {
      "text/html": [
       "<div>\n",
       "<style scoped>\n",
       "    .dataframe tbody tr th:only-of-type {\n",
       "        vertical-align: middle;\n",
       "    }\n",
       "\n",
       "    .dataframe tbody tr th {\n",
       "        vertical-align: top;\n",
       "    }\n",
       "\n",
       "    .dataframe thead th {\n",
       "        text-align: right;\n",
       "    }\n",
       "</style>\n",
       "<table border=\"1\" class=\"dataframe\">\n",
       "  <thead>\n",
       "    <tr style=\"text-align: right;\">\n",
       "      <th></th>\n",
       "      <th>Star Client</th>\n",
       "      <th>Loan Type</th>\n",
       "      <th>Requested Loan Amount</th>\n",
       "      <th>Age</th>\n",
       "      <th>Income Source</th>\n",
       "      <th>Credit Type</th>\n",
       "      <th>Monthly  Income</th>\n",
       "      <th>Car Owner</th>\n",
       "      <th>Returning Client</th>\n",
       "      <th>State</th>\n",
       "      <th>Home Owner</th>\n",
       "      <th>Armed forces</th>\n",
       "      <th>Created DOW</th>\n",
       "      <th>Created Time Braket</th>\n",
       "    </tr>\n",
       "  </thead>\n",
       "  <tbody>\n",
       "    <tr>\n",
       "      <th>0</th>\n",
       "      <td>0</td>\n",
       "      <td>Payday</td>\n",
       "      <td>500.0</td>\n",
       "      <td>56.000000</td>\n",
       "      <td>Job Employment</td>\n",
       "      <td>poor</td>\n",
       "      <td>1000.0</td>\n",
       "      <td>No</td>\n",
       "      <td>No</td>\n",
       "      <td>Southeast</td>\n",
       "      <td>No</td>\n",
       "      <td>No</td>\n",
       "      <td>Tuesday</td>\n",
       "      <td>Morning</td>\n",
       "    </tr>\n",
       "    <tr>\n",
       "      <th>1</th>\n",
       "      <td>0</td>\n",
       "      <td>Payday</td>\n",
       "      <td>100.0</td>\n",
       "      <td>38.814992</td>\n",
       "      <td>Job Employment</td>\n",
       "      <td>poor</td>\n",
       "      <td>1000.0</td>\n",
       "      <td>No</td>\n",
       "      <td>No</td>\n",
       "      <td>Southwest</td>\n",
       "      <td>No</td>\n",
       "      <td>No</td>\n",
       "      <td>Friday</td>\n",
       "      <td>Morning</td>\n",
       "    </tr>\n",
       "    <tr>\n",
       "      <th>2</th>\n",
       "      <td>0</td>\n",
       "      <td>Personal Loan</td>\n",
       "      <td>500.0</td>\n",
       "      <td>58.000000</td>\n",
       "      <td>Job Employment</td>\n",
       "      <td>fair</td>\n",
       "      <td>5000.0</td>\n",
       "      <td>Yes</td>\n",
       "      <td>No</td>\n",
       "      <td>Northeast</td>\n",
       "      <td>No</td>\n",
       "      <td>No</td>\n",
       "      <td>Saturday</td>\n",
       "      <td>Afternoon</td>\n",
       "    </tr>\n",
       "    <tr>\n",
       "      <th>3</th>\n",
       "      <td>0</td>\n",
       "      <td>Payday</td>\n",
       "      <td>400.0</td>\n",
       "      <td>28.000000</td>\n",
       "      <td>Job Employment</td>\n",
       "      <td>fair</td>\n",
       "      <td>2500.0</td>\n",
       "      <td>No</td>\n",
       "      <td>No</td>\n",
       "      <td>Midwest</td>\n",
       "      <td>Yes</td>\n",
       "      <td>No</td>\n",
       "      <td>Saturday</td>\n",
       "      <td>Evening</td>\n",
       "    </tr>\n",
       "    <tr>\n",
       "      <th>4</th>\n",
       "      <td>0</td>\n",
       "      <td>Payday</td>\n",
       "      <td>400.0</td>\n",
       "      <td>44.000000</td>\n",
       "      <td>Job Employment</td>\n",
       "      <td>poor</td>\n",
       "      <td>2000.0</td>\n",
       "      <td>Yes</td>\n",
       "      <td>No</td>\n",
       "      <td>Southwest</td>\n",
       "      <td>No</td>\n",
       "      <td>No</td>\n",
       "      <td>Sunday</td>\n",
       "      <td>Afternoon</td>\n",
       "    </tr>\n",
       "  </tbody>\n",
       "</table>\n",
       "</div>"
      ],
      "text/plain": [
       "   Star Client      Loan Type  Requested Loan Amount        Age  \\\n",
       "0            0         Payday                  500.0  56.000000   \n",
       "1            0         Payday                  100.0  38.814992   \n",
       "2            0  Personal Loan                  500.0  58.000000   \n",
       "3            0         Payday                  400.0  28.000000   \n",
       "4            0         Payday                  400.0  44.000000   \n",
       "\n",
       "    Income Source Credit Type  Monthly  Income Car Owner Returning Client  \\\n",
       "0  Job Employment        poor           1000.0        No               No   \n",
       "1  Job Employment        poor           1000.0        No               No   \n",
       "2  Job Employment        fair           5000.0       Yes               No   \n",
       "3  Job Employment        fair           2500.0        No               No   \n",
       "4  Job Employment        poor           2000.0       Yes               No   \n",
       "\n",
       "       State Home Owner Armed forces Created DOW Created Time Braket  \n",
       "0  Southeast         No           No     Tuesday             Morning  \n",
       "1  Southwest         No           No      Friday             Morning  \n",
       "2  Northeast         No           No    Saturday           Afternoon  \n",
       "3    Midwest        Yes           No    Saturday             Evening  \n",
       "4  Southwest         No           No      Sunday           Afternoon  "
      ]
     },
     "execution_count": 25,
     "metadata": {},
     "output_type": "execute_result"
    }
   ],
   "source": [
    "df_class.head()"
   ]
  },
  {
   "cell_type": "code",
   "execution_count": 26,
   "id": "bf58f529",
   "metadata": {},
   "outputs": [],
   "source": [
    "#imbalanced Data"
   ]
  },
  {
   "cell_type": "code",
   "execution_count": 27,
   "id": "83f0e17a",
   "metadata": {},
   "outputs": [
    {
     "name": "stdout",
     "output_type": "stream",
     "text": [
      "0    93.778802\n",
      "1     6.221198\n",
      "Name: Star Client, dtype: float64\n"
     ]
    },
    {
     "data": {
      "image/png": "[encoded data removed]",
      "text/plain": [
       "<Figure size 432x288 with 1 Axes>"
      ]
     },
     "metadata": {
      "needs_background": "light"
     },
     "output_type": "display_data"
    }
   ],
   "source": [
    "clients = df_class['Star Client'].value_counts(normalize=True) \n",
    "print(clients*100)\n",
    "\n",
    "clients.plot(kind='bar', color=['limegreen','darkorange'], ylabel='Percentage');\n",
    "plt.legend(['Regular','Star'], loc=\"upper right\")\n",
    "plt.title('Ratio of Star Clients to Regular', fontdict = {'fontsize' : 14});"
   ]
  },
  {
   "cell_type": "code",
   "execution_count": 28,
   "id": "8d639485",
   "metadata": {},
   "outputs": [
    {
     "data": {
      "text/plain": [
       "0    6105\n",
       "1     405\n",
       "Name: Star Client, dtype: int64"
      ]
     },
     "execution_count": 28,
     "metadata": {},
     "output_type": "execute_result"
    }
   ],
   "source": [
    "df_class['Star Client'].value_counts()"
   ]
  },
  {
   "cell_type": "markdown",
   "id": "aa8f1907",
   "metadata": {},
   "source": [
    "### Baseling with 1 feature"
   ]
  },
  {
   "cell_type": "code",
   "execution_count": 29,
   "id": "80e970b6",
   "metadata": {},
   "outputs": [],
   "source": [
    "from sklearn.model_selection import train_test_split\n",
    "from sklearn.preprocessing import StandardScaler\n",
    "from sklearn.linear_model import LogisticRegression\n",
    "\n",
    "from sklearn.metrics import classification_report\n",
    "from sklearn.metrics import precision_score, recall_score, precision_recall_curve,f1_score, fbeta_score\n",
    "from sklearn.metrics import confusion_matrix\n",
    "from sklearn.metrics import roc_auc_score, roc_curve\n",
    "from sklearn.metrics import roc_curve, auc"
   ]
  },
  {
   "cell_type": "code",
   "execution_count": 30,
   "id": "b1689ba2",
   "metadata": {},
   "outputs": [],
   "source": [
    "baseline_1 = df_class.loc[:,['Star Client','Requested Loan Amount']]"
   ]
  },
  {
   "cell_type": "code",
   "execution_count": 31,
   "id": "8eb22a97",
   "metadata": {},
   "outputs": [
    {
     "data": {
      "text/html": [
       "<div>\n",
       "<style scoped>\n",
       "    .dataframe tbody tr th:only-of-type {\n",
       "        vertical-align: middle;\n",
       "    }\n",
       "\n",
       "    .dataframe tbody tr th {\n",
       "        vertical-align: top;\n",
       "    }\n",
       "\n",
       "    .dataframe thead th {\n",
       "        text-align: right;\n",
       "    }\n",
       "</style>\n",
       "<table border=\"1\" class=\"dataframe\">\n",
       "  <thead>\n",
       "    <tr style=\"text-align: right;\">\n",
       "      <th></th>\n",
       "      <th>Star Client</th>\n",
       "      <th>Requested Loan Amount</th>\n",
       "    </tr>\n",
       "  </thead>\n",
       "  <tbody>\n",
       "    <tr>\n",
       "      <th>0</th>\n",
       "      <td>0</td>\n",
       "      <td>500.0</td>\n",
       "    </tr>\n",
       "    <tr>\n",
       "      <th>1</th>\n",
       "      <td>0</td>\n",
       "      <td>100.0</td>\n",
       "    </tr>\n",
       "    <tr>\n",
       "      <th>2</th>\n",
       "      <td>0</td>\n",
       "      <td>500.0</td>\n",
       "    </tr>\n",
       "    <tr>\n",
       "      <th>3</th>\n",
       "      <td>0</td>\n",
       "      <td>400.0</td>\n",
       "    </tr>\n",
       "    <tr>\n",
       "      <th>4</th>\n",
       "      <td>0</td>\n",
       "      <td>400.0</td>\n",
       "    </tr>\n",
       "  </tbody>\n",
       "</table>\n",
       "</div>"
      ],
      "text/plain": [
       "   Star Client  Requested Loan Amount\n",
       "0            0                  500.0\n",
       "1            0                  100.0\n",
       "2            0                  500.0\n",
       "3            0                  400.0\n",
       "4            0                  400.0"
      ]
     },
     "execution_count": 31,
     "metadata": {},
     "output_type": "execute_result"
    }
   ],
   "source": [
    "baseline_1.head()"
   ]
  },
  {
   "cell_type": "code",
   "execution_count": 32,
   "id": "debc1e0a",
   "metadata": {},
   "outputs": [],
   "source": [
    "X1, y1 = baseline_1.drop(['Star Client'], axis=1), baseline_1['Star Client']\n",
    "X1_train, X1_test, y1_train, y1_test = train_test_split(X1, y1, test_size=0.2, random_state=42)\n",
    "\n",
    "scaler = StandardScaler()\n",
    "X_train_sc = scaler.fit_transform(X1_train)\n",
    "X_test_sc = scaler.transform(X1_test)"
   ]
  },
  {
   "cell_type": "markdown",
   "id": "943b3425",
   "metadata": {},
   "source": [
    "## Logistic Regression"
   ]
  },
  {
   "cell_type": "code",
   "execution_count": 33,
   "id": "5159fa13",
   "metadata": {},
   "outputs": [
    {
     "name": "stdout",
     "output_type": "stream",
     "text": [
      "              precision    recall  f1-score   support\n",
      "\n",
      "           0       0.94      1.00      0.97      1218\n",
      "           1       0.00      0.00      0.00        84\n",
      "\n",
      "    accuracy                           0.94      1302\n",
      "   macro avg       0.47      0.50      0.48      1302\n",
      "weighted avg       0.88      0.94      0.90      1302\n",
      "\n"
     ]
    },
    {
     "name": "stderr",
     "output_type": "stream",
     "text": [
      "/Users/amirreza/opt/anaconda3/envs/metis/lib/python3.8/site-packages/sklearn/metrics/_classification.py:1248: UndefinedMetricWarning: Precision is ill-defined and being set to 0.0 due to no predicted samples. Use `zero_division` parameter to control this behavior.\n",
      "  _warn_prf(average, modifier, msg_start, len(result))\n",
      "/Users/amirreza/opt/anaconda3/envs/metis/lib/python3.8/site-packages/sklearn/metrics/_classification.py:1248: UndefinedMetricWarning: Precision and F-score are ill-defined and being set to 0.0 in labels with no predicted samples. Use `zero_division` parameter to control this behavior.\n",
      "  _warn_prf(average, modifier, msg_start, len(result))\n",
      "/Users/amirreza/opt/anaconda3/envs/metis/lib/python3.8/site-packages/sklearn/metrics/_classification.py:1248: UndefinedMetricWarning: Precision and F-score are ill-defined and being set to 0.0 in labels with no predicted samples. Use `zero_division` parameter to control this behavior.\n",
      "  _warn_prf(average, modifier, msg_start, len(result))\n",
      "/Users/amirreza/opt/anaconda3/envs/metis/lib/python3.8/site-packages/sklearn/metrics/_classification.py:1248: UndefinedMetricWarning: Precision and F-score are ill-defined and being set to 0.0 in labels with no predicted samples. Use `zero_division` parameter to control this behavior.\n",
      "  _warn_prf(average, modifier, msg_start, len(result))\n"
     ]
    }
   ],
   "source": [
    "lr = LogisticRegression()\n",
    "lr.fit(X_train_sc, y1_train)\n",
    "lr_pred = lr.predict(X_test_sc)\n",
    "lr_confusion = confusion_matrix(y1_test, lr_pred)\n",
    "\n",
    "lr_ac = lr.score(X_test_sc, y1_test)\n",
    "lr_precision = precision_score(y1_test, lr_pred)\n",
    "lr_recall = recall_score(y1_test, lr_pred)\n",
    "lr_f1 = f1_score(y1_test, lr_pred)\n",
    "\n",
    "lr_y_score = lr.predict_proba(X_test_sc)[:,1]\n",
    "lr_fpr, lr_tpr, lr_auc_thresholds = roc_curve(y1_test, lr_y_score)\n",
    "roc_auc_lr = auc(lr_fpr, lr_tpr)\n",
    "\n",
    "print(classification_report(y1_test, lr_pred))"
   ]
  },
  {
   "cell_type": "code",
   "execution_count": 34,
   "id": "e9fc92d3",
   "metadata": {},
   "outputs": [
    {
     "name": "stdout",
     "output_type": "stream",
     "text": [
      "Logistic Regression validation metrics with subset 1: \n",
      " Accuracy: 0.9355 \n",
      " Precision: 0.0000 \n",
      " Recall: 0.0000 \n",
      " F1: 0.0000 \n",
      " ROC: 0.6456\n"
     ]
    }
   ],
   "source": [
    "print('Logistic Regression validation metrics with subset 1: \\n Accuracy: %.4f \\n Precision: %.4f \\n Recall: %.4f \\n F1: %.4f \\n ROC: %.4f' %\n",
    "        (lr_ac, \n",
    "         lr_precision, \n",
    "         lr_recall,\n",
    "         lr_f1,\n",
    "         roc_auc_lr)\n",
    "     )"
   ]
  },
  {
   "cell_type": "code",
   "execution_count": 35,
   "id": "88cc15fb",
   "metadata": {},
   "outputs": [],
   "source": [
    "def make_confusion_matrix(model, threshold=0.50):\n",
    "    # Predict class 1 if probability of being in class 1 is greater than threshold\n",
    "    # (model.predict(X_test) does this automatically with a threshold of 0.5)\n",
    "    y_predict = (model.predict_proba(X_test_sc)[:, 1] >= threshold)\n",
    "    fraud_confusion = confusion_matrix(y1_test, y_predict)\n",
    "    plt.figure(dpi=80)\n",
    "    sns.heatmap(fraud_confusion, cmap=plt.cm.Blues, annot=True, square=True, fmt='d',\n",
    "           xticklabels=['Regular', 'Star'],\n",
    "           yticklabels=['Regular', 'Star']);\n",
    "    plt.xlabel('prediction')\n",
    "    plt.ylabel('actual')"
   ]
  },
  {
   "cell_type": "code",
   "execution_count": 36,
   "id": "0397df7b",
   "metadata": {},
   "outputs": [
    {
     "data": {
      "image/png": "[encoded data removed]",
      "text/plain": [
       "<Figure size 480x320 with 2 Axes>"
      ]
     },
     "metadata": {
      "needs_background": "light"
     },
     "output_type": "display_data"
    }
   ],
   "source": [
    "from sklearn.metrics import confusion_matrix\n",
    "make_confusion_matrix(lr)"
   ]
  },
  {
   "cell_type": "markdown",
   "id": "e6682501",
   "metadata": {},
   "source": [
    "## KNN "
   ]
  },
  {
   "cell_type": "code",
   "execution_count": 37,
   "id": "bd1b831e",
   "metadata": {},
   "outputs": [
    {
     "name": "stdout",
     "output_type": "stream",
     "text": [
      "              precision    recall  f1-score   support\n",
      "\n",
      "           0       0.94      1.00      0.97      1218\n",
      "           1       0.00      0.00      0.00        84\n",
      "\n",
      "    accuracy                           0.94      1302\n",
      "   macro avg       0.47      0.50      0.48      1302\n",
      "weighted avg       0.88      0.94      0.90      1302\n",
      "\n"
     ]
    },
    {
     "name": "stderr",
     "output_type": "stream",
     "text": [
      "/Users/amirreza/opt/anaconda3/envs/metis/lib/python3.8/site-packages/sklearn/metrics/_classification.py:1248: UndefinedMetricWarning: Precision is ill-defined and being set to 0.0 due to no predicted samples. Use `zero_division` parameter to control this behavior.\n",
      "  _warn_prf(average, modifier, msg_start, len(result))\n",
      "/Users/amirreza/opt/anaconda3/envs/metis/lib/python3.8/site-packages/sklearn/metrics/_classification.py:1248: UndefinedMetricWarning: Precision and F-score are ill-defined and being set to 0.0 in labels with no predicted samples. Use `zero_division` parameter to control this behavior.\n",
      "  _warn_prf(average, modifier, msg_start, len(result))\n",
      "/Users/amirreza/opt/anaconda3/envs/metis/lib/python3.8/site-packages/sklearn/metrics/_classification.py:1248: UndefinedMetricWarning: Precision and F-score are ill-defined and being set to 0.0 in labels with no predicted samples. Use `zero_division` parameter to control this behavior.\n",
      "  _warn_prf(average, modifier, msg_start, len(result))\n",
      "/Users/amirreza/opt/anaconda3/envs/metis/lib/python3.8/site-packages/sklearn/metrics/_classification.py:1248: UndefinedMetricWarning: Precision and F-score are ill-defined and being set to 0.0 in labels with no predicted samples. Use `zero_division` parameter to control this behavior.\n",
      "  _warn_prf(average, modifier, msg_start, len(result))\n"
     ]
    }
   ],
   "source": [
    "# initiate model and calculate error metrics\n",
    "from sklearn.neighbors import KNeighborsClassifier\n",
    "knn = KNeighborsClassifier()\n",
    "knn.fit(X_train_sc, y1_train)\n",
    "knn_pred = knn.predict(X_test_sc)\n",
    "knn_confusion = confusion_matrix(y1_test,knn_pred)\n",
    "\n",
    "knn_ac = knn.score(X_test_sc, y1_test)\n",
    "knn_precision = precision_score(y1_test, knn_pred)\n",
    "knn_recall = recall_score(y1_test, knn_pred)\n",
    "knn_f1 = f1_score(y1_test, knn_pred)\n",
    "\n",
    "print(classification_report(y1_test, knn_pred))"
   ]
  },
  {
   "cell_type": "code",
   "execution_count": 38,
   "id": "0db398a6",
   "metadata": {},
   "outputs": [
    {
     "name": "stdout",
     "output_type": "stream",
     "text": [
      "KNN validation metrics: \n",
      " Accuracy: 0.9355 \n",
      " Precision: 0.0000 \n",
      " Recall: 0.0000 \n",
      " F1: 0.0000\n"
     ]
    }
   ],
   "source": [
    "print('KNN validation metrics: \\n Accuracy: %.4f \\n Precision: %.4f \\n Recall: %.4f \\n F1: %.4f' %\n",
    "        (knn_ac, \n",
    "         knn_precision, \n",
    "         knn_recall,\n",
    "         knn_f1)\n",
    "     )"
   ]
  },
  {
   "cell_type": "code",
   "execution_count": 39,
   "id": "a24f0da0",
   "metadata": {},
   "outputs": [
    {
     "data": {
      "image/png": "[encoded data removed]",
      "text/plain": [
       "<Figure size 480x320 with 2 Axes>"
      ]
     },
     "metadata": {
      "needs_background": "light"
     },
     "output_type": "display_data"
    }
   ],
   "source": [
    "make_confusion_matrix(knn)"
   ]
  },
  {
   "cell_type": "markdown",
   "id": "f7b4bb7f",
   "metadata": {},
   "source": [
    "### Baselining with 3 numerical features"
   ]
  },
  {
   "cell_type": "code",
   "execution_count": 40,
   "id": "6e481b2c",
   "metadata": {},
   "outputs": [],
   "source": [
    "baseline_2 = df_class.loc[:,['Star Client','Requested Loan Amount','Age','Monthly  Income']]"
   ]
  },
  {
   "cell_type": "code",
   "execution_count": 41,
   "id": "43708931",
   "metadata": {},
   "outputs": [
    {
     "data": {
      "text/html": [
       "<div>\n",
       "<style scoped>\n",
       "    .dataframe tbody tr th:only-of-type {\n",
       "        vertical-align: middle;\n",
       "    }\n",
       "\n",
       "    .dataframe tbody tr th {\n",
       "        vertical-align: top;\n",
       "    }\n",
       "\n",
       "    .dataframe thead th {\n",
       "        text-align: right;\n",
       "    }\n",
       "</style>\n",
       "<table border=\"1\" class=\"dataframe\">\n",
       "  <thead>\n",
       "    <tr style=\"text-align: right;\">\n",
       "      <th></th>\n",
       "      <th>Star Client</th>\n",
       "      <th>Requested Loan Amount</th>\n",
       "      <th>Age</th>\n",
       "      <th>Monthly  Income</th>\n",
       "    </tr>\n",
       "  </thead>\n",
       "  <tbody>\n",
       "    <tr>\n",
       "      <th>0</th>\n",
       "      <td>0</td>\n",
       "      <td>500.0</td>\n",
       "      <td>56.000000</td>\n",
       "      <td>1000.0</td>\n",
       "    </tr>\n",
       "    <tr>\n",
       "      <th>1</th>\n",
       "      <td>0</td>\n",
       "      <td>100.0</td>\n",
       "      <td>38.814992</td>\n",
       "      <td>1000.0</td>\n",
       "    </tr>\n",
       "    <tr>\n",
       "      <th>2</th>\n",
       "      <td>0</td>\n",
       "      <td>500.0</td>\n",
       "      <td>58.000000</td>\n",
       "      <td>5000.0</td>\n",
       "    </tr>\n",
       "    <tr>\n",
       "      <th>3</th>\n",
       "      <td>0</td>\n",
       "      <td>400.0</td>\n",
       "      <td>28.000000</td>\n",
       "      <td>2500.0</td>\n",
       "    </tr>\n",
       "    <tr>\n",
       "      <th>4</th>\n",
       "      <td>0</td>\n",
       "      <td>400.0</td>\n",
       "      <td>44.000000</td>\n",
       "      <td>2000.0</td>\n",
       "    </tr>\n",
       "  </tbody>\n",
       "</table>\n",
       "</div>"
      ],
      "text/plain": [
       "   Star Client  Requested Loan Amount        Age  Monthly  Income\n",
       "0            0                  500.0  56.000000           1000.0\n",
       "1            0                  100.0  38.814992           1000.0\n",
       "2            0                  500.0  58.000000           5000.0\n",
       "3            0                  400.0  28.000000           2500.0\n",
       "4            0                  400.0  44.000000           2000.0"
      ]
     },
     "execution_count": 41,
     "metadata": {},
     "output_type": "execute_result"
    }
   ],
   "source": [
    "baseline_2.head()"
   ]
  },
  {
   "cell_type": "code",
   "execution_count": 42,
   "id": "b6551750",
   "metadata": {},
   "outputs": [],
   "source": [
    "X2, y2 = baseline_2.drop(['Star Client'], axis=1), baseline_2['Star Client']\n",
    "X2_train, X2_test, y2_train, y2_test = train_test_split(X2, y2, test_size=0.2, random_state=42)\n",
    "\n",
    "scaler2 = StandardScaler()\n",
    "X_train_sc2 = scaler2.fit_transform(X2_train)\n",
    "X_test_sc2 = scaler2.transform(X2_test)"
   ]
  },
  {
   "cell_type": "markdown",
   "id": "3969e049",
   "metadata": {},
   "source": [
    "### Logistic Regression"
   ]
  },
  {
   "cell_type": "code",
   "execution_count": 45,
   "id": "c2be7b12",
   "metadata": {},
   "outputs": [
    {
     "name": "stdout",
     "output_type": "stream",
     "text": [
      "              precision    recall  f1-score   support\n",
      "\n",
      "           0       0.94      1.00      0.97      1218\n",
      "           1       0.00      0.00      0.00        84\n",
      "\n",
      "    accuracy                           0.94      1302\n",
      "   macro avg       0.47      0.50      0.48      1302\n",
      "weighted avg       0.88      0.94      0.90      1302\n",
      "\n"
     ]
    },
    {
     "name": "stderr",
     "output_type": "stream",
     "text": [
      "/Users/amirreza/opt/anaconda3/envs/metis/lib/python3.8/site-packages/sklearn/metrics/_classification.py:1248: UndefinedMetricWarning: Precision is ill-defined and being set to 0.0 due to no predicted samples. Use `zero_division` parameter to control this behavior.\n",
      "  _warn_prf(average, modifier, msg_start, len(result))\n",
      "/Users/amirreza/opt/anaconda3/envs/metis/lib/python3.8/site-packages/sklearn/metrics/_classification.py:1248: UndefinedMetricWarning: Precision and F-score are ill-defined and being set to 0.0 in labels with no predicted samples. Use `zero_division` parameter to control this behavior.\n",
      "  _warn_prf(average, modifier, msg_start, len(result))\n",
      "/Users/amirreza/opt/anaconda3/envs/metis/lib/python3.8/site-packages/sklearn/metrics/_classification.py:1248: UndefinedMetricWarning: Precision and F-score are ill-defined and being set to 0.0 in labels with no predicted samples. Use `zero_division` parameter to control this behavior.\n",
      "  _warn_prf(average, modifier, msg_start, len(result))\n",
      "/Users/amirreza/opt/anaconda3/envs/metis/lib/python3.8/site-packages/sklearn/metrics/_classification.py:1248: UndefinedMetricWarning: Precision and F-score are ill-defined and being set to 0.0 in labels with no predicted samples. Use `zero_division` parameter to control this behavior.\n",
      "  _warn_prf(average, modifier, msg_start, len(result))\n"
     ]
    }
   ],
   "source": [
    "lr2 = LogisticRegression()\n",
    "lr2.fit(X_train_sc2, y2_train)\n",
    "lr2_pred = lr2.predict(X_test_sc2)\n",
    "lr2_confusion = confusion_matrix(y2_test, lr2_pred)\n",
    "\n",
    "lr2_ac = lr2.score(X_test_sc2, y2_test)\n",
    "lr2_precision = precision_score(y2_test, lr2_pred)\n",
    "lr2_recall = recall_score(y2_test, lr2_pred)\n",
    "lr2_f1 = f1_score(y2_test, lr2_pred)\n",
    "\n",
    "lr_y_score2 = lr2.predict_proba(X_test_sc2)[:,1]\n",
    "lr_fpr2, lr_tpr2, lr_auc_thresholds2 = roc_curve(y2_test, lr_y_score2)\n",
    "roc_auc_lr2 = auc(lr_fpr2, lr_tpr2)\n",
    "\n",
    "print(classification_report(y2_test, lr2_pred))"
   ]
  },
  {
   "cell_type": "code",
   "execution_count": 46,
   "id": "d7da25be",
   "metadata": {},
   "outputs": [
    {
     "name": "stdout",
     "output_type": "stream",
     "text": [
      "Logistic Regression validation metrics with subset 1: \n",
      " Accuracy: 0.9355 \n",
      " Precision: 0.0000 \n",
      " Recall: 0.0000 \n",
      " F1: 0.0000 \n",
      " ROC: 0.5733\n"
     ]
    }
   ],
   "source": [
    "print('Logistic Regression validation metrics with subset 1: \\n Accuracy: %.4f \\n Precision: %.4f \\n Recall: %.4f \\n F1: %.4f \\n ROC: %.4f' %\n",
    "        (lr2_ac, \n",
    "         lr2_precision, \n",
    "         lr2_recall,\n",
    "         lr2_f1,\n",
    "         roc_auc_lr2)\n",
    "     )"
   ]
  },
  {
   "cell_type": "code",
   "execution_count": 51,
   "id": "339a600c",
   "metadata": {},
   "outputs": [
    {
     "name": "stdout",
     "output_type": "stream",
     "text": [
      "logistic confusion matrix: \n",
      "\n",
      " [[   0 1218]\n",
      " [   0   84]]\n"
     ]
    }
   ],
   "source": [
    "print(\"logistic confusion matrix: \\n\\n\", confusion_matrix(y2_test, lr2.predict(X2_test)))\n",
    "#make_confusion_matrix(lr2)"
   ]
  },
  {
   "cell_type": "code",
   "execution_count": null,
   "id": "67f80476",
   "metadata": {},
   "outputs": [],
   "source": []
  }
 ],
 "metadata": {
  "kernelspec": {
   "display_name": "Python [conda env:metis] *",
   "language": "python",
   "name": "conda-env-metis-py"
  },
  "language_info": {
   "codemirror_mode": {
    "name": "ipython",
    "version": 3
   },
   "file_extension": ".py",
   "mimetype": "text/x-python",
   "name": "python",
   "nbconvert_exporter": "python",
   "pygments_lexer": "ipython3",
   "version": "3.8.10"
  }
 },
 "nbformat": 4,
 "nbformat_minor": 5
}
