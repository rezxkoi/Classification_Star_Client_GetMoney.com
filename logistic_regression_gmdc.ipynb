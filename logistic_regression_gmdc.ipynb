{
 "cells": [
  {
   "cell_type": "code",
   "execution_count": 1,
   "id": "4b2600dd",
   "metadata": {},
   "outputs": [],
   "source": [
    "# munging imports\n",
    "import pandas as pd\n",
    "import numpy as np\n",
    "\n",
    "# visualization imports\n",
    "import matplotlib.pyplot as plt\n",
    "import seaborn as sns\n",
    "plt.style.use('fivethirtyeight')\n",
    "\n",
    "%matplotlib inline\n",
    "\n",
    "# modeling imports\n",
    "from sklearn.linear_model import LogisticRegression\n",
    "from sklearn.model_selection import train_test_split\n",
    "from sklearn.metrics import precision_score, recall_score, accuracy_score, roc_auc_score\n",
    "from sklearn.metrics import confusion_matrix\n",
    "from sklearn.preprocessing import StandardScaler"
   ]
  },
  {
   "cell_type": "code",
   "execution_count": 2,
   "id": "5d45be64",
   "metadata": {},
   "outputs": [],
   "source": [
    "df= pd.read_csv('gmdc_df_clean.csv')"
   ]
  },
  {
   "cell_type": "code",
   "execution_count": 3,
   "id": "a89e8ece",
   "metadata": {},
   "outputs": [
    {
     "data": {
      "text/html": [
       "<div>\n",
       "<style scoped>\n",
       "    .dataframe tbody tr th:only-of-type {\n",
       "        vertical-align: middle;\n",
       "    }\n",
       "\n",
       "    .dataframe tbody tr th {\n",
       "        vertical-align: top;\n",
       "    }\n",
       "\n",
       "    .dataframe thead th {\n",
       "        text-align: right;\n",
       "    }\n",
       "</style>\n",
       "<table border=\"1\" class=\"dataframe\">\n",
       "  <thead>\n",
       "    <tr style=\"text-align: right;\">\n",
       "      <th></th>\n",
       "      <th>Star Client</th>\n",
       "      <th>Loan Type</th>\n",
       "      <th>Requested Loan Amount</th>\n",
       "      <th>Revenue</th>\n",
       "      <th>Age</th>\n",
       "      <th>Income Source</th>\n",
       "      <th>Credit Type</th>\n",
       "      <th>Monthly  Income</th>\n",
       "      <th>Car Owner</th>\n",
       "      <th>Returning Client</th>\n",
       "      <th>State</th>\n",
       "      <th>Home Owner</th>\n",
       "      <th>Armed forces</th>\n",
       "      <th>Created DOW</th>\n",
       "      <th>Created Time Braket</th>\n",
       "      <th>Duration_Mod_Cre</th>\n",
       "    </tr>\n",
       "  </thead>\n",
       "  <tbody>\n",
       "    <tr>\n",
       "      <th>0</th>\n",
       "      <td>0</td>\n",
       "      <td>Payday</td>\n",
       "      <td>500.0</td>\n",
       "      <td>0.18</td>\n",
       "      <td>56.000000</td>\n",
       "      <td>Job Employment</td>\n",
       "      <td>poor</td>\n",
       "      <td>1000.0</td>\n",
       "      <td>No</td>\n",
       "      <td>No</td>\n",
       "      <td>North Carolina</td>\n",
       "      <td>No</td>\n",
       "      <td>No</td>\n",
       "      <td>Tuesday</td>\n",
       "      <td>Morning</td>\n",
       "      <td>1586:32:00</td>\n",
       "    </tr>\n",
       "    <tr>\n",
       "      <th>1</th>\n",
       "      <td>0</td>\n",
       "      <td>Payday</td>\n",
       "      <td>100.0</td>\n",
       "      <td>0.25</td>\n",
       "      <td>38.814992</td>\n",
       "      <td>Job Employment</td>\n",
       "      <td>poor</td>\n",
       "      <td>1000.0</td>\n",
       "      <td>No</td>\n",
       "      <td>No</td>\n",
       "      <td>Oklahoma</td>\n",
       "      <td>No</td>\n",
       "      <td>No</td>\n",
       "      <td>Friday</td>\n",
       "      <td>Morning</td>\n",
       "      <td>17351:23:00</td>\n",
       "    </tr>\n",
       "    <tr>\n",
       "      <th>2</th>\n",
       "      <td>0</td>\n",
       "      <td>Personal Loan</td>\n",
       "      <td>500.0</td>\n",
       "      <td>0.00</td>\n",
       "      <td>58.000000</td>\n",
       "      <td>Job Employment</td>\n",
       "      <td>fair</td>\n",
       "      <td>5000.0</td>\n",
       "      <td>Yes</td>\n",
       "      <td>No</td>\n",
       "      <td>Pennsylvania</td>\n",
       "      <td>No</td>\n",
       "      <td>No</td>\n",
       "      <td>Saturday</td>\n",
       "      <td>Afternoon</td>\n",
       "      <td>563:34:00</td>\n",
       "    </tr>\n",
       "    <tr>\n",
       "      <th>3</th>\n",
       "      <td>0</td>\n",
       "      <td>Payday</td>\n",
       "      <td>400.0</td>\n",
       "      <td>0.18</td>\n",
       "      <td>28.000000</td>\n",
       "      <td>Job Employment</td>\n",
       "      <td>fair</td>\n",
       "      <td>2500.0</td>\n",
       "      <td>No</td>\n",
       "      <td>No</td>\n",
       "      <td>Ohio</td>\n",
       "      <td>Yes</td>\n",
       "      <td>No</td>\n",
       "      <td>Saturday</td>\n",
       "      <td>Evening</td>\n",
       "      <td>764:22:00</td>\n",
       "    </tr>\n",
       "    <tr>\n",
       "      <th>4</th>\n",
       "      <td>0</td>\n",
       "      <td>Payday</td>\n",
       "      <td>400.0</td>\n",
       "      <td>0.09</td>\n",
       "      <td>44.000000</td>\n",
       "      <td>Job Employment</td>\n",
       "      <td>poor</td>\n",
       "      <td>2000.0</td>\n",
       "      <td>Yes</td>\n",
       "      <td>No</td>\n",
       "      <td>Texas</td>\n",
       "      <td>No</td>\n",
       "      <td>No</td>\n",
       "      <td>Sunday</td>\n",
       "      <td>Afternoon</td>\n",
       "      <td>1605:35:00</td>\n",
       "    </tr>\n",
       "  </tbody>\n",
       "</table>\n",
       "</div>"
      ],
      "text/plain": [
       "   Star Client      Loan Type  Requested Loan Amount  Revenue        Age  \\\n",
       "0            0         Payday                  500.0     0.18  56.000000   \n",
       "1            0         Payday                  100.0     0.25  38.814992   \n",
       "2            0  Personal Loan                  500.0     0.00  58.000000   \n",
       "3            0         Payday                  400.0     0.18  28.000000   \n",
       "4            0         Payday                  400.0     0.09  44.000000   \n",
       "\n",
       "    Income Source Credit Type  Monthly  Income Car Owner Returning Client  \\\n",
       "0  Job Employment        poor           1000.0        No               No   \n",
       "1  Job Employment        poor           1000.0        No               No   \n",
       "2  Job Employment        fair           5000.0       Yes               No   \n",
       "3  Job Employment        fair           2500.0        No               No   \n",
       "4  Job Employment        poor           2000.0       Yes               No   \n",
       "\n",
       "            State Home Owner Armed forces Created DOW Created Time Braket  \\\n",
       "0  North Carolina         No           No     Tuesday             Morning   \n",
       "1        Oklahoma         No           No      Friday             Morning   \n",
       "2    Pennsylvania         No           No    Saturday           Afternoon   \n",
       "3            Ohio        Yes           No    Saturday             Evening   \n",
       "4           Texas         No           No      Sunday           Afternoon   \n",
       "\n",
       "  Duration_Mod_Cre  \n",
       "0       1586:32:00  \n",
       "1      17351:23:00  \n",
       "2        563:34:00  \n",
       "3        764:22:00  \n",
       "4       1605:35:00  "
      ]
     },
     "execution_count": 3,
     "metadata": {},
     "output_type": "execute_result"
    }
   ],
   "source": [
    "df.head()"
   ]
  },
  {
   "cell_type": "code",
   "execution_count": 4,
   "id": "9243b6c6",
   "metadata": {},
   "outputs": [],
   "source": [
    "df_1 = df.copy()"
   ]
  },
  {
   "cell_type": "markdown",
   "id": "91d2e338",
   "metadata": {},
   "source": [
    "## Plots & EDA"
   ]
  },
  {
   "cell_type": "code",
   "execution_count": 5,
   "id": "a89c220b",
   "metadata": {},
   "outputs": [
    {
     "name": "stdout",
     "output_type": "stream",
     "text": [
      "0    0.937788\n",
      "1    0.062212\n",
      "Name: Star Client, dtype: float64\n"
     ]
    },
    {
     "data": {
      "image/png": "[encoded data removed]",
      "text/plain": [
       "<Figure size 432x288 with 1 Axes>"
      ]
     },
     "metadata": {
      "needs_background": "light"
     },
     "output_type": "display_data"
    }
   ],
   "source": [
    "clients = df_1['Star Client'].value_counts(normalize=True) \n",
    "print(clients)\n",
    "\n",
    "clients.plot(kind='bar', color=['limegreen', 'darkorange'], ylabel='Percentage');\n",
    "plt.legend(['Not Star', 'Star'], loc=\"upper right\");\n",
    "plt.title('Ratio of Star Clients to Regular', fontdict = {'fontsize' : 14});"
   ]
  },
  {
   "cell_type": "markdown",
   "id": "ede7e651",
   "metadata": {},
   "source": [
    "## Baseline with 4"
   ]
  },
  {
   "cell_type": "markdown",
   "id": "54a452e1",
   "metadata": {},
   "source": [
    "### Preparing Dummies"
   ]
  },
  {
   "cell_type": "code",
   "execution_count": 6,
   "id": "2bddfa8d",
   "metadata": {},
   "outputs": [],
   "source": [
    "#Income Source Dummies\n",
    "df_1 = pd.get_dummies(df_1, columns=['Income Source'], drop_first=False) "
   ]
  },
  {
   "cell_type": "code",
   "execution_count": 7,
   "id": "18db1610",
   "metadata": {},
   "outputs": [
    {
     "data": {
      "text/html": [
       "<div>\n",
       "<style scoped>\n",
       "    .dataframe tbody tr th:only-of-type {\n",
       "        vertical-align: middle;\n",
       "    }\n",
       "\n",
       "    .dataframe tbody tr th {\n",
       "        vertical-align: top;\n",
       "    }\n",
       "\n",
       "    .dataframe thead th {\n",
       "        text-align: right;\n",
       "    }\n",
       "</style>\n",
       "<table border=\"1\" class=\"dataframe\">\n",
       "  <thead>\n",
       "    <tr style=\"text-align: right;\">\n",
       "      <th></th>\n",
       "      <th>Star Client</th>\n",
       "      <th>Loan Type</th>\n",
       "      <th>Requested Loan Amount</th>\n",
       "      <th>Revenue</th>\n",
       "      <th>Age</th>\n",
       "      <th>Credit Type</th>\n",
       "      <th>Monthly  Income</th>\n",
       "      <th>Car Owner</th>\n",
       "      <th>Returning Client</th>\n",
       "      <th>State</th>\n",
       "      <th>Home Owner</th>\n",
       "      <th>Armed forces</th>\n",
       "      <th>Created DOW</th>\n",
       "      <th>Created Time Braket</th>\n",
       "      <th>Duration_Mod_Cre</th>\n",
       "      <th>Income Source_Benefits</th>\n",
       "      <th>Income Source_Job Employment</th>\n",
       "      <th>Income Source_Self Employed</th>\n",
       "      <th>Income Source_Unemployed</th>\n",
       "    </tr>\n",
       "  </thead>\n",
       "  <tbody>\n",
       "    <tr>\n",
       "      <th>0</th>\n",
       "      <td>0</td>\n",
       "      <td>Payday</td>\n",
       "      <td>500.0</td>\n",
       "      <td>0.18</td>\n",
       "      <td>56.000000</td>\n",
       "      <td>poor</td>\n",
       "      <td>1000.0</td>\n",
       "      <td>No</td>\n",
       "      <td>No</td>\n",
       "      <td>North Carolina</td>\n",
       "      <td>No</td>\n",
       "      <td>No</td>\n",
       "      <td>Tuesday</td>\n",
       "      <td>Morning</td>\n",
       "      <td>1586:32:00</td>\n",
       "      <td>0</td>\n",
       "      <td>1</td>\n",
       "      <td>0</td>\n",
       "      <td>0</td>\n",
       "    </tr>\n",
       "    <tr>\n",
       "      <th>1</th>\n",
       "      <td>0</td>\n",
       "      <td>Payday</td>\n",
       "      <td>100.0</td>\n",
       "      <td>0.25</td>\n",
       "      <td>38.814992</td>\n",
       "      <td>poor</td>\n",
       "      <td>1000.0</td>\n",
       "      <td>No</td>\n",
       "      <td>No</td>\n",
       "      <td>Oklahoma</td>\n",
       "      <td>No</td>\n",
       "      <td>No</td>\n",
       "      <td>Friday</td>\n",
       "      <td>Morning</td>\n",
       "      <td>17351:23:00</td>\n",
       "      <td>0</td>\n",
       "      <td>1</td>\n",
       "      <td>0</td>\n",
       "      <td>0</td>\n",
       "    </tr>\n",
       "    <tr>\n",
       "      <th>2</th>\n",
       "      <td>0</td>\n",
       "      <td>Personal Loan</td>\n",
       "      <td>500.0</td>\n",
       "      <td>0.00</td>\n",
       "      <td>58.000000</td>\n",
       "      <td>fair</td>\n",
       "      <td>5000.0</td>\n",
       "      <td>Yes</td>\n",
       "      <td>No</td>\n",
       "      <td>Pennsylvania</td>\n",
       "      <td>No</td>\n",
       "      <td>No</td>\n",
       "      <td>Saturday</td>\n",
       "      <td>Afternoon</td>\n",
       "      <td>563:34:00</td>\n",
       "      <td>0</td>\n",
       "      <td>1</td>\n",
       "      <td>0</td>\n",
       "      <td>0</td>\n",
       "    </tr>\n",
       "    <tr>\n",
       "      <th>3</th>\n",
       "      <td>0</td>\n",
       "      <td>Payday</td>\n",
       "      <td>400.0</td>\n",
       "      <td>0.18</td>\n",
       "      <td>28.000000</td>\n",
       "      <td>fair</td>\n",
       "      <td>2500.0</td>\n",
       "      <td>No</td>\n",
       "      <td>No</td>\n",
       "      <td>Ohio</td>\n",
       "      <td>Yes</td>\n",
       "      <td>No</td>\n",
       "      <td>Saturday</td>\n",
       "      <td>Evening</td>\n",
       "      <td>764:22:00</td>\n",
       "      <td>0</td>\n",
       "      <td>1</td>\n",
       "      <td>0</td>\n",
       "      <td>0</td>\n",
       "    </tr>\n",
       "    <tr>\n",
       "      <th>4</th>\n",
       "      <td>0</td>\n",
       "      <td>Payday</td>\n",
       "      <td>400.0</td>\n",
       "      <td>0.09</td>\n",
       "      <td>44.000000</td>\n",
       "      <td>poor</td>\n",
       "      <td>2000.0</td>\n",
       "      <td>Yes</td>\n",
       "      <td>No</td>\n",
       "      <td>Texas</td>\n",
       "      <td>No</td>\n",
       "      <td>No</td>\n",
       "      <td>Sunday</td>\n",
       "      <td>Afternoon</td>\n",
       "      <td>1605:35:00</td>\n",
       "      <td>0</td>\n",
       "      <td>1</td>\n",
       "      <td>0</td>\n",
       "      <td>0</td>\n",
       "    </tr>\n",
       "  </tbody>\n",
       "</table>\n",
       "</div>"
      ],
      "text/plain": [
       "   Star Client      Loan Type  Requested Loan Amount  Revenue        Age  \\\n",
       "0            0         Payday                  500.0     0.18  56.000000   \n",
       "1            0         Payday                  100.0     0.25  38.814992   \n",
       "2            0  Personal Loan                  500.0     0.00  58.000000   \n",
       "3            0         Payday                  400.0     0.18  28.000000   \n",
       "4            0         Payday                  400.0     0.09  44.000000   \n",
       "\n",
       "  Credit Type  Monthly  Income Car Owner Returning Client           State  \\\n",
       "0        poor           1000.0        No               No  North Carolina   \n",
       "1        poor           1000.0        No               No        Oklahoma   \n",
       "2        fair           5000.0       Yes               No    Pennsylvania   \n",
       "3        fair           2500.0        No               No            Ohio   \n",
       "4        poor           2000.0       Yes               No           Texas   \n",
       "\n",
       "  Home Owner Armed forces Created DOW Created Time Braket Duration_Mod_Cre  \\\n",
       "0         No           No     Tuesday             Morning       1586:32:00   \n",
       "1         No           No      Friday             Morning      17351:23:00   \n",
       "2         No           No    Saturday           Afternoon        563:34:00   \n",
       "3        Yes           No    Saturday             Evening        764:22:00   \n",
       "4         No           No      Sunday           Afternoon       1605:35:00   \n",
       "\n",
       "   Income Source_Benefits  Income Source_Job Employment  \\\n",
       "0                       0                             1   \n",
       "1                       0                             1   \n",
       "2                       0                             1   \n",
       "3                       0                             1   \n",
       "4                       0                             1   \n",
       "\n",
       "   Income Source_Self Employed  Income Source_Unemployed  \n",
       "0                            0                         0  \n",
       "1                            0                         0  \n",
       "2                            0                         0  \n",
       "3                            0                         0  \n",
       "4                            0                         0  "
      ]
     },
     "execution_count": 7,
     "metadata": {},
     "output_type": "execute_result"
    }
   ],
   "source": [
    "df_1.head()"
   ]
  },
  {
   "cell_type": "code",
   "execution_count": 8,
   "id": "46b204df",
   "metadata": {},
   "outputs": [],
   "source": [
    "#Loan Type\n",
    "df_1 = pd.get_dummies(df_1, columns=['Loan Type'], drop_first=False) "
   ]
  },
  {
   "cell_type": "code",
   "execution_count": 9,
   "id": "a99e2f8a",
   "metadata": {},
   "outputs": [],
   "source": [
    "#Credit Type\n",
    "df_1 = pd.get_dummies(df_1, columns=['Credit Type'], drop_first=False) "
   ]
  },
  {
   "cell_type": "code",
   "execution_count": 10,
   "id": "05f639e1",
   "metadata": {},
   "outputs": [],
   "source": [
    "#Car Owner\n",
    "df_1 = pd.get_dummies(df_1, columns=['Car Owner'], drop_first=False) "
   ]
  },
  {
   "cell_type": "code",
   "execution_count": 11,
   "id": "91ee6a1f",
   "metadata": {},
   "outputs": [],
   "source": [
    "#Returning Client\n",
    "df_1 = pd.get_dummies(df_1, columns=['Returning Client'], drop_first=False) "
   ]
  },
  {
   "cell_type": "code",
   "execution_count": 12,
   "id": "0ee098f1",
   "metadata": {},
   "outputs": [],
   "source": [
    "#Home Owner\n",
    "df_1 = pd.get_dummies(df_1, columns=['Home Owner'], drop_first=False) "
   ]
  },
  {
   "cell_type": "code",
   "execution_count": 13,
   "id": "ba5152bb",
   "metadata": {},
   "outputs": [],
   "source": [
    "#Armed Forces\n",
    "df_1 = pd.get_dummies(df_1, columns=['Armed forces'], drop_first=False) "
   ]
  },
  {
   "cell_type": "code",
   "execution_count": 14,
   "id": "4027f9bd",
   "metadata": {},
   "outputs": [],
   "source": [
    "#Created Day of the Week\n",
    "df_1 = pd.get_dummies(df_1, columns=['Created DOW'], drop_first=False) "
   ]
  },
  {
   "cell_type": "code",
   "execution_count": 15,
   "id": "e9def30b",
   "metadata": {},
   "outputs": [],
   "source": [
    "#Created Time Braket\n",
    "df_1 = pd.get_dummies(df_1, columns=['Created Time Braket'], drop_first=False) "
   ]
  },
  {
   "cell_type": "code",
   "execution_count": 16,
   "id": "b01f4add",
   "metadata": {},
   "outputs": [
    {
     "data": {
      "text/plain": [
       "Texas                    1093\n",
       "California                512\n",
       "Ohio                      478\n",
       "South Carolina            380\n",
       "Louisiana                 352\n",
       "Florida                   276\n",
       "North Carolina            264\n",
       "Missouri                  232\n",
       "Georgia                   220\n",
       "Tennessee                 206\n",
       "Alabama                   202\n",
       "Mississippi               197\n",
       "Nevada                    157\n",
       "Indiana                   154\n",
       "Illinois                  140\n",
       "Michigan                  138\n",
       "Wisconsin                 132\n",
       "Virginia                  117\n",
       "Arizona                   112\n",
       "Kentucky                   91\n",
       "Kansas                     91\n",
       "New Jersey                 78\n",
       "Oklahoma                   77\n",
       "Maryland                   72\n",
       "New Mexico                 71\n",
       "Delaware                   67\n",
       "Pennsylvania               56\n",
       "Utah                       54\n",
       "Massachusetts              51\n",
       "Colorado                   47\n",
       "Washington                 43\n",
       "Rhode Island               38\n",
       "Oregon                     34\n",
       "Minnesota                  33\n",
       "Nebraska                   32\n",
       "Arkansas                   31\n",
       "Maine                      26\n",
       "Iowa                       24\n",
       "Hawaii                     24\n",
       "Idaho                      22\n",
       "South Dakota               17\n",
       "District of Columbia       10\n",
       "New Hampshire              10\n",
       "Alaska                      9\n",
       "West Virginia               8\n",
       "North Dakota                7\n",
       "Connecticut                 6\n",
       "Montana                     6\n",
       "Armed Forces Europe         5\n",
       "Wyoming                     3\n",
       "Vermont                     2\n",
       "Armed Forces Pacific        2\n",
       "Armed Forces Americas       1\n",
       "Name: State, dtype: int64"
      ]
     },
     "execution_count": 16,
     "metadata": {},
     "output_type": "execute_result"
    }
   ],
   "source": [
    "df_1['State'].value_counts()"
   ]
  },
  {
   "cell_type": "code",
   "execution_count": 17,
   "id": "2dcae57e",
   "metadata": {},
   "outputs": [],
   "source": [
    "#Changing States into 4 regions for dummies\n",
    "West = ['California', 'Alaska','Nevada','Hawaii','Utah','Colorado','Oregon','Washington','Idaho','Montana','Wyoming']\n",
    "Southwest = ['Arizona','New Mexico','Oklahoma','Texas']\n",
    "Midwest = ['North Dakota','South Dakota','Nebraska','Kansas','Minnesota','Iowa','Missouri','Illinois','Indiana','Wisconsin','Michigan','Ohio']\n",
    "Southeast = ['Arkansas','Louisiana','Mississippi','Alabama','Tennessee','Kentucky','Florida','Georgia','South Carolina','North Carolina','Virginia','West Virginia','Maryland','Delaware','District of Columbia']\n",
    "Northeast = ['New Jersey','Pennsylvania','New York','Connecticut','Rhode Island','Massachusetts','Vermont','New Hampshire','Maine']\n",
    "Arm_force = ['Armed Forces Europe','Armed Forces Pacific','Armed Forces Americas']\n",
    "        "
   ]
  },
  {
   "cell_type": "code",
   "execution_count": 18,
   "id": "bd5f19b4",
   "metadata": {},
   "outputs": [],
   "source": [
    "def state_change(row):\n",
    "    if row['State'] in West:\n",
    "        row['State'] = 'West'\n",
    "    elif row['State'] in Southwest:\n",
    "        row['State'] = 'Southwest'\n",
    "    elif row['State'] in Midwest:\n",
    "        row['State'] = 'Midwest'\n",
    "    elif row['State'] in Southeast:\n",
    "        row['State'] = 'Southeast'\n",
    "    elif row['State'] in Northeast:\n",
    "        row['State'] = 'Northeast'\n",
    "    elif row['State'] in Arm_force:\n",
    "        row['State'] = 'Arm Force'\n",
    "    return row\n"
   ]
  },
  {
   "cell_type": "code",
   "execution_count": 19,
   "id": "50adcd86",
   "metadata": {},
   "outputs": [],
   "source": [
    "df_1 = df_1.apply(state_change,axis = 1)"
   ]
  },
  {
   "cell_type": "code",
   "execution_count": 20,
   "id": "6689c047",
   "metadata": {},
   "outputs": [],
   "source": [
    "#State \n",
    "df_1 = pd.get_dummies(df_1, columns=['State'], drop_first=False) "
   ]
  },
  {
   "cell_type": "code",
   "execution_count": 21,
   "id": "700b2521",
   "metadata": {},
   "outputs": [
    {
     "data": {
      "text/html": [
       "<div>\n",
       "<style scoped>\n",
       "    .dataframe tbody tr th:only-of-type {\n",
       "        vertical-align: middle;\n",
       "    }\n",
       "\n",
       "    .dataframe tbody tr th {\n",
       "        vertical-align: top;\n",
       "    }\n",
       "\n",
       "    .dataframe thead th {\n",
       "        text-align: right;\n",
       "    }\n",
       "</style>\n",
       "<table border=\"1\" class=\"dataframe\">\n",
       "  <thead>\n",
       "    <tr style=\"text-align: right;\">\n",
       "      <th></th>\n",
       "      <th>Star Client</th>\n",
       "      <th>Requested Loan Amount</th>\n",
       "      <th>Revenue</th>\n",
       "      <th>Age</th>\n",
       "      <th>Monthly  Income</th>\n",
       "      <th>Duration_Mod_Cre</th>\n",
       "      <th>Income Source_Benefits</th>\n",
       "      <th>Income Source_Job Employment</th>\n",
       "      <th>Income Source_Self Employed</th>\n",
       "      <th>Income Source_Unemployed</th>\n",
       "      <th>...</th>\n",
       "      <th>Created Time Braket_Afternoon</th>\n",
       "      <th>Created Time Braket_Evening</th>\n",
       "      <th>Created Time Braket_Morning</th>\n",
       "      <th>Created Time Braket_Night</th>\n",
       "      <th>State_Arm Force</th>\n",
       "      <th>State_Midwest</th>\n",
       "      <th>State_Northeast</th>\n",
       "      <th>State_Southeast</th>\n",
       "      <th>State_Southwest</th>\n",
       "      <th>State_West</th>\n",
       "    </tr>\n",
       "  </thead>\n",
       "  <tbody>\n",
       "    <tr>\n",
       "      <th>0</th>\n",
       "      <td>0</td>\n",
       "      <td>500.0</td>\n",
       "      <td>0.18</td>\n",
       "      <td>56.000000</td>\n",
       "      <td>1000.0</td>\n",
       "      <td>1586:32:00</td>\n",
       "      <td>0</td>\n",
       "      <td>1</td>\n",
       "      <td>0</td>\n",
       "      <td>0</td>\n",
       "      <td>...</td>\n",
       "      <td>0</td>\n",
       "      <td>0</td>\n",
       "      <td>1</td>\n",
       "      <td>0</td>\n",
       "      <td>0</td>\n",
       "      <td>0</td>\n",
       "      <td>0</td>\n",
       "      <td>1</td>\n",
       "      <td>0</td>\n",
       "      <td>0</td>\n",
       "    </tr>\n",
       "    <tr>\n",
       "      <th>1</th>\n",
       "      <td>0</td>\n",
       "      <td>100.0</td>\n",
       "      <td>0.25</td>\n",
       "      <td>38.814992</td>\n",
       "      <td>1000.0</td>\n",
       "      <td>17351:23:00</td>\n",
       "      <td>0</td>\n",
       "      <td>1</td>\n",
       "      <td>0</td>\n",
       "      <td>0</td>\n",
       "      <td>...</td>\n",
       "      <td>0</td>\n",
       "      <td>0</td>\n",
       "      <td>1</td>\n",
       "      <td>0</td>\n",
       "      <td>0</td>\n",
       "      <td>0</td>\n",
       "      <td>0</td>\n",
       "      <td>0</td>\n",
       "      <td>1</td>\n",
       "      <td>0</td>\n",
       "    </tr>\n",
       "    <tr>\n",
       "      <th>2</th>\n",
       "      <td>0</td>\n",
       "      <td>500.0</td>\n",
       "      <td>0.00</td>\n",
       "      <td>58.000000</td>\n",
       "      <td>5000.0</td>\n",
       "      <td>563:34:00</td>\n",
       "      <td>0</td>\n",
       "      <td>1</td>\n",
       "      <td>0</td>\n",
       "      <td>0</td>\n",
       "      <td>...</td>\n",
       "      <td>1</td>\n",
       "      <td>0</td>\n",
       "      <td>0</td>\n",
       "      <td>0</td>\n",
       "      <td>0</td>\n",
       "      <td>0</td>\n",
       "      <td>1</td>\n",
       "      <td>0</td>\n",
       "      <td>0</td>\n",
       "      <td>0</td>\n",
       "    </tr>\n",
       "    <tr>\n",
       "      <th>3</th>\n",
       "      <td>0</td>\n",
       "      <td>400.0</td>\n",
       "      <td>0.18</td>\n",
       "      <td>28.000000</td>\n",
       "      <td>2500.0</td>\n",
       "      <td>764:22:00</td>\n",
       "      <td>0</td>\n",
       "      <td>1</td>\n",
       "      <td>0</td>\n",
       "      <td>0</td>\n",
       "      <td>...</td>\n",
       "      <td>0</td>\n",
       "      <td>1</td>\n",
       "      <td>0</td>\n",
       "      <td>0</td>\n",
       "      <td>0</td>\n",
       "      <td>1</td>\n",
       "      <td>0</td>\n",
       "      <td>0</td>\n",
       "      <td>0</td>\n",
       "      <td>0</td>\n",
       "    </tr>\n",
       "    <tr>\n",
       "      <th>4</th>\n",
       "      <td>0</td>\n",
       "      <td>400.0</td>\n",
       "      <td>0.09</td>\n",
       "      <td>44.000000</td>\n",
       "      <td>2000.0</td>\n",
       "      <td>1605:35:00</td>\n",
       "      <td>0</td>\n",
       "      <td>1</td>\n",
       "      <td>0</td>\n",
       "      <td>0</td>\n",
       "      <td>...</td>\n",
       "      <td>1</td>\n",
       "      <td>0</td>\n",
       "      <td>0</td>\n",
       "      <td>0</td>\n",
       "      <td>0</td>\n",
       "      <td>0</td>\n",
       "      <td>0</td>\n",
       "      <td>0</td>\n",
       "      <td>1</td>\n",
       "      <td>0</td>\n",
       "    </tr>\n",
       "  </tbody>\n",
       "</table>\n",
       "<p>5 rows × 43 columns</p>\n",
       "</div>"
      ],
      "text/plain": [
       "   Star Client  Requested Loan Amount  Revenue        Age  Monthly  Income  \\\n",
       "0            0                  500.0     0.18  56.000000           1000.0   \n",
       "1            0                  100.0     0.25  38.814992           1000.0   \n",
       "2            0                  500.0     0.00  58.000000           5000.0   \n",
       "3            0                  400.0     0.18  28.000000           2500.0   \n",
       "4            0                  400.0     0.09  44.000000           2000.0   \n",
       "\n",
       "  Duration_Mod_Cre  Income Source_Benefits  Income Source_Job Employment  \\\n",
       "0       1586:32:00                       0                             1   \n",
       "1      17351:23:00                       0                             1   \n",
       "2        563:34:00                       0                             1   \n",
       "3        764:22:00                       0                             1   \n",
       "4       1605:35:00                       0                             1   \n",
       "\n",
       "   Income Source_Self Employed  Income Source_Unemployed  ...  \\\n",
       "0                            0                         0  ...   \n",
       "1                            0                         0  ...   \n",
       "2                            0                         0  ...   \n",
       "3                            0                         0  ...   \n",
       "4                            0                         0  ...   \n",
       "\n",
       "   Created Time Braket_Afternoon  Created Time Braket_Evening  \\\n",
       "0                              0                            0   \n",
       "1                              0                            0   \n",
       "2                              1                            0   \n",
       "3                              0                            1   \n",
       "4                              1                            0   \n",
       "\n",
       "   Created Time Braket_Morning  Created Time Braket_Night  State_Arm Force  \\\n",
       "0                            1                          0                0   \n",
       "1                            1                          0                0   \n",
       "2                            0                          0                0   \n",
       "3                            0                          0                0   \n",
       "4                            0                          0                0   \n",
       "\n",
       "   State_Midwest  State_Northeast  State_Southeast  State_Southwest  \\\n",
       "0              0                0                1                0   \n",
       "1              0                0                0                1   \n",
       "2              0                1                0                0   \n",
       "3              1                0                0                0   \n",
       "4              0                0                0                1   \n",
       "\n",
       "   State_West  \n",
       "0           0  \n",
       "1           0  \n",
       "2           0  \n",
       "3           0  \n",
       "4           0  \n",
       "\n",
       "[5 rows x 43 columns]"
      ]
     },
     "execution_count": 21,
     "metadata": {},
     "output_type": "execute_result"
    }
   ],
   "source": [
    "df_1.head()"
   ]
  },
  {
   "cell_type": "code",
   "execution_count": 22,
   "id": "8511f4a5",
   "metadata": {},
   "outputs": [
    {
     "name": "stdout",
     "output_type": "stream",
     "text": [
      "<class 'pandas.core.frame.DataFrame'>\n",
      "RangeIndex: 6510 entries, 0 to 6509\n",
      "Data columns (total 43 columns):\n",
      " #   Column                         Non-Null Count  Dtype  \n",
      "---  ------                         --------------  -----  \n",
      " 0   Star Client                    6510 non-null   int64  \n",
      " 1   Requested Loan Amount          6510 non-null   float64\n",
      " 2   Revenue                        6510 non-null   float64\n",
      " 3   Age                            6510 non-null   float64\n",
      " 4   Monthly  Income                6510 non-null   float64\n",
      " 5   Duration_Mod_Cre               6510 non-null   object \n",
      " 6   Income Source_Benefits         6510 non-null   int64  \n",
      " 7   Income Source_Job Employment   6510 non-null   int64  \n",
      " 8   Income Source_Self Employed    6510 non-null   int64  \n",
      " 9   Income Source_Unemployed       6510 non-null   int64  \n",
      " 10  Loan Type_Installment          6510 non-null   int64  \n",
      " 11  Loan Type_Payday               6510 non-null   int64  \n",
      " 12  Loan Type_Personal Loan        6510 non-null   int64  \n",
      " 13  Credit Type_No sure            6510 non-null   int64  \n",
      " 14  Credit Type_excellent          6510 non-null   int64  \n",
      " 15  Credit Type_fair               6510 non-null   int64  \n",
      " 16  Credit Type_good               6510 non-null   int64  \n",
      " 17  Credit Type_poor               6510 non-null   int64  \n",
      " 18  Car Owner_No                   6510 non-null   int64  \n",
      " 19  Car Owner_Yes                  6510 non-null   int64  \n",
      " 20  Returning Client_No            6510 non-null   int64  \n",
      " 21  Returning Client_Yes           6510 non-null   int64  \n",
      " 22  Home Owner_No                  6510 non-null   int64  \n",
      " 23  Home Owner_Yes                 6510 non-null   int64  \n",
      " 24  Armed forces_No                6510 non-null   int64  \n",
      " 25  Armed forces_Yes               6510 non-null   int64  \n",
      " 26  Created DOW_Friday             6510 non-null   int64  \n",
      " 27  Created DOW_Monday             6510 non-null   int64  \n",
      " 28  Created DOW_Saturday           6510 non-null   int64  \n",
      " 29  Created DOW_Sunday             6510 non-null   int64  \n",
      " 30  Created DOW_Thursday           6510 non-null   int64  \n",
      " 31  Created DOW_Tuesday            6510 non-null   int64  \n",
      " 32  Created DOW_Wednesday          6510 non-null   int64  \n",
      " 33  Created Time Braket_Afternoon  6510 non-null   int64  \n",
      " 34  Created Time Braket_Evening    6510 non-null   int64  \n",
      " 35  Created Time Braket_Morning    6510 non-null   int64  \n",
      " 36  Created Time Braket_Night      6510 non-null   int64  \n",
      " 37  State_Arm Force                6510 non-null   uint8  \n",
      " 38  State_Midwest                  6510 non-null   uint8  \n",
      " 39  State_Northeast                6510 non-null   uint8  \n",
      " 40  State_Southeast                6510 non-null   uint8  \n",
      " 41  State_Southwest                6510 non-null   uint8  \n",
      " 42  State_West                     6510 non-null   uint8  \n",
      "dtypes: float64(4), int64(32), object(1), uint8(6)\n",
      "memory usage: 1.9+ MB\n"
     ]
    }
   ],
   "source": [
    "df_1.info()"
   ]
  },
  {
   "cell_type": "code",
   "execution_count": 23,
   "id": "80ebae47",
   "metadata": {},
   "outputs": [
    {
     "data": {
      "text/html": [
       "<div>\n",
       "<style scoped>\n",
       "    .dataframe tbody tr th:only-of-type {\n",
       "        vertical-align: middle;\n",
       "    }\n",
       "\n",
       "    .dataframe tbody tr th {\n",
       "        vertical-align: top;\n",
       "    }\n",
       "\n",
       "    .dataframe thead th {\n",
       "        text-align: right;\n",
       "    }\n",
       "</style>\n",
       "<table border=\"1\" class=\"dataframe\">\n",
       "  <thead>\n",
       "    <tr style=\"text-align: right;\">\n",
       "      <th></th>\n",
       "      <th>Star Client</th>\n",
       "      <th>Requested Loan Amount</th>\n",
       "      <th>Revenue</th>\n",
       "      <th>Age</th>\n",
       "      <th>Monthly  Income</th>\n",
       "      <th>Duration_Mod_Cre</th>\n",
       "      <th>Income Source_Benefits</th>\n",
       "      <th>Income Source_Job Employment</th>\n",
       "      <th>Income Source_Self Employed</th>\n",
       "      <th>Income Source_Unemployed</th>\n",
       "      <th>...</th>\n",
       "      <th>Created Time Braket_Afternoon</th>\n",
       "      <th>Created Time Braket_Evening</th>\n",
       "      <th>Created Time Braket_Morning</th>\n",
       "      <th>Created Time Braket_Night</th>\n",
       "      <th>State_Arm Force</th>\n",
       "      <th>State_Midwest</th>\n",
       "      <th>State_Northeast</th>\n",
       "      <th>State_Southeast</th>\n",
       "      <th>State_Southwest</th>\n",
       "      <th>State_West</th>\n",
       "    </tr>\n",
       "  </thead>\n",
       "  <tbody>\n",
       "    <tr>\n",
       "      <th>0</th>\n",
       "      <td>0</td>\n",
       "      <td>500.0</td>\n",
       "      <td>0.18</td>\n",
       "      <td>56.000000</td>\n",
       "      <td>1000.0</td>\n",
       "      <td>1586:32:00</td>\n",
       "      <td>0</td>\n",
       "      <td>1</td>\n",
       "      <td>0</td>\n",
       "      <td>0</td>\n",
       "      <td>...</td>\n",
       "      <td>0</td>\n",
       "      <td>0</td>\n",
       "      <td>1</td>\n",
       "      <td>0</td>\n",
       "      <td>0</td>\n",
       "      <td>0</td>\n",
       "      <td>0</td>\n",
       "      <td>1</td>\n",
       "      <td>0</td>\n",
       "      <td>0</td>\n",
       "    </tr>\n",
       "    <tr>\n",
       "      <th>1</th>\n",
       "      <td>0</td>\n",
       "      <td>100.0</td>\n",
       "      <td>0.25</td>\n",
       "      <td>38.814992</td>\n",
       "      <td>1000.0</td>\n",
       "      <td>17351:23:00</td>\n",
       "      <td>0</td>\n",
       "      <td>1</td>\n",
       "      <td>0</td>\n",
       "      <td>0</td>\n",
       "      <td>...</td>\n",
       "      <td>0</td>\n",
       "      <td>0</td>\n",
       "      <td>1</td>\n",
       "      <td>0</td>\n",
       "      <td>0</td>\n",
       "      <td>0</td>\n",
       "      <td>0</td>\n",
       "      <td>0</td>\n",
       "      <td>1</td>\n",
       "      <td>0</td>\n",
       "    </tr>\n",
       "    <tr>\n",
       "      <th>2</th>\n",
       "      <td>0</td>\n",
       "      <td>500.0</td>\n",
       "      <td>0.00</td>\n",
       "      <td>58.000000</td>\n",
       "      <td>5000.0</td>\n",
       "      <td>563:34:00</td>\n",
       "      <td>0</td>\n",
       "      <td>1</td>\n",
       "      <td>0</td>\n",
       "      <td>0</td>\n",
       "      <td>...</td>\n",
       "      <td>1</td>\n",
       "      <td>0</td>\n",
       "      <td>0</td>\n",
       "      <td>0</td>\n",
       "      <td>0</td>\n",
       "      <td>0</td>\n",
       "      <td>1</td>\n",
       "      <td>0</td>\n",
       "      <td>0</td>\n",
       "      <td>0</td>\n",
       "    </tr>\n",
       "    <tr>\n",
       "      <th>3</th>\n",
       "      <td>0</td>\n",
       "      <td>400.0</td>\n",
       "      <td>0.18</td>\n",
       "      <td>28.000000</td>\n",
       "      <td>2500.0</td>\n",
       "      <td>764:22:00</td>\n",
       "      <td>0</td>\n",
       "      <td>1</td>\n",
       "      <td>0</td>\n",
       "      <td>0</td>\n",
       "      <td>...</td>\n",
       "      <td>0</td>\n",
       "      <td>1</td>\n",
       "      <td>0</td>\n",
       "      <td>0</td>\n",
       "      <td>0</td>\n",
       "      <td>1</td>\n",
       "      <td>0</td>\n",
       "      <td>0</td>\n",
       "      <td>0</td>\n",
       "      <td>0</td>\n",
       "    </tr>\n",
       "    <tr>\n",
       "      <th>4</th>\n",
       "      <td>0</td>\n",
       "      <td>400.0</td>\n",
       "      <td>0.09</td>\n",
       "      <td>44.000000</td>\n",
       "      <td>2000.0</td>\n",
       "      <td>1605:35:00</td>\n",
       "      <td>0</td>\n",
       "      <td>1</td>\n",
       "      <td>0</td>\n",
       "      <td>0</td>\n",
       "      <td>...</td>\n",
       "      <td>1</td>\n",
       "      <td>0</td>\n",
       "      <td>0</td>\n",
       "      <td>0</td>\n",
       "      <td>0</td>\n",
       "      <td>0</td>\n",
       "      <td>0</td>\n",
       "      <td>0</td>\n",
       "      <td>1</td>\n",
       "      <td>0</td>\n",
       "    </tr>\n",
       "  </tbody>\n",
       "</table>\n",
       "<p>5 rows × 43 columns</p>\n",
       "</div>"
      ],
      "text/plain": [
       "   Star Client  Requested Loan Amount  Revenue        Age  Monthly  Income  \\\n",
       "0            0                  500.0     0.18  56.000000           1000.0   \n",
       "1            0                  100.0     0.25  38.814992           1000.0   \n",
       "2            0                  500.0     0.00  58.000000           5000.0   \n",
       "3            0                  400.0     0.18  28.000000           2500.0   \n",
       "4            0                  400.0     0.09  44.000000           2000.0   \n",
       "\n",
       "  Duration_Mod_Cre  Income Source_Benefits  Income Source_Job Employment  \\\n",
       "0       1586:32:00                       0                             1   \n",
       "1      17351:23:00                       0                             1   \n",
       "2        563:34:00                       0                             1   \n",
       "3        764:22:00                       0                             1   \n",
       "4       1605:35:00                       0                             1   \n",
       "\n",
       "   Income Source_Self Employed  Income Source_Unemployed  ...  \\\n",
       "0                            0                         0  ...   \n",
       "1                            0                         0  ...   \n",
       "2                            0                         0  ...   \n",
       "3                            0                         0  ...   \n",
       "4                            0                         0  ...   \n",
       "\n",
       "   Created Time Braket_Afternoon  Created Time Braket_Evening  \\\n",
       "0                              0                            0   \n",
       "1                              0                            0   \n",
       "2                              1                            0   \n",
       "3                              0                            1   \n",
       "4                              1                            0   \n",
       "\n",
       "   Created Time Braket_Morning  Created Time Braket_Night  State_Arm Force  \\\n",
       "0                            1                          0                0   \n",
       "1                            1                          0                0   \n",
       "2                            0                          0                0   \n",
       "3                            0                          0                0   \n",
       "4                            0                          0                0   \n",
       "\n",
       "   State_Midwest  State_Northeast  State_Southeast  State_Southwest  \\\n",
       "0              0                0                1                0   \n",
       "1              0                0                0                1   \n",
       "2              0                1                0                0   \n",
       "3              1                0                0                0   \n",
       "4              0                0                0                1   \n",
       "\n",
       "   State_West  \n",
       "0           0  \n",
       "1           0  \n",
       "2           0  \n",
       "3           0  \n",
       "4           0  \n",
       "\n",
       "[5 rows x 43 columns]"
      ]
     },
     "execution_count": 23,
     "metadata": {},
     "output_type": "execute_result"
    }
   ],
   "source": [
    "df_1.head()"
   ]
  },
  {
   "cell_type": "code",
   "execution_count": 24,
   "id": "dc513d55",
   "metadata": {},
   "outputs": [],
   "source": [
    "df_dum = df_1.copy()"
   ]
  },
  {
   "cell_type": "code",
   "execution_count": 25,
   "id": "bb105356",
   "metadata": {},
   "outputs": [],
   "source": [
    "# Dropping Revenue since the star client characterisitc has been designed from Revenue\n",
    "df_dum.drop('Revenue', axis=1, inplace=True)"
   ]
  },
  {
   "cell_type": "code",
   "execution_count": 26,
   "id": "3ae162fa",
   "metadata": {},
   "outputs": [],
   "source": [
    "df_dum.to_csv('gmdc_df_dum.csv', encoding='utf-8', index=False)"
   ]
  },
  {
   "cell_type": "markdown",
   "id": "33264b3d",
   "metadata": {},
   "source": [
    "## Normalizing "
   ]
  },
  {
   "cell_type": "code",
   "execution_count": 27,
   "id": "2adc7e02",
   "metadata": {},
   "outputs": [
    {
     "data": {
      "text/plain": [
       "Index(['Star Client', 'Requested Loan Amount', 'Age', 'Monthly  Income',\n",
       "       'Duration_Mod_Cre', 'Income Source_Benefits',\n",
       "       'Income Source_Job Employment', 'Income Source_Self Employed',\n",
       "       'Income Source_Unemployed', 'Loan Type_Installment', 'Loan Type_Payday',\n",
       "       'Loan Type_Personal Loan', 'Credit Type_No sure',\n",
       "       'Credit Type_excellent', 'Credit Type_fair', 'Credit Type_good',\n",
       "       'Credit Type_poor', 'Car Owner_No', 'Car Owner_Yes',\n",
       "       'Returning Client_No', 'Returning Client_Yes', 'Home Owner_No',\n",
       "       'Home Owner_Yes', 'Armed forces_No', 'Armed forces_Yes',\n",
       "       'Created DOW_Friday', 'Created DOW_Monday', 'Created DOW_Saturday',\n",
       "       'Created DOW_Sunday', 'Created DOW_Thursday', 'Created DOW_Tuesday',\n",
       "       'Created DOW_Wednesday', 'Created Time Braket_Afternoon',\n",
       "       'Created Time Braket_Evening', 'Created Time Braket_Morning',\n",
       "       'Created Time Braket_Night', 'State_Arm Force', 'State_Midwest',\n",
       "       'State_Northeast', 'State_Southeast', 'State_Southwest', 'State_West'],\n",
       "      dtype='object')"
      ]
     },
     "execution_count": 27,
     "metadata": {},
     "output_type": "execute_result"
    }
   ],
   "source": [
    "df_dum.columns"
   ]
  },
  {
   "cell_type": "code",
   "execution_count": 28,
   "id": "bc41d925",
   "metadata": {},
   "outputs": [],
   "source": [
    "# Making a new DF with the target in the last column for better plotting\n",
    "df_normalized = df_dum.loc[:,['Star Client', 'Requested Loan Amount', 'Age', 'Monthly  Income', 'Income Source_Benefits',\n",
    "       'Income Source_Job Employment', 'Income Source_Self Employed',\n",
    "       'Income Source_Unemployed', 'Loan Type_Installment', 'Loan Type_Payday',\n",
    "       'Loan Type_Personal Loan', 'Credit Type_No sure',\n",
    "       'Credit Type_excellent', 'Credit Type_fair', 'Credit Type_good',\n",
    "       'Credit Type_poor', 'Car Owner_No', 'Car Owner_Yes',\n",
    "       'Returning Client_No', 'Returning Client_Yes', 'Home Owner_No',\n",
    "       'Home Owner_Yes', 'Armed forces_No', 'Armed forces_Yes',\n",
    "       'Created DOW_Friday', 'Created DOW_Monday', 'Created DOW_Saturday',\n",
    "       'Created DOW_Sunday', 'Created DOW_Thursday', 'Created DOW_Tuesday',\n",
    "       'Created DOW_Wednesday', 'Created Time Braket_Afternoon',\n",
    "       'Created Time Braket_Evening', 'Created Time Braket_Morning',\n",
    "       'Created Time Braket_Night', 'State_Arm Force', 'State_Midwest',\n",
    "       'State_Northeast', 'State_Southeast', 'State_Southwest', 'State_West']]"
   ]
  },
  {
   "cell_type": "code",
   "execution_count": 29,
   "id": "c2fda8b5",
   "metadata": {},
   "outputs": [],
   "source": [
    "df_normalized_nodum = df_dum.loc[:,['Requested Loan Amount', 'Age',\n",
    "       'Monthly  Income','Star Client']]"
   ]
  },
  {
   "cell_type": "code",
   "execution_count": 30,
   "id": "93d91ada",
   "metadata": {},
   "outputs": [
    {
     "name": "stderr",
     "output_type": "stream",
     "text": [
      "/Users/amirreza/opt/anaconda3/envs/metis/lib/python3.8/site-packages/seaborn/distributions.py:2619: FutureWarning: `distplot` is a deprecated function and will be removed in a future version. Please adapt your code to use either `displot` (a figure-level function with similar flexibility) or `histplot` (an axes-level function for histograms).\n",
      "  warnings.warn(msg, FutureWarning)\n"
     ]
    },
    {
     "data": {
      "text/plain": [
       "<seaborn.axisgrid.PairGrid at 0x7ffc96a3d1f0>"
      ]
     },
     "execution_count": 30,
     "metadata": {},
     "output_type": "execute_result"
    },
    {
     "data": {
      "image/png": "[encoded data removed]",
      "text/plain": [
       "<Figure size 720x720 with 14 Axes>"
      ]
     },
     "metadata": {
      "needs_background": "light"
     },
     "output_type": "display_data"
    }
   ],
   "source": [
    "# Sometimtes plotting PairGrid takes a while, and we don't need to see *all* the data, so a sample will do\n",
    "g = sns.PairGrid(df_normalized_nodum.sample(frac=0.6), diag_sharey=False, corner=True)\n",
    "g.map_lower(sns.scatterplot)\n",
    "g.map_diag(sns.distplot, kde=False)"
   ]
  },
  {
   "cell_type": "markdown",
   "id": "0cba3d32",
   "metadata": {},
   "source": [
    "### Setting up for the models Standard Scaling and Regularization"
   ]
  },
  {
   "cell_type": "markdown",
   "id": "2b698ca3",
   "metadata": {},
   "source": [
    "### Feature Engineering:"
   ]
  },
  {
   "cell_type": "code",
   "execution_count": 31,
   "id": "6198abf7",
   "metadata": {},
   "outputs": [],
   "source": [
    "#Separate our features from our target\n",
    "\n",
    "X = df_normalized.loc[:,['Requested Loan Amount', 'Age',\n",
    "       'Monthly  Income', 'Income Source_Benefits',\n",
    "       'Income Source_Job Employment', 'Income Source_Self Employed',\n",
    "       'Income Source_Unemployed', 'Loan Type_Installment', 'Loan Type_Payday',\n",
    "       'Loan Type_Personal Loan', 'Credit Type_No sure',\n",
    "       'Credit Type_excellent', 'Credit Type_fair', 'Credit Type_good',\n",
    "       'Credit Type_poor', 'Car Owner_No', 'Car Owner_Yes',\n",
    "       'Returning Client_No', 'Returning Client_Yes', 'Home Owner_No',\n",
    "       'Home Owner_Yes', 'Armed forces_No', 'Armed forces_Yes',\n",
    "       'Created DOW_Friday', 'Created DOW_Monday', 'Created DOW_Saturday',\n",
    "       'Created DOW_Sunday', 'Created DOW_Thursday', 'Created DOW_Tuesday',\n",
    "       'Created DOW_Wednesday', 'Created Time Braket_Afternoon',\n",
    "       'Created Time Braket_Evening', 'Created Time Braket_Morning',\n",
    "       'Created Time Braket_Night', 'State_Arm Force', 'State_Midwest',\n",
    "       'State_Northeast', 'State_Southeast', 'State_Southwest', 'State_West']]\n",
    "\n",
    "y = df_normalized['Star Client']\n",
    "\n",
    "# create overall quality squared term, which we expect to \n",
    "# help based on the relationship we see in the pair plot \n",
    "#X['Age^2'] =(X['Age'])**2\n",
    "#X['Min^2'] = (X['Min'])**2\n",
    "#X['3^Gls'] = 3**(X['Gls'])\n",
    "#X['Ast^2'] = (X['Ast'])**2\n",
    "# multiplicative interaction\n",
    "#X['Age_x_Min'] = X['Age'] * X['Min']\n",
    "#X['Age_x_Gls'] = X['Age'] * X['Gls']\n",
    "#X['Age_x_Ast'] = X['Age'] * X['Ast']\n",
    "\n",
    "# division interaction\n",
    "#X['Ast_/_Min'] = X['Ast'] / X['Min']\n",
    "#X['Gls_/_Min'] = X['Gls'] / X['Min']"
   ]
  },
  {
   "cell_type": "code",
   "execution_count": 32,
   "id": "815f2496",
   "metadata": {},
   "outputs": [
    {
     "name": "stdout",
     "output_type": "stream",
     "text": [
      "<class 'pandas.core.frame.DataFrame'>\n",
      "RangeIndex: 6510 entries, 0 to 6509\n",
      "Data columns (total 40 columns):\n",
      " #   Column                         Non-Null Count  Dtype  \n",
      "---  ------                         --------------  -----  \n",
      " 0   Requested Loan Amount          6510 non-null   float64\n",
      " 1   Age                            6510 non-null   float64\n",
      " 2   Monthly  Income                6510 non-null   float64\n",
      " 3   Income Source_Benefits         6510 non-null   int64  \n",
      " 4   Income Source_Job Employment   6510 non-null   int64  \n",
      " 5   Income Source_Self Employed    6510 non-null   int64  \n",
      " 6   Income Source_Unemployed       6510 non-null   int64  \n",
      " 7   Loan Type_Installment          6510 non-null   int64  \n",
      " 8   Loan Type_Payday               6510 non-null   int64  \n",
      " 9   Loan Type_Personal Loan        6510 non-null   int64  \n",
      " 10  Credit Type_No sure            6510 non-null   int64  \n",
      " 11  Credit Type_excellent          6510 non-null   int64  \n",
      " 12  Credit Type_fair               6510 non-null   int64  \n",
      " 13  Credit Type_good               6510 non-null   int64  \n",
      " 14  Credit Type_poor               6510 non-null   int64  \n",
      " 15  Car Owner_No                   6510 non-null   int64  \n",
      " 16  Car Owner_Yes                  6510 non-null   int64  \n",
      " 17  Returning Client_No            6510 non-null   int64  \n",
      " 18  Returning Client_Yes           6510 non-null   int64  \n",
      " 19  Home Owner_No                  6510 non-null   int64  \n",
      " 20  Home Owner_Yes                 6510 non-null   int64  \n",
      " 21  Armed forces_No                6510 non-null   int64  \n",
      " 22  Armed forces_Yes               6510 non-null   int64  \n",
      " 23  Created DOW_Friday             6510 non-null   int64  \n",
      " 24  Created DOW_Monday             6510 non-null   int64  \n",
      " 25  Created DOW_Saturday           6510 non-null   int64  \n",
      " 26  Created DOW_Sunday             6510 non-null   int64  \n",
      " 27  Created DOW_Thursday           6510 non-null   int64  \n",
      " 28  Created DOW_Tuesday            6510 non-null   int64  \n",
      " 29  Created DOW_Wednesday          6510 non-null   int64  \n",
      " 30  Created Time Braket_Afternoon  6510 non-null   int64  \n",
      " 31  Created Time Braket_Evening    6510 non-null   int64  \n",
      " 32  Created Time Braket_Morning    6510 non-null   int64  \n",
      " 33  Created Time Braket_Night      6510 non-null   int64  \n",
      " 34  State_Arm Force                6510 non-null   uint8  \n",
      " 35  State_Midwest                  6510 non-null   uint8  \n",
      " 36  State_Northeast                6510 non-null   uint8  \n",
      " 37  State_Southeast                6510 non-null   uint8  \n",
      " 38  State_Southwest                6510 non-null   uint8  \n",
      " 39  State_West                     6510 non-null   uint8  \n",
      "dtypes: float64(3), int64(31), uint8(6)\n",
      "memory usage: 1.7 MB\n"
     ]
    }
   ],
   "source": [
    "X.info()"
   ]
  },
  {
   "cell_type": "code",
   "execution_count": 33,
   "id": "3225de25",
   "metadata": {},
   "outputs": [],
   "source": [
    "#Split the data 60 - 20 - 20 train/val/test\n",
    "\n",
    "X_train_val, X_test, y_train_val, y_test = train_test_split(X, y, test_size=0.2,random_state=42)\n",
    "X_train, X_val, y_train, y_val = train_test_split(X_train_val, y_train_val, test_size=.25, random_state=43)"
   ]
  },
  {
   "cell_type": "code",
   "execution_count": 34,
   "id": "1cfe4f98",
   "metadata": {},
   "outputs": [
    {
     "data": {
      "text/plain": [
       "Index(['Requested Loan Amount', 'Age', 'Monthly  Income',\n",
       "       'Income Source_Benefits', 'Income Source_Job Employment',\n",
       "       'Income Source_Self Employed', 'Income Source_Unemployed',\n",
       "       'Loan Type_Installment', 'Loan Type_Payday', 'Loan Type_Personal Loan',\n",
       "       'Credit Type_No sure', 'Credit Type_excellent', 'Credit Type_fair',\n",
       "       'Credit Type_good', 'Credit Type_poor', 'Car Owner_No', 'Car Owner_Yes',\n",
       "       'Returning Client_No', 'Returning Client_Yes', 'Home Owner_No',\n",
       "       'Home Owner_Yes', 'Armed forces_No', 'Armed forces_Yes',\n",
       "       'Created DOW_Friday', 'Created DOW_Monday', 'Created DOW_Saturday',\n",
       "       'Created DOW_Sunday', 'Created DOW_Thursday', 'Created DOW_Tuesday',\n",
       "       'Created DOW_Wednesday', 'Created Time Braket_Afternoon',\n",
       "       'Created Time Braket_Evening', 'Created Time Braket_Morning',\n",
       "       'Created Time Braket_Night', 'State_Arm Force', 'State_Midwest',\n",
       "       'State_Northeast', 'State_Southeast', 'State_Southwest', 'State_West'],\n",
       "      dtype='object')"
      ]
     },
     "execution_count": 34,
     "metadata": {},
     "output_type": "execute_result"
    }
   ],
   "source": [
    "X_train.columns"
   ]
  },
  {
   "cell_type": "code",
   "execution_count": 35,
   "id": "a3bb3fbc",
   "metadata": {},
   "outputs": [
    {
     "data": {
      "text/plain": [
       "(3906, 40)"
      ]
     },
     "execution_count": 35,
     "metadata": {},
     "output_type": "execute_result"
    }
   ],
   "source": [
    "X_train.shape"
   ]
  },
  {
   "cell_type": "code",
   "execution_count": 36,
   "id": "0fb0b9b4",
   "metadata": {},
   "outputs": [
    {
     "data": {
      "text/plain": [
       "(1302, 40)"
      ]
     },
     "execution_count": 36,
     "metadata": {},
     "output_type": "execute_result"
    }
   ],
   "source": [
    "X_val.shape"
   ]
  },
  {
   "cell_type": "code",
   "execution_count": 37,
   "id": "8e39ac6a",
   "metadata": {},
   "outputs": [
    {
     "data": {
      "text/plain": [
       "(1302, 40)"
      ]
     },
     "execution_count": 37,
     "metadata": {},
     "output_type": "execute_result"
    }
   ],
   "source": [
    "X_test.shape"
   ]
  },
  {
   "cell_type": "markdown",
   "id": "7dda6d22",
   "metadata": {},
   "source": [
    "## Standard Scaling"
   ]
  },
  {
   "cell_type": "code",
   "execution_count": 38,
   "id": "cf658dda",
   "metadata": {},
   "outputs": [],
   "source": [
    "from sklearn.pipeline import Pipeline\n",
    "from sklearn.preprocessing import StandardScaler"
   ]
  },
  {
   "cell_type": "code",
   "execution_count": 39,
   "id": "83d2f9c7",
   "metadata": {},
   "outputs": [
    {
     "data": {
      "text/plain": [
       "StandardScaler()"
      ]
     },
     "execution_count": 39,
     "metadata": {},
     "output_type": "execute_result"
    }
   ],
   "source": [
    "## This step fits the Standard Scaler to the training data\n",
    "## Essentially it finds the mean and standard deviation of each variable in the training set\n",
    "\n",
    "std = StandardScaler()\n",
    "std.fit(X_train.values)"
   ]
  },
  {
   "cell_type": "code",
   "execution_count": 40,
   "id": "67bae75e",
   "metadata": {},
   "outputs": [],
   "source": [
    "## This step applies the scaler to the train set.\n",
    "## It subtracts the mean it learned in the previous step and then divides by the standard deviation\n",
    "\n",
    "X_tr = std.transform(X_train.values)"
   ]
  },
  {
   "cell_type": "code",
   "execution_count": 41,
   "id": "b29cbbaa",
   "metadata": {},
   "outputs": [],
   "source": [
    "## Apply the scaler to the test set\n",
    "\n",
    "X_te = std.transform(X_test.values)"
   ]
  },
  {
   "cell_type": "code",
   "execution_count": 42,
   "id": "b4046893",
   "metadata": {},
   "outputs": [
    {
     "data": {
      "text/plain": [
       "(pandas.core.frame.DataFrame, numpy.ndarray)"
      ]
     },
     "execution_count": 42,
     "metadata": {},
     "output_type": "execute_result"
    }
   ],
   "source": [
    "## Note that even though we put a Pandas Dataframe into the scalar, what comes out is a numpy array\n",
    "## In general, sklearn works on numpy.  It will accept pandas objects by trying to coerce them to numpy arrays\n",
    "## But it will not usually output pandas objects\n",
    "\n",
    "type(X_train), type(X_tr)"
   ]
  },
  {
   "cell_type": "code",
   "execution_count": 43,
   "id": "18bab96f",
   "metadata": {},
   "outputs": [],
   "source": [
    "row, col = X_tr.shape"
   ]
  },
  {
   "cell_type": "code",
   "execution_count": 44,
   "id": "e748329a",
   "metadata": {},
   "outputs": [
    {
     "name": "stdout",
     "output_type": "stream",
     "text": [
      "40\n"
     ]
    }
   ],
   "source": [
    "print(col)"
   ]
  },
  {
   "cell_type": "code",
   "execution_count": 45,
   "id": "d60a78f9",
   "metadata": {},
   "outputs": [
    {
     "name": "stdout",
     "output_type": "stream",
     "text": [
      "range(0, 40)\n"
     ]
    }
   ],
   "source": [
    "print(range(col))"
   ]
  },
  {
   "cell_type": "code",
   "execution_count": 46,
   "id": "1961b517",
   "metadata": {},
   "outputs": [
    {
     "data": {
      "image/png": "[encoded data removed]",
      "text/plain": [
       "<Figure size 1080x360 with 3 Axes>"
      ]
     },
     "metadata": {
      "needs_background": "light"
     },
     "output_type": "display_data"
    }
   ],
   "source": [
    "## Here we can plot histograms of a few transformed variables\n",
    "## Note that they seem to have means of 0 and stddevs of 1\n",
    "## (though they are not necessarily normally distributed)\n",
    "fig, axes = plt.subplots(1, 3, figsize=(15, 5))\n",
    "\n",
    "#for i in range(col):\n",
    "#sns.distplot(X_tr[:, 0], label='feature 1', ax=axes[0], kde=False, bins=10, norm_hist=True)\n",
    "#sns.distplot(X_tr[:, 1], label='feature 2', ax=axes[1], kde=False, bins=10, norm_hist=True)\n",
    "#sns.distplot(X_tr[:, 2], label='feature 3', ax=axes[2], kde=False, bins=10, norm_hist=True)\n",
    "#sns.distplot(X_tr[:, 3], label='feature 4', ax=axes[3], kde=False, bins=10, norm_hist=True)"
   ]
  },
  {
   "cell_type": "markdown",
   "id": "f6094b06",
   "metadata": {},
   "source": [
    "## KNN "
   ]
  },
  {
   "cell_type": "code",
   "execution_count": 47,
   "id": "cdf9c0a4",
   "metadata": {},
   "outputs": [
    {
     "data": {
      "text/html": [
       "<div>\n",
       "<style scoped>\n",
       "    .dataframe tbody tr th:only-of-type {\n",
       "        vertical-align: middle;\n",
       "    }\n",
       "\n",
       "    .dataframe tbody tr th {\n",
       "        vertical-align: top;\n",
       "    }\n",
       "\n",
       "    .dataframe thead th {\n",
       "        text-align: right;\n",
       "    }\n",
       "</style>\n",
       "<table border=\"1\" class=\"dataframe\">\n",
       "  <thead>\n",
       "    <tr style=\"text-align: right;\">\n",
       "      <th></th>\n",
       "      <th>Star Client</th>\n",
       "      <th>Requested Loan Amount</th>\n",
       "      <th>Age</th>\n",
       "      <th>Monthly  Income</th>\n",
       "      <th>Income Source_Benefits</th>\n",
       "      <th>Income Source_Job Employment</th>\n",
       "      <th>Income Source_Self Employed</th>\n",
       "      <th>Income Source_Unemployed</th>\n",
       "      <th>Loan Type_Installment</th>\n",
       "      <th>Loan Type_Payday</th>\n",
       "      <th>...</th>\n",
       "      <th>Created Time Braket_Afternoon</th>\n",
       "      <th>Created Time Braket_Evening</th>\n",
       "      <th>Created Time Braket_Morning</th>\n",
       "      <th>Created Time Braket_Night</th>\n",
       "      <th>State_Arm Force</th>\n",
       "      <th>State_Midwest</th>\n",
       "      <th>State_Northeast</th>\n",
       "      <th>State_Southeast</th>\n",
       "      <th>State_Southwest</th>\n",
       "      <th>State_West</th>\n",
       "    </tr>\n",
       "  </thead>\n",
       "  <tbody>\n",
       "    <tr>\n",
       "      <th>0</th>\n",
       "      <td>0</td>\n",
       "      <td>500.0</td>\n",
       "      <td>56.000000</td>\n",
       "      <td>1000.0</td>\n",
       "      <td>0</td>\n",
       "      <td>1</td>\n",
       "      <td>0</td>\n",
       "      <td>0</td>\n",
       "      <td>0</td>\n",
       "      <td>1</td>\n",
       "      <td>...</td>\n",
       "      <td>0</td>\n",
       "      <td>0</td>\n",
       "      <td>1</td>\n",
       "      <td>0</td>\n",
       "      <td>0</td>\n",
       "      <td>0</td>\n",
       "      <td>0</td>\n",
       "      <td>1</td>\n",
       "      <td>0</td>\n",
       "      <td>0</td>\n",
       "    </tr>\n",
       "    <tr>\n",
       "      <th>1</th>\n",
       "      <td>0</td>\n",
       "      <td>100.0</td>\n",
       "      <td>38.814992</td>\n",
       "      <td>1000.0</td>\n",
       "      <td>0</td>\n",
       "      <td>1</td>\n",
       "      <td>0</td>\n",
       "      <td>0</td>\n",
       "      <td>0</td>\n",
       "      <td>1</td>\n",
       "      <td>...</td>\n",
       "      <td>0</td>\n",
       "      <td>0</td>\n",
       "      <td>1</td>\n",
       "      <td>0</td>\n",
       "      <td>0</td>\n",
       "      <td>0</td>\n",
       "      <td>0</td>\n",
       "      <td>0</td>\n",
       "      <td>1</td>\n",
       "      <td>0</td>\n",
       "    </tr>\n",
       "    <tr>\n",
       "      <th>2</th>\n",
       "      <td>0</td>\n",
       "      <td>500.0</td>\n",
       "      <td>58.000000</td>\n",
       "      <td>5000.0</td>\n",
       "      <td>0</td>\n",
       "      <td>1</td>\n",
       "      <td>0</td>\n",
       "      <td>0</td>\n",
       "      <td>0</td>\n",
       "      <td>0</td>\n",
       "      <td>...</td>\n",
       "      <td>1</td>\n",
       "      <td>0</td>\n",
       "      <td>0</td>\n",
       "      <td>0</td>\n",
       "      <td>0</td>\n",
       "      <td>0</td>\n",
       "      <td>1</td>\n",
       "      <td>0</td>\n",
       "      <td>0</td>\n",
       "      <td>0</td>\n",
       "    </tr>\n",
       "    <tr>\n",
       "      <th>3</th>\n",
       "      <td>0</td>\n",
       "      <td>400.0</td>\n",
       "      <td>28.000000</td>\n",
       "      <td>2500.0</td>\n",
       "      <td>0</td>\n",
       "      <td>1</td>\n",
       "      <td>0</td>\n",
       "      <td>0</td>\n",
       "      <td>0</td>\n",
       "      <td>1</td>\n",
       "      <td>...</td>\n",
       "      <td>0</td>\n",
       "      <td>1</td>\n",
       "      <td>0</td>\n",
       "      <td>0</td>\n",
       "      <td>0</td>\n",
       "      <td>1</td>\n",
       "      <td>0</td>\n",
       "      <td>0</td>\n",
       "      <td>0</td>\n",
       "      <td>0</td>\n",
       "    </tr>\n",
       "    <tr>\n",
       "      <th>4</th>\n",
       "      <td>0</td>\n",
       "      <td>400.0</td>\n",
       "      <td>44.000000</td>\n",
       "      <td>2000.0</td>\n",
       "      <td>0</td>\n",
       "      <td>1</td>\n",
       "      <td>0</td>\n",
       "      <td>0</td>\n",
       "      <td>0</td>\n",
       "      <td>1</td>\n",
       "      <td>...</td>\n",
       "      <td>1</td>\n",
       "      <td>0</td>\n",
       "      <td>0</td>\n",
       "      <td>0</td>\n",
       "      <td>0</td>\n",
       "      <td>0</td>\n",
       "      <td>0</td>\n",
       "      <td>0</td>\n",
       "      <td>1</td>\n",
       "      <td>0</td>\n",
       "    </tr>\n",
       "  </tbody>\n",
       "</table>\n",
       "<p>5 rows × 41 columns</p>\n",
       "</div>"
      ],
      "text/plain": [
       "   Star Client  Requested Loan Amount        Age  Monthly  Income  \\\n",
       "0            0                  500.0  56.000000           1000.0   \n",
       "1            0                  100.0  38.814992           1000.0   \n",
       "2            0                  500.0  58.000000           5000.0   \n",
       "3            0                  400.0  28.000000           2500.0   \n",
       "4            0                  400.0  44.000000           2000.0   \n",
       "\n",
       "   Income Source_Benefits  Income Source_Job Employment  \\\n",
       "0                       0                             1   \n",
       "1                       0                             1   \n",
       "2                       0                             1   \n",
       "3                       0                             1   \n",
       "4                       0                             1   \n",
       "\n",
       "   Income Source_Self Employed  Income Source_Unemployed  \\\n",
       "0                            0                         0   \n",
       "1                            0                         0   \n",
       "2                            0                         0   \n",
       "3                            0                         0   \n",
       "4                            0                         0   \n",
       "\n",
       "   Loan Type_Installment  Loan Type_Payday  ...  \\\n",
       "0                      0                 1  ...   \n",
       "1                      0                 1  ...   \n",
       "2                      0                 0  ...   \n",
       "3                      0                 1  ...   \n",
       "4                      0                 1  ...   \n",
       "\n",
       "   Created Time Braket_Afternoon  Created Time Braket_Evening  \\\n",
       "0                              0                            0   \n",
       "1                              0                            0   \n",
       "2                              1                            0   \n",
       "3                              0                            1   \n",
       "4                              1                            0   \n",
       "\n",
       "   Created Time Braket_Morning  Created Time Braket_Night  State_Arm Force  \\\n",
       "0                            1                          0                0   \n",
       "1                            1                          0                0   \n",
       "2                            0                          0                0   \n",
       "3                            0                          0                0   \n",
       "4                            0                          0                0   \n",
       "\n",
       "   State_Midwest  State_Northeast  State_Southeast  State_Southwest  \\\n",
       "0              0                0                1                0   \n",
       "1              0                0                0                1   \n",
       "2              0                1                0                0   \n",
       "3              1                0                0                0   \n",
       "4              0                0                0                1   \n",
       "\n",
       "   State_West  \n",
       "0           0  \n",
       "1           0  \n",
       "2           0  \n",
       "3           0  \n",
       "4           0  \n",
       "\n",
       "[5 rows x 41 columns]"
      ]
     },
     "execution_count": 47,
     "metadata": {},
     "output_type": "execute_result"
    }
   ],
   "source": [
    "df_normalized.head()"
   ]
  },
  {
   "cell_type": "code",
   "execution_count": 48,
   "id": "c5c49ab6",
   "metadata": {},
   "outputs": [],
   "source": [
    "#X = df_dum.iloc[:, 1:]\n",
    "#y = df_dum.iloc[:, 0]"
   ]
  },
  {
   "cell_type": "code",
   "execution_count": 49,
   "id": "6c4d935f",
   "metadata": {},
   "outputs": [
    {
     "name": "stdout",
     "output_type": "stream",
     "text": [
      "(6510, 40)\n",
      "(6510,)\n"
     ]
    }
   ],
   "source": [
    "# print the shapes of X and y\n",
    "print(X.shape)\n",
    "print(y.shape)"
   ]
  },
  {
   "cell_type": "code",
   "execution_count": 50,
   "id": "956f87da",
   "metadata": {},
   "outputs": [],
   "source": [
    "# STEP 1: split X and y into training and testing sets\n",
    "#from sklearn.model_selection import train_test_split\n",
    "\n",
    "#X_train, X_test, y_train, y_test = train_test_split(X, y, test_size=0.4, random_state=42)"
   ]
  },
  {
   "cell_type": "code",
   "execution_count": 51,
   "id": "8cbbce06",
   "metadata": {},
   "outputs": [
    {
     "name": "stdout",
     "output_type": "stream",
     "text": [
      "(3906, 40)\n",
      "(1302, 40)\n"
     ]
    }
   ],
   "source": [
    "# print the shapes of the new X objects\n",
    "print(X_tr.shape)\n",
    "print(X_te.shape)"
   ]
  },
  {
   "cell_type": "code",
   "execution_count": 52,
   "id": "f573e7ff",
   "metadata": {},
   "outputs": [
    {
     "name": "stdout",
     "output_type": "stream",
     "text": [
      "(3906,)\n",
      "(1302,)\n"
     ]
    }
   ],
   "source": [
    "# print the shapes of the new y objects\n",
    "print(y_train.shape)\n",
    "print(y_test.shape)"
   ]
  },
  {
   "cell_type": "code",
   "execution_count": 53,
   "id": "e8a85d49",
   "metadata": {},
   "outputs": [
    {
     "name": "stdout",
     "output_type": "stream",
     "text": [
      "0.9278033794162827\n"
     ]
    }
   ],
   "source": [
    "# Train on training set, and Test on testing set\n",
    "from sklearn.neighbors import KNeighborsClassifier\n",
    "from sklearn import metrics\n",
    "knn = KNeighborsClassifier(n_neighbors=5)\n",
    "\n",
    "knn.fit(X_tr, y_train)\n",
    "y_pred = knn.predict(X_te)\n",
    "\n",
    "print(metrics.accuracy_score(y_test, y_pred))"
   ]
  },
  {
   "cell_type": "code",
   "execution_count": 54,
   "id": "46b60ce2",
   "metadata": {},
   "outputs": [
    {
     "name": "stdout",
     "output_type": "stream",
     "text": [
      "The score for kNN is\n",
      "Training:  94.24%\n",
      "Test set:  93.16%\n"
     ]
    }
   ],
   "source": [
    "knn = KNeighborsClassifier(n_neighbors=4)\n",
    "knn.fit(X_tr, y_train)\n",
    "print(\"The score for kNN is\")\n",
    "print(\"Training: {:6.2f}%\".format(100*knn.score(X_tr, y_train)))\n",
    "print(\"Test set: {:6.2f}%\".format(100*knn.score(X_te, y_test)))"
   ]
  },
  {
   "cell_type": "code",
   "execution_count": 55,
   "id": "87ffcc51",
   "metadata": {},
   "outputs": [
    {
     "name": "stdout",
     "output_type": "stream",
     "text": [
      "The score for logistic regression is\n",
      "Training:  93.83%\n",
      "Test set:  93.55%\n"
     ]
    }
   ],
   "source": [
    "logit = LogisticRegression(C = 0.95)\n",
    "logit.fit(X_tr, y_train)\n",
    "print(\"The score for logistic regression is\")\n",
    "print(\"Training: {:6.2f}%\".format(100*logit.score(X_tr, y_train)))\n",
    "print(\"Test set: {:6.2f}%\".format(100*logit.score(X_te, y_test)))"
   ]
  },
  {
   "cell_type": "code",
   "execution_count": 56,
   "id": "d8d25f25",
   "metadata": {},
   "outputs": [
    {
     "name": "stdout",
     "output_type": "stream",
     "text": [
      "kNN confusion matrix: \n",
      "\n",
      " [[1213    5]\n",
      " [  84    0]]\n"
     ]
    }
   ],
   "source": [
    "from sklearn.metrics import confusion_matrix\n",
    "\n",
    "print(\"kNN confusion matrix: \\n\\n\", confusion_matrix(y_test, knn.predict(X_te)))"
   ]
  },
  {
   "cell_type": "markdown",
   "id": "9e718c45",
   "metadata": {},
   "source": [
    "### Metrics"
   ]
  },
  {
   "cell_type": "code",
   "execution_count": 57,
   "id": "573cc99d",
   "metadata": {},
   "outputs": [
    {
     "name": "stdout",
     "output_type": "stream",
     "text": [
      "logistic confusion matrix: \n",
      "\n",
      " [[1218    0]\n",
      " [  84    0]]\n"
     ]
    }
   ],
   "source": [
    "print(\"logistic confusion matrix: \\n\\n\", confusion_matrix(y_test, logit.predict(X_te)))"
   ]
  },
  {
   "cell_type": "code",
   "execution_count": 58,
   "id": "ea6956ad",
   "metadata": {},
   "outputs": [
    {
     "name": "stdout",
     "output_type": "stream",
     "text": [
      "Logistic score: 0.9383\n"
     ]
    }
   ],
   "source": [
    "lm = LogisticRegression(C = 100, max_iter = 1000)\n",
    "lm.fit(X_tr, y_train)\n",
    "print(\"Logistic score: {:6.4f}\".format(lm.score(X_tr,y_train)))"
   ]
  },
  {
   "cell_type": "code",
   "execution_count": 59,
   "id": "2e465187",
   "metadata": {},
   "outputs": [],
   "source": [
    "def make_confusion_matrix(model, threshold=0.5):\n",
    "    # Predict class 1 if probability of being in class 1 is greater than threshold\n",
    "    # (model.predict(X_test) does this automatically with a threshold of 0.5)\n",
    "    y_predict = (model.predict_proba(X_te)[:, 1] >= threshold)\n",
    "    fraud_confusion = confusion_matrix(y_test, y_predict)\n",
    "    plt.figure(dpi=80)\n",
    "    sns.heatmap(fraud_confusion, cmap=plt.cm.Blues, annot=True, square=True, fmt='d',\n",
    "           xticklabels=['Regular', 'Star'],\n",
    "           yticklabels=['Regular', 'Star']);\n",
    "    plt.xlabel('prediction')\n",
    "    plt.ylabel('actual')"
   ]
  },
  {
   "cell_type": "code",
   "execution_count": 60,
   "id": "d916859d",
   "metadata": {},
   "outputs": [
    {
     "name": "stdout",
     "output_type": "stream",
     "text": [
      "Confusion matrix for silly model where we predict all 2's: \n",
      "\n",
      " [[   0    0 1218]\n",
      " [   0    0   84]\n",
      " [   0    0    0]]\n"
     ]
    }
   ],
   "source": [
    "# What happens when we just predict class 2 for everything? \n",
    "print(\"Confusion matrix for silly model where we predict all 2's: \\n\\n\", \\\n",
    "      confusion_matrix(y_test, [2]*len(y_test)))"
   ]
  },
  {
   "cell_type": "code",
   "execution_count": 61,
   "id": "f07026b4",
   "metadata": {},
   "outputs": [
    {
     "data": {
      "image/png": "[encoded data removed]",
      "text/plain": [
       "<Figure size 480x320 with 2 Axes>"
      ]
     },
     "metadata": {
      "needs_background": "light"
     },
     "output_type": "display_data"
    }
   ],
   "source": [
    "make_confusion_matrix(knn)"
   ]
  },
  {
   "cell_type": "code",
   "execution_count": 62,
   "id": "242a2ca4",
   "metadata": {},
   "outputs": [
    {
     "data": {
      "image/png": "[encoded data removed]",
      "text/plain": [
       "<Figure size 480x320 with 2 Axes>"
      ]
     },
     "metadata": {
      "needs_background": "light"
     },
     "output_type": "display_data"
    }
   ],
   "source": [
    "make_confusion_matrix(lm)"
   ]
  },
  {
   "cell_type": "markdown",
   "id": "7b9810d5",
   "metadata": {},
   "source": [
    "### Precision & Recall"
   ]
  },
  {
   "cell_type": "code",
   "execution_count": 63,
   "id": "53e57dec",
   "metadata": {},
   "outputs": [
    {
     "name": "stdout",
     "output_type": "stream",
     "text": [
      "Default threshold:\n",
      "Precision: 0.0000,   Recall: 0.0000\n"
     ]
    },
    {
     "name": "stderr",
     "output_type": "stream",
     "text": [
      "/Users/amirreza/opt/anaconda3/envs/metis/lib/python3.8/site-packages/sklearn/metrics/_classification.py:1248: UndefinedMetricWarning: Precision is ill-defined and being set to 0.0 due to no predicted samples. Use `zero_division` parameter to control this behavior.\n",
      "  _warn_prf(average, modifier, msg_start, len(result))\n"
     ]
    }
   ],
   "source": [
    "# using the default threshold of 0.5, which is what vanilla predict does\n",
    "y_predict = lm.predict(X_te)\n",
    "print(\"Default threshold:\")\n",
    "print(\"Precision: {:6.4f},   Recall: {:6.4f}\".format(precision_score(y_test, y_predict), \n",
    "                                                     recall_score(y_test, y_predict)))"
   ]
  },
  {
   "cell_type": "code",
   "execution_count": 64,
   "id": "18d0b081",
   "metadata": {},
   "outputs": [
    {
     "name": "stdout",
     "output_type": "stream",
     "text": [
      "Threshold of 0.06:\n",
      "Precision: 0.1279,   Recall: 0.6667\n"
     ]
    }
   ],
   "source": [
    "# using the new threshold of 0.06\n",
    "y_predict = (lm.predict_proba(X_te)[:,1] > 0.06)\n",
    "print(\"Threshold of 0.06:\")\n",
    "print(\"Precision: {:6.4f},   Recall: {:6.4f}\".format(precision_score(y_test, y_predict), \n",
    "                                                     recall_score(y_test, y_predict)))"
   ]
  },
  {
   "cell_type": "code",
   "execution_count": 65,
   "id": "b879f67d",
   "metadata": {},
   "outputs": [
    {
     "name": "stdout",
     "output_type": "stream",
     "text": [
      "Threshold of 0.75:\n",
      "Precision: 0.0000,   Recall: 0.0000\n"
     ]
    },
    {
     "name": "stderr",
     "output_type": "stream",
     "text": [
      "/Users/amirreza/opt/anaconda3/envs/metis/lib/python3.8/site-packages/sklearn/metrics/_classification.py:1248: UndefinedMetricWarning: Precision is ill-defined and being set to 0.0 due to no predicted samples. Use `zero_division` parameter to control this behavior.\n",
      "  _warn_prf(average, modifier, msg_start, len(result))\n"
     ]
    }
   ],
   "source": [
    "# using the new threshold of 0.75\n",
    "y_predict = (lm.predict_proba(X_te)[:,1] > 0.975)\n",
    "print(\"Threshold of 0.75:\")\n",
    "print(\"Precision: {:6.4f},   Recall: {:6.4f}\".format(precision_score(y_test, y_predict), \n",
    "                                                     recall_score(y_test, y_predict)))"
   ]
  },
  {
   "cell_type": "code",
   "execution_count": 66,
   "id": "d795a032",
   "metadata": {},
   "outputs": [
    {
     "name": "stdout",
     "output_type": "stream",
     "text": [
      "Threshold of 0.18:\n",
      "Precision: 0.1910,   Recall: 0.2024\n"
     ]
    }
   ],
   "source": [
    "# using the new threshold of 0.18\n",
    "y_predict = (lm.predict_proba(X_te)[:,1] > 0.18)\n",
    "print(\"Threshold of 0.18:\")\n",
    "print(\"Precision: {:6.4f},   Recall: {:6.4f}\".format(precision_score(y_test, y_predict), \n",
    "                                                     recall_score(y_test, y_predict)))"
   ]
  },
  {
   "cell_type": "code",
   "execution_count": 67,
   "id": "1beadfa2",
   "metadata": {},
   "outputs": [
    {
     "name": "stdout",
     "output_type": "stream",
     "text": [
      "Threshold of 0.02:\n",
      "Precision: 0.0645,   Recall: 1.0000\n"
     ]
    }
   ],
   "source": [
    "# using the new threshold of 0.02\n",
    "y_predict = (lm.predict_proba(X_te)[:,1] > 0.00)\n",
    "print(\"Threshold of 0.02:\")\n",
    "print(\"Precision: {:6.4f},   Recall: {:6.4f}\".format(precision_score(y_test, y_predict), \n",
    "                                                     recall_score(y_test, y_predict)))"
   ]
  },
  {
   "cell_type": "code",
   "execution_count": 68,
   "id": "9a4da865",
   "metadata": {},
   "outputs": [
    {
     "data": {
      "image/png": "[encoded data removed]",
      "text/plain": [
       "<Figure size 480x320 with 1 Axes>"
      ]
     },
     "metadata": {
      "needs_background": "light"
     },
     "output_type": "display_data"
    }
   ],
   "source": [
    "# We can also use the probabilities to make a curve showing us how recall \n",
    "# and thresholds trade off \n",
    "from sklearn.metrics import precision_score, recall_score, precision_recall_curve,f1_score, fbeta_score\n",
    "precision_curve, recall_curve, threshold_curve = precision_recall_curve(y_test, lm.predict_proba(X_te)[:,1] )\n",
    "\n",
    "plt.figure(dpi=80)\n",
    "plt.plot(threshold_curve, precision_curve[1:],label='precision')\n",
    "plt.plot(threshold_curve, recall_curve[1:], label='recall')\n",
    "plt.legend(loc='lower left')\n",
    "plt.xlabel('Threshold (above this probability, label as fraud)');\n",
    "plt.title('Precision and Recall Curves');"
   ]
  },
  {
   "cell_type": "code",
   "execution_count": 69,
   "id": "5bc3f664",
   "metadata": {},
   "outputs": [
    {
     "data": {
      "image/png": "[encoded data removed]",
      "text/plain": [
       "<Figure size 480x320 with 1 Axes>"
      ]
     },
     "metadata": {
      "needs_background": "light"
     },
     "output_type": "display_data"
    }
   ],
   "source": [
    "plt.figure(dpi=80)\n",
    "plt.plot(recall_curve[1:], precision_curve[1:],label='precision')\n",
    "plt.xlabel(\"Recall\")\n",
    "plt.ylabel(\"Precision\")\n",
    "plt.title(\"Precision-Recall Curve\");"
   ]
  },
  {
   "cell_type": "markdown",
   "id": "1c1076b3",
   "metadata": {},
   "source": [
    "### ROC Curve"
   ]
  },
  {
   "cell_type": "code",
   "execution_count": 70,
   "id": "a8e9ee52",
   "metadata": {},
   "outputs": [],
   "source": [
    "# Precision = TP / (TP + FP)\n",
    "# Recall = TP/P = True positive rate\n",
    "# false positive rate = FP / true negatives = FP / (FP + TN) \n",
    "from sklearn.metrics import roc_auc_score, roc_curve\n",
    "\n",
    "fpr, tpr, thresholds = roc_curve(y_test, lm.predict_proba(X_te)[:,1])"
   ]
  },
  {
   "cell_type": "code",
   "execution_count": 71,
   "id": "987e0238",
   "metadata": {},
   "outputs": [
    {
     "name": "stdout",
     "output_type": "stream",
     "text": [
      "ROC AUC score =  0.7491692079130502\n"
     ]
    },
    {
     "data": {
      "image/png": "[encoded data removed]",
      "text/plain": [
       "<Figure size 432x288 with 1 Axes>"
      ]
     },
     "metadata": {
      "needs_background": "light"
     },
     "output_type": "display_data"
    }
   ],
   "source": [
    "plt.plot(fpr, tpr,lw=2)\n",
    "plt.plot([0,1],[0,1],c='violet',ls='--')\n",
    "plt.xlim([-0.05,1.05])\n",
    "plt.ylim([-0.05,1.05])\n",
    "\n",
    "\n",
    "plt.xlabel('False positive rate')\n",
    "plt.ylabel('True positive rate')\n",
    "plt.title('ROC curve for fraud problem');\n",
    "print(\"ROC AUC score = \", roc_auc_score(y_test, lm.predict_proba(X_te)[:,1]))"
   ]
  },
  {
   "cell_type": "markdown",
   "id": "b33f5b9f",
   "metadata": {},
   "source": [
    "### Log Loss Cross-Entropy"
   ]
  },
  {
   "cell_type": "code",
   "execution_count": 72,
   "id": "b7f8d179",
   "metadata": {},
   "outputs": [
    {
     "name": "stdout",
     "output_type": "stream",
     "text": [
      "Log-loss on logit: 0.2158\n"
     ]
    }
   ],
   "source": [
    "from sklearn.metrics import log_loss\n",
    "\n",
    "print(\"Log-loss on logit: {:6.4f}\".format(log_loss(y_test, lm.predict_proba(X_te))))"
   ]
  },
  {
   "cell_type": "code",
   "execution_count": 73,
   "id": "dfec12e0",
   "metadata": {},
   "outputs": [
    {
     "name": "stdout",
     "output_type": "stream",
     "text": [
      "Log-loss on dummy classifier: 0.2393\n"
     ]
    }
   ],
   "source": [
    "from sklearn.dummy import DummyClassifier\n",
    "\n",
    "dc = DummyClassifier()\n",
    "dc.fit(X_tr, y_train)\n",
    "print(\"Log-loss on dummy classifier: {:6.4f}\".format(log_loss(y_test, dc.predict_proba(X_te))))"
   ]
  },
  {
   "cell_type": "code",
   "execution_count": 74,
   "id": "03d42ebf",
   "metadata": {},
   "outputs": [
    {
     "name": "stdout",
     "output_type": "stream",
     "text": [
      "Logistic accuracy: 0.9355\n",
      "Dummy accuracy: 0.9355\n"
     ]
    }
   ],
   "source": [
    "print(\"Logistic accuracy: {:6.4f}\".format(lm.score(X_te, y_test)))\n",
    "print(\"Dummy accuracy: {:6.4f}\".format(dc.score(X_te, y_test)))"
   ]
  },
  {
   "cell_type": "code",
   "execution_count": null,
   "id": "0dfff0f5",
   "metadata": {},
   "outputs": [],
   "source": []
  },
  {
   "cell_type": "code",
   "execution_count": 75,
   "id": "152122b4",
   "metadata": {},
   "outputs": [
    {
     "data": {
      "text/plain": [
       "\"# Print confusion matrix for kNN\\nknn_confusion = confusion_matrix(y_test, knn.predict(X_te))\\nplt.figure(dpi=150)\\nsns.heatmap(knn_confusion, cmap=plt.cm.Blues, annot=True, square=True,\\n           xticklabels=df_normalized['Star Client'],\\n           yticklabels=df_normalized['Star Client'])\\n\\nplt.xlabel('Predicted Star Lead')\\nplt.ylabel('Actual Star Lead')\\nplt.title('kNN confusion matrix');\""
      ]
     },
     "execution_count": 75,
     "metadata": {},
     "output_type": "execute_result"
    }
   ],
   "source": [
    "'''# Print confusion matrix for kNN\n",
    "knn_confusion = confusion_matrix(y_test, knn.predict(X_te))\n",
    "plt.figure(dpi=150)\n",
    "sns.heatmap(knn_confusion, cmap=plt.cm.Blues, annot=True, square=True,\n",
    "           xticklabels=df_normalized['Star Client'],\n",
    "           yticklabels=df_normalized['Star Client'])\n",
    "\n",
    "plt.xlabel('Predicted Star Lead')\n",
    "plt.ylabel('Actual Star Lead')\n",
    "plt.title('kNN confusion matrix');'''"
   ]
  },
  {
   "cell_type": "code",
   "execution_count": 76,
   "id": "d4061f96",
   "metadata": {},
   "outputs": [],
   "source": [
    "#df['Client'] = df['Star Client'].apply(lambda x: 'Star' if x == 1 else 'Regular')"
   ]
  },
  {
   "cell_type": "markdown",
   "id": "20d386ad",
   "metadata": {},
   "source": [
    "### Cross Validation"
   ]
  },
  {
   "cell_type": "code",
   "execution_count": 77,
   "id": "0719ae28",
   "metadata": {},
   "outputs": [],
   "source": [
    "from sklearn.model_selection import cross_val_score"
   ]
  },
  {
   "cell_type": "code",
   "execution_count": 78,
   "id": "6299ff6e",
   "metadata": {},
   "outputs": [
    {
     "name": "stdout",
     "output_type": "stream",
     "text": [
      "[0.93394777 0.93701997 0.93548387 0.93394777 0.93855607 0.93855607\n",
      " 0.93548387 0.93548387 0.93087558 0.93394777]\n"
     ]
    }
   ],
   "source": [
    "# 10-fold cross-validation with K=5 for KNN (the n_neighbors parameter)\n",
    "knn = KNeighborsClassifier(n_neighbors=5)\n",
    "scores = cross_val_score(knn, X, y, cv=10, scoring='accuracy')\n",
    "\n",
    "print(scores)"
   ]
  },
  {
   "cell_type": "code",
   "execution_count": 79,
   "id": "e2eddd9d",
   "metadata": {},
   "outputs": [
    {
     "name": "stdout",
     "output_type": "stream",
     "text": [
      "0.9353302611367129\n"
     ]
    }
   ],
   "source": [
    "# use average accuracy as an estimate of out-of-sample accuracy\n",
    "print(scores.mean())"
   ]
  },
  {
   "cell_type": "code",
   "execution_count": 80,
   "id": "d0d2b7be",
   "metadata": {},
   "outputs": [],
   "source": [
    "# search for an optimal value of K for KNN\n",
    "k_range = list(range(1, 31))\n",
    "k_scores = []\n",
    "\n",
    "for k in k_range:\n",
    "    knn = KNeighborsClassifier(n_neighbors=k)\n",
    "    scores = cross_val_score(knn, X, y, cv=10, scoring='accuracy')\n",
    "    k_scores.append(scores.mean())"
   ]
  },
  {
   "cell_type": "code",
   "execution_count": 81,
   "id": "c1bb06be",
   "metadata": {},
   "outputs": [
    {
     "data": {
      "image/png": "[encoded data removed]",
      "text/plain": [
       "<Figure size 432x288 with 1 Axes>"
      ]
     },
     "metadata": {
      "needs_background": "light"
     },
     "output_type": "display_data"
    }
   ],
   "source": [
    "# plot the value of K for KNN (x-axis) versus the cross-validated accuracy (y-axis)\n",
    "plt.plot(k_range, k_scores)\n",
    "plt.xlabel('Value of K for KNN')\n",
    "plt.ylabel('Cross-Validated Accuracy');"
   ]
  },
  {
   "cell_type": "markdown",
   "id": "5c464f86",
   "metadata": {},
   "source": [
    "### GridSearchCV"
   ]
  },
  {
   "cell_type": "code",
   "execution_count": 82,
   "id": "24fd75e4",
   "metadata": {},
   "outputs": [],
   "source": [
    "from sklearn.model_selection import GridSearchCV"
   ]
  },
  {
   "cell_type": "code",
   "execution_count": 83,
   "id": "22ddfd28",
   "metadata": {},
   "outputs": [],
   "source": [
    "# define the parameter values that should be searched\n",
    "k_range = list(range(1, 100))"
   ]
  },
  {
   "cell_type": "code",
   "execution_count": 84,
   "id": "8c96d7bb",
   "metadata": {},
   "outputs": [],
   "source": [
    "# create a parameter grid: map the parameter names to the values that should be searched\n",
    "param_grid = dict(n_neighbors=k_range)"
   ]
  },
  {
   "cell_type": "code",
   "execution_count": 85,
   "id": "132a191a",
   "metadata": {},
   "outputs": [],
   "source": [
    "# instantiate the grid\n",
    "grid = GridSearchCV(knn, param_grid, cv=10, scoring='accuracy')"
   ]
  },
  {
   "cell_type": "code",
   "execution_count": 86,
   "id": "f4fd5ffc",
   "metadata": {},
   "outputs": [],
   "source": [
    "# fit the grid with data\n",
    "grid.fit(X, y);"
   ]
  },
  {
   "cell_type": "code",
   "execution_count": 87,
   "id": "a2d1046c",
   "metadata": {},
   "outputs": [
    {
     "data": {
      "text/html": [
       "<div>\n",
       "<style scoped>\n",
       "    .dataframe tbody tr th:only-of-type {\n",
       "        vertical-align: middle;\n",
       "    }\n",
       "\n",
       "    .dataframe tbody tr th {\n",
       "        vertical-align: top;\n",
       "    }\n",
       "\n",
       "    .dataframe thead th {\n",
       "        text-align: right;\n",
       "    }\n",
       "</style>\n",
       "<table border=\"1\" class=\"dataframe\">\n",
       "  <thead>\n",
       "    <tr style=\"text-align: right;\">\n",
       "      <th></th>\n",
       "      <th>mean_fit_time</th>\n",
       "      <th>std_fit_time</th>\n",
       "      <th>mean_score_time</th>\n",
       "      <th>std_score_time</th>\n",
       "      <th>param_n_neighbors</th>\n",
       "      <th>params</th>\n",
       "      <th>split0_test_score</th>\n",
       "      <th>split1_test_score</th>\n",
       "      <th>split2_test_score</th>\n",
       "      <th>split3_test_score</th>\n",
       "      <th>split4_test_score</th>\n",
       "      <th>split5_test_score</th>\n",
       "      <th>split6_test_score</th>\n",
       "      <th>split7_test_score</th>\n",
       "      <th>split8_test_score</th>\n",
       "      <th>split9_test_score</th>\n",
       "      <th>mean_test_score</th>\n",
       "      <th>std_test_score</th>\n",
       "      <th>rank_test_score</th>\n",
       "    </tr>\n",
       "  </thead>\n",
       "  <tbody>\n",
       "    <tr>\n",
       "      <th>0</th>\n",
       "      <td>0.003767</td>\n",
       "      <td>0.001689</td>\n",
       "      <td>0.056167</td>\n",
       "      <td>0.009387</td>\n",
       "      <td>1</td>\n",
       "      <td>{'n_neighbors': 1}</td>\n",
       "      <td>0.857143</td>\n",
       "      <td>0.864823</td>\n",
       "      <td>0.872504</td>\n",
       "      <td>0.858679</td>\n",
       "      <td>0.883257</td>\n",
       "      <td>0.855607</td>\n",
       "      <td>0.866359</td>\n",
       "      <td>0.877112</td>\n",
       "      <td>0.883257</td>\n",
       "      <td>0.889401</td>\n",
       "      <td>0.870814</td>\n",
       "      <td>0.011484</td>\n",
       "      <td>99</td>\n",
       "    </tr>\n",
       "    <tr>\n",
       "      <th>1</th>\n",
       "      <td>0.003988</td>\n",
       "      <td>0.001240</td>\n",
       "      <td>0.073947</td>\n",
       "      <td>0.017712</td>\n",
       "      <td>2</td>\n",
       "      <td>{'n_neighbors': 2}</td>\n",
       "      <td>0.926267</td>\n",
       "      <td>0.933948</td>\n",
       "      <td>0.937020</td>\n",
       "      <td>0.933948</td>\n",
       "      <td>0.930876</td>\n",
       "      <td>0.921659</td>\n",
       "      <td>0.932412</td>\n",
       "      <td>0.933948</td>\n",
       "      <td>0.937020</td>\n",
       "      <td>0.932412</td>\n",
       "      <td>0.931951</td>\n",
       "      <td>0.004507</td>\n",
       "      <td>97</td>\n",
       "    </tr>\n",
       "    <tr>\n",
       "      <th>2</th>\n",
       "      <td>0.003511</td>\n",
       "      <td>0.000644</td>\n",
       "      <td>0.073815</td>\n",
       "      <td>0.013477</td>\n",
       "      <td>3</td>\n",
       "      <td>{'n_neighbors': 3}</td>\n",
       "      <td>0.920123</td>\n",
       "      <td>0.927803</td>\n",
       "      <td>0.927803</td>\n",
       "      <td>0.923195</td>\n",
       "      <td>0.924731</td>\n",
       "      <td>0.915515</td>\n",
       "      <td>0.920123</td>\n",
       "      <td>0.921659</td>\n",
       "      <td>0.909370</td>\n",
       "      <td>0.917051</td>\n",
       "      <td>0.920737</td>\n",
       "      <td>0.005418</td>\n",
       "      <td>98</td>\n",
       "    </tr>\n",
       "    <tr>\n",
       "      <th>3</th>\n",
       "      <td>0.003501</td>\n",
       "      <td>0.000736</td>\n",
       "      <td>0.093415</td>\n",
       "      <td>0.019009</td>\n",
       "      <td>4</td>\n",
       "      <td>{'n_neighbors': 4}</td>\n",
       "      <td>0.935484</td>\n",
       "      <td>0.935484</td>\n",
       "      <td>0.937020</td>\n",
       "      <td>0.938556</td>\n",
       "      <td>0.938556</td>\n",
       "      <td>0.937020</td>\n",
       "      <td>0.937020</td>\n",
       "      <td>0.937020</td>\n",
       "      <td>0.938556</td>\n",
       "      <td>0.937020</td>\n",
       "      <td>0.937174</td>\n",
       "      <td>0.001075</td>\n",
       "      <td>95</td>\n",
       "    </tr>\n",
       "    <tr>\n",
       "      <th>4</th>\n",
       "      <td>0.004365</td>\n",
       "      <td>0.001243</td>\n",
       "      <td>0.103671</td>\n",
       "      <td>0.019702</td>\n",
       "      <td>5</td>\n",
       "      <td>{'n_neighbors': 5}</td>\n",
       "      <td>0.933948</td>\n",
       "      <td>0.937020</td>\n",
       "      <td>0.935484</td>\n",
       "      <td>0.933948</td>\n",
       "      <td>0.938556</td>\n",
       "      <td>0.938556</td>\n",
       "      <td>0.935484</td>\n",
       "      <td>0.935484</td>\n",
       "      <td>0.930876</td>\n",
       "      <td>0.933948</td>\n",
       "      <td>0.935330</td>\n",
       "      <td>0.002221</td>\n",
       "      <td>96</td>\n",
       "    </tr>\n",
       "  </tbody>\n",
       "</table>\n",
       "</div>"
      ],
      "text/plain": [
       "   mean_fit_time  std_fit_time  mean_score_time  std_score_time  \\\n",
       "0       0.003767      0.001689         0.056167        0.009387   \n",
       "1       0.003988      0.001240         0.073947        0.017712   \n",
       "2       0.003511      0.000644         0.073815        0.013477   \n",
       "3       0.003501      0.000736         0.093415        0.019009   \n",
       "4       0.004365      0.001243         0.103671        0.019702   \n",
       "\n",
       "  param_n_neighbors              params  split0_test_score  split1_test_score  \\\n",
       "0                 1  {'n_neighbors': 1}           0.857143           0.864823   \n",
       "1                 2  {'n_neighbors': 2}           0.926267           0.933948   \n",
       "2                 3  {'n_neighbors': 3}           0.920123           0.927803   \n",
       "3                 4  {'n_neighbors': 4}           0.935484           0.935484   \n",
       "4                 5  {'n_neighbors': 5}           0.933948           0.937020   \n",
       "\n",
       "   split2_test_score  split3_test_score  split4_test_score  split5_test_score  \\\n",
       "0           0.872504           0.858679           0.883257           0.855607   \n",
       "1           0.937020           0.933948           0.930876           0.921659   \n",
       "2           0.927803           0.923195           0.924731           0.915515   \n",
       "3           0.937020           0.938556           0.938556           0.937020   \n",
       "4           0.935484           0.933948           0.938556           0.938556   \n",
       "\n",
       "   split6_test_score  split7_test_score  split8_test_score  split9_test_score  \\\n",
       "0           0.866359           0.877112           0.883257           0.889401   \n",
       "1           0.932412           0.933948           0.937020           0.932412   \n",
       "2           0.920123           0.921659           0.909370           0.917051   \n",
       "3           0.937020           0.937020           0.938556           0.937020   \n",
       "4           0.935484           0.935484           0.930876           0.933948   \n",
       "\n",
       "   mean_test_score  std_test_score  rank_test_score  \n",
       "0         0.870814        0.011484               99  \n",
       "1         0.931951        0.004507               97  \n",
       "2         0.920737        0.005418               98  \n",
       "3         0.937174        0.001075               95  \n",
       "4         0.935330        0.002221               96  "
      ]
     },
     "execution_count": 87,
     "metadata": {},
     "output_type": "execute_result"
    }
   ],
   "source": [
    "# view the complete results\n",
    "df_cv = pd.DataFrame(grid.cv_results_)\n",
    "df_cv.head()"
   ]
  },
  {
   "cell_type": "code",
   "execution_count": 88,
   "id": "8f974c56",
   "metadata": {},
   "outputs": [
    {
     "name": "stdout",
     "output_type": "stream",
     "text": [
      "Best params:  {'n_neighbors': 12}\n",
      "Best estimator:  KNeighborsClassifier(n_neighbors=12)\n",
      "Best score:  0.9377880184331795\n"
     ]
    }
   ],
   "source": [
    "# examine the best model\n",
    "print(\"Best params: \", grid.best_params_)\n",
    "print(\"Best estimator: \", grid.best_estimator_)\n",
    "print(\"Best score: \", grid.best_score_)"
   ]
  },
  {
   "cell_type": "markdown",
   "id": "c42900c1",
   "metadata": {},
   "source": [
    "## Class Imbalance "
   ]
  },
  {
   "cell_type": "markdown",
   "id": "18fd664b",
   "metadata": {},
   "source": [
    "### Oversampling"
   ]
  },
  {
   "cell_type": "code",
   "execution_count": 89,
   "id": "bd1dcbbd",
   "metadata": {},
   "outputs": [],
   "source": [
    "#Split the data 60 - 20 - 20 train/val/test\n",
    "\n",
    "#X_train_val, X_test, y_train_val, y_test = train_test_split(X, y, test_size=0.2,random_state=42)\n",
    "#X_train, X_val, y_train, y_val = train_test_split(X_train_val, y_train_val, test_size=.25, random_state=43)"
   ]
  },
  {
   "cell_type": "code",
   "execution_count": 90,
   "id": "540a7e98",
   "metadata": {},
   "outputs": [
    {
     "name": "stdout",
     "output_type": "stream",
     "text": [
      "Simple Logistic Regression; Test F1: 0.000, Test AUC: 0.793\n",
      "Logistic Regression on Oversampled Train Data; Test F1: 0.162, Test AUC: 0.798\n"
     ]
    }
   ],
   "source": [
    "import imblearn.over_sampling\n",
    "\n",
    "# setup for the ratio argument of RandomOverSampler initialization\n",
    "n_pos = np.sum(y_train == 1)\n",
    "n_neg = np.sum(y_train == 0)\n",
    "ratio = {1 : n_pos * 4, 0 : n_neg} \n",
    "\n",
    "# randomly oversample positive samples: create 4x as many \n",
    "ROS = imblearn.over_sampling.RandomOverSampler(sampling_strategy = ratio, random_state=42) \n",
    "    \n",
    "X_tr_rs, y_tr_rs = ROS.fit_resample(X_train, y_train)\n",
    "\n",
    "lr = LogisticRegression(solver='liblinear') \n",
    "lr.fit(X_train, y_train)\n",
    "\n",
    "print('Simple Logistic Regression; Test F1: %.3f, Test AUC: %.3f' % \\\n",
    "      (f1_score(y_val, lr.predict(X_val)), roc_auc_score(y_val, lr.predict_proba(X_val)[:,1]))) \n",
    "\n",
    "lr_os = LogisticRegression(solver='liblinear') \n",
    "lr_os.fit(X_tr_rs, y_tr_rs)\n",
    "\n",
    "print('Logistic Regression on Oversampled Train Data; Test F1: %.3f, Test AUC: %.3f' % \\\n",
    "      (f1_score(y_val, lr_os.predict(X_val)), roc_auc_score(y_val, lr_os.predict_proba(X_val)[:,1])))"
   ]
  },
  {
   "cell_type": "markdown",
   "id": "45e1ef99",
   "metadata": {},
   "source": [
    "### SMOTE"
   ]
  },
  {
   "cell_type": "code",
   "execution_count": 91,
   "id": "f782fec9",
   "metadata": {},
   "outputs": [
    {
     "name": "stdout",
     "output_type": "stream",
     "text": [
      "Logistic Regression on SMOTE Train Data; Test F1: 0.000, Test AUC: 0.810\n"
     ]
    }
   ],
   "source": [
    "smote = imblearn.over_sampling.SMOTE(sampling_strategy=ratio, random_state = 42)\n",
    "    \n",
    "X_tr_smote, y_tr_smote = smote.fit_resample(X_train, y_train)\n",
    "\n",
    "lr_smote = LogisticRegression(solver='liblinear') \n",
    "lr_smote.fit(X_tr_smote, y_tr_smote)\n",
    "\n",
    "print('Logistic Regression on SMOTE Train Data; Test F1: %.3f, Test AUC: %.3f' % \\\n",
    "      (f1_score(y_val, lr_smote.predict(X_val)), roc_auc_score(y_val, lr_smote.predict_proba(X_val)[:,1])))"
   ]
  },
  {
   "cell_type": "code",
   "execution_count": null,
   "id": "b232db0b",
   "metadata": {},
   "outputs": [],
   "source": []
  }
 ],
 "metadata": {
  "kernelspec": {
   "display_name": "Python [conda env:metis] *",
   "language": "python",
   "name": "conda-env-metis-py"
  },
  "language_info": {
   "codemirror_mode": {
    "name": "ipython",
    "version": 3
   },
   "file_extension": ".py",
   "mimetype": "text/x-python",
   "name": "python",
   "nbconvert_exporter": "python",
   "pygments_lexer": "ipython3",
   "version": "3.8.10"
  }
 },
 "nbformat": 4,
 "nbformat_minor": 5
}
